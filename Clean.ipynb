{
 "cells": [
  {
   "cell_type": "code",
   "execution_count": 1,
   "metadata": {
    "collapsed": true
   },
   "outputs": [],
   "source": [
    "# Data Analysis and Wrangling \n",
    "import numpy as np\n",
    "import pandas as pd\n",
    "import random as rnd\n",
    "from datetime import date\n",
    "import re\n",
    "\n",
    "# Visualization\n",
    "import seaborn as sns\n",
    "import matplotlib.pyplot as plt\n",
    "%matplotlib inline\n",
    "\n"
   ]
  },
  {
   "cell_type": "code",
   "execution_count": 92,
   "metadata": {
    "collapsed": true
   },
   "outputs": [],
   "source": [
    "# Aquire Data\n",
    "\n",
    "train_df = pd.read_csv('train.csv')\n",
    "test_df = pd.read_csv('test.csv')\n",
    "combine = [train_df,test_df]"
   ]
  },
  {
   "cell_type": "code",
   "execution_count": 62,
   "metadata": {},
   "outputs": [
    {
     "data": {
      "text/html": [
       "<div>\n",
       "<style>\n",
       "    .dataframe thead tr:only-child th {\n",
       "        text-align: right;\n",
       "    }\n",
       "\n",
       "    .dataframe thead th {\n",
       "        text-align: left;\n",
       "    }\n",
       "\n",
       "    .dataframe tbody tr th {\n",
       "        vertical-align: top;\n",
       "    }\n",
       "</style>\n",
       "<table border=\"1\" class=\"dataframe\">\n",
       "  <thead>\n",
       "    <tr style=\"text-align: right;\">\n",
       "      <th></th>\n",
       "      <th>UniqueID</th>\n",
       "      <th>disbursed_amount</th>\n",
       "      <th>asset_cost</th>\n",
       "      <th>ltv</th>\n",
       "      <th>branch_id</th>\n",
       "      <th>supplier_id</th>\n",
       "      <th>manufacturer_id</th>\n",
       "      <th>Current_pincode_ID</th>\n",
       "      <th>Date.of.Birth</th>\n",
       "      <th>Employment.Type</th>\n",
       "      <th>...</th>\n",
       "      <th>SEC.SANCTIONED.AMOUNT</th>\n",
       "      <th>SEC.DISBURSED.AMOUNT</th>\n",
       "      <th>PRIMARY.INSTAL.AMT</th>\n",
       "      <th>SEC.INSTAL.AMT</th>\n",
       "      <th>NEW.ACCTS.IN.LAST.SIX.MONTHS</th>\n",
       "      <th>DELINQUENT.ACCTS.IN.LAST.SIX.MONTHS</th>\n",
       "      <th>AVERAGE.ACCT.AGE</th>\n",
       "      <th>CREDIT.HISTORY.LENGTH</th>\n",
       "      <th>NO.OF_INQUIRIES</th>\n",
       "      <th>loan_default</th>\n",
       "    </tr>\n",
       "  </thead>\n",
       "  <tbody>\n",
       "    <tr>\n",
       "      <th>0</th>\n",
       "      <td>420825</td>\n",
       "      <td>50578</td>\n",
       "      <td>58400</td>\n",
       "      <td>89.55</td>\n",
       "      <td>67</td>\n",
       "      <td>22807</td>\n",
       "      <td>45</td>\n",
       "      <td>1441</td>\n",
       "      <td>01-01-84</td>\n",
       "      <td>Salaried</td>\n",
       "      <td>...</td>\n",
       "      <td>0</td>\n",
       "      <td>0</td>\n",
       "      <td>0</td>\n",
       "      <td>0</td>\n",
       "      <td>0</td>\n",
       "      <td>0</td>\n",
       "      <td>0yrs 0mon</td>\n",
       "      <td>0yrs 0mon</td>\n",
       "      <td>0</td>\n",
       "      <td>0</td>\n",
       "    </tr>\n",
       "    <tr>\n",
       "      <th>1</th>\n",
       "      <td>537409</td>\n",
       "      <td>47145</td>\n",
       "      <td>65550</td>\n",
       "      <td>73.23</td>\n",
       "      <td>67</td>\n",
       "      <td>22807</td>\n",
       "      <td>45</td>\n",
       "      <td>1502</td>\n",
       "      <td>31-07-85</td>\n",
       "      <td>Self employed</td>\n",
       "      <td>...</td>\n",
       "      <td>0</td>\n",
       "      <td>0</td>\n",
       "      <td>1991</td>\n",
       "      <td>0</td>\n",
       "      <td>0</td>\n",
       "      <td>1</td>\n",
       "      <td>1yrs 11mon</td>\n",
       "      <td>1yrs 11mon</td>\n",
       "      <td>0</td>\n",
       "      <td>1</td>\n",
       "    </tr>\n",
       "    <tr>\n",
       "      <th>2</th>\n",
       "      <td>417566</td>\n",
       "      <td>53278</td>\n",
       "      <td>61360</td>\n",
       "      <td>89.63</td>\n",
       "      <td>67</td>\n",
       "      <td>22807</td>\n",
       "      <td>45</td>\n",
       "      <td>1497</td>\n",
       "      <td>24-08-85</td>\n",
       "      <td>Self employed</td>\n",
       "      <td>...</td>\n",
       "      <td>0</td>\n",
       "      <td>0</td>\n",
       "      <td>0</td>\n",
       "      <td>0</td>\n",
       "      <td>0</td>\n",
       "      <td>0</td>\n",
       "      <td>0yrs 0mon</td>\n",
       "      <td>0yrs 0mon</td>\n",
       "      <td>0</td>\n",
       "      <td>0</td>\n",
       "    </tr>\n",
       "    <tr>\n",
       "      <th>3</th>\n",
       "      <td>624493</td>\n",
       "      <td>57513</td>\n",
       "      <td>66113</td>\n",
       "      <td>88.48</td>\n",
       "      <td>67</td>\n",
       "      <td>22807</td>\n",
       "      <td>45</td>\n",
       "      <td>1501</td>\n",
       "      <td>30-12-93</td>\n",
       "      <td>Self employed</td>\n",
       "      <td>...</td>\n",
       "      <td>0</td>\n",
       "      <td>0</td>\n",
       "      <td>31</td>\n",
       "      <td>0</td>\n",
       "      <td>0</td>\n",
       "      <td>0</td>\n",
       "      <td>0yrs 8mon</td>\n",
       "      <td>1yrs 3mon</td>\n",
       "      <td>1</td>\n",
       "      <td>1</td>\n",
       "    </tr>\n",
       "    <tr>\n",
       "      <th>4</th>\n",
       "      <td>539055</td>\n",
       "      <td>52378</td>\n",
       "      <td>60300</td>\n",
       "      <td>88.39</td>\n",
       "      <td>67</td>\n",
       "      <td>22807</td>\n",
       "      <td>45</td>\n",
       "      <td>1495</td>\n",
       "      <td>09-12-77</td>\n",
       "      <td>Self employed</td>\n",
       "      <td>...</td>\n",
       "      <td>0</td>\n",
       "      <td>0</td>\n",
       "      <td>0</td>\n",
       "      <td>0</td>\n",
       "      <td>0</td>\n",
       "      <td>0</td>\n",
       "      <td>0yrs 0mon</td>\n",
       "      <td>0yrs 0mon</td>\n",
       "      <td>1</td>\n",
       "      <td>1</td>\n",
       "    </tr>\n",
       "  </tbody>\n",
       "</table>\n",
       "<p>5 rows × 41 columns</p>\n",
       "</div>"
      ],
      "text/plain": [
       "   UniqueID  disbursed_amount  asset_cost    ltv  branch_id  supplier_id  \\\n",
       "0    420825             50578       58400  89.55         67        22807   \n",
       "1    537409             47145       65550  73.23         67        22807   \n",
       "2    417566             53278       61360  89.63         67        22807   \n",
       "3    624493             57513       66113  88.48         67        22807   \n",
       "4    539055             52378       60300  88.39         67        22807   \n",
       "\n",
       "   manufacturer_id  Current_pincode_ID Date.of.Birth Employment.Type  \\\n",
       "0               45                1441      01-01-84        Salaried   \n",
       "1               45                1502      31-07-85   Self employed   \n",
       "2               45                1497      24-08-85   Self employed   \n",
       "3               45                1501      30-12-93   Self employed   \n",
       "4               45                1495      09-12-77   Self employed   \n",
       "\n",
       "       ...      SEC.SANCTIONED.AMOUNT  SEC.DISBURSED.AMOUNT  \\\n",
       "0      ...                          0                     0   \n",
       "1      ...                          0                     0   \n",
       "2      ...                          0                     0   \n",
       "3      ...                          0                     0   \n",
       "4      ...                          0                     0   \n",
       "\n",
       "   PRIMARY.INSTAL.AMT  SEC.INSTAL.AMT  NEW.ACCTS.IN.LAST.SIX.MONTHS  \\\n",
       "0                   0               0                             0   \n",
       "1                1991               0                             0   \n",
       "2                   0               0                             0   \n",
       "3                  31               0                             0   \n",
       "4                   0               0                             0   \n",
       "\n",
       "   DELINQUENT.ACCTS.IN.LAST.SIX.MONTHS  AVERAGE.ACCT.AGE  \\\n",
       "0                                    0         0yrs 0mon   \n",
       "1                                    1        1yrs 11mon   \n",
       "2                                    0         0yrs 0mon   \n",
       "3                                    0         0yrs 8mon   \n",
       "4                                    0         0yrs 0mon   \n",
       "\n",
       "   CREDIT.HISTORY.LENGTH  NO.OF_INQUIRIES  loan_default  \n",
       "0              0yrs 0mon                0             0  \n",
       "1             1yrs 11mon                0             1  \n",
       "2              0yrs 0mon                0             0  \n",
       "3              1yrs 3mon                1             1  \n",
       "4              0yrs 0mon                1             1  \n",
       "\n",
       "[5 rows x 41 columns]"
      ]
     },
     "execution_count": 62,
     "metadata": {},
     "output_type": "execute_result"
    }
   ],
   "source": [
    "train_df.head()\n",
    "# test_df.head()"
   ]
  },
  {
   "cell_type": "code",
   "execution_count": 63,
   "metadata": {
    "scrolled": true
   },
   "outputs": [
    {
     "name": "stdout",
     "output_type": "stream",
     "text": [
      "['UniqueID' 'disbursed_amount' 'asset_cost' 'ltv' 'branch_id'\n",
      " 'supplier_id' 'manufacturer_id' 'Current_pincode_ID' 'Date.of.Birth'\n",
      " 'Employment.Type' 'DisbursalDate' 'State_ID' 'Employee_code_ID'\n",
      " 'MobileNo_Avl_Flag' 'Aadhar_flag' 'PAN_flag' 'VoterID_flag'\n",
      " 'Driving_flag' 'Passport_flag' 'PERFORM_CNS.SCORE'\n",
      " 'PERFORM_CNS.SCORE.DESCRIPTION' 'PRI.NO.OF.ACCTS' 'PRI.ACTIVE.ACCTS'\n",
      " 'PRI.OVERDUE.ACCTS' 'PRI.CURRENT.BALANCE' 'PRI.SANCTIONED.AMOUNT'\n",
      " 'PRI.DISBURSED.AMOUNT' 'SEC.NO.OF.ACCTS' 'SEC.ACTIVE.ACCTS'\n",
      " 'SEC.OVERDUE.ACCTS' 'SEC.CURRENT.BALANCE' 'SEC.SANCTIONED.AMOUNT'\n",
      " 'SEC.DISBURSED.AMOUNT' 'PRIMARY.INSTAL.AMT' 'SEC.INSTAL.AMT'\n",
      " 'NEW.ACCTS.IN.LAST.SIX.MONTHS' 'DELINQUENT.ACCTS.IN.LAST.SIX.MONTHS'\n",
      " 'AVERAGE.ACCT.AGE' 'CREDIT.HISTORY.LENGTH' 'NO.OF_INQUIRIES'\n",
      " 'loan_default']\n"
     ]
    }
   ],
   "source": [
    "print (train_df.columns.values)"
   ]
  },
  {
   "cell_type": "code",
   "execution_count": 93,
   "metadata": {
    "collapsed": true
   },
   "outputs": [],
   "source": [
    "for dataset in combine:\n",
    "    dataset.rename(columns  = {\"Date.of.Birth\": \"Date_of_Birth\", \n",
    "                     \"Employment.Type\":\"Employment_Type\", \n",
    "                     \"PERFORM_CNS.SCORE.DESCRIPTION\": \"PERFORM_CNS_SCORE_DESCRIPTION\", \n",
    "                     \"PRI.NO.OF.ACCTS\":\"PRI_NO_OF_ACCTS\", \n",
    "                     \"PRI.ACTIVE.ACCTS\": \"PRI_ACTIVE_ACCTS\", \n",
    "                     \"PRI.OVERDUE.ACCTS\":\"PRI_OVERDUE_ACCTS\", \n",
    "                     \"PRI.CURRENT.BALANCE\": \"PRI_CURRENT_BALANCE\", \n",
    "                     \"SEC.NO.OF.ACCTS\":\"SEC_NO_OF_ACCTS\", \n",
    "                     \"SEC.ACTIVE.ACCTS\": \"SEC_ACTIVE_ACCTS\", \n",
    "                     \"SEC.OVERDUE.ACCTS\":\"SEC_OVERDUE_ACCTS\", \n",
    "                     \"PRIMARY.INSTAL.AMT\": \"PRIMARY_INSTAL_AMT\", \n",
    "                     \"NEW.ACCTS.IN.LAST.SIX.MONTHS\":\"NEW_ACCTS_IN_LAST_SIX_MONTHS\", \n",
    "                     \"DELINQUENT.ACCTS.IN.LAST.SIX.MONTHS\": \"DELINQUENT_ACCTS_IN_LAST_SIX_MONTHS\", \n",
    "                     \"AVERAGE.ACCT.AGE\":\"AVERAGE_ACCT_AGE\", \n",
    "                     \"CREDIT.HISTORY.LENGTH\": \"CREDIT_HISTORY_LENGTH\", \n",
    "                     \"NO.OF_INQUIRIES\":\"NO_OF_INQUIRIES\" } ,   \n",
    "                                 inplace = True)"
   ]
  },
  {
   "cell_type": "code",
   "execution_count": 70,
   "metadata": {},
   "outputs": [
    {
     "name": "stdout",
     "output_type": "stream",
     "text": [
      "['ltv' 'branch_id' 'manufacturer_id' 'Date_of_Birth' 'Employment_Type'\n",
      " 'State_ID' 'PERFORM_CNS_SCORE_DESCRIPTION' 'PRI_NO_OF_ACCTS'\n",
      " 'PRI_ACTIVE_ACCTS' 'PRI_OVERDUE_ACCTS' 'PRI_CURRENT_BALANCE'\n",
      " 'SEC_NO_OF_ACCTS' 'SEC_ACTIVE_ACCTS' 'SEC_OVERDUE_ACCTS'\n",
      " 'PRIMARY_INSTAL_AMT' 'NEW_ACCTS_IN_LAST_SIX_MONTHS'\n",
      " 'DELINQUENT_ACCTS_IN_LAST_SIX_MONTHS' 'AVERAGE_ACCT_AGE'\n",
      " 'CREDIT_HISTORY_LENGTH' 'NO_OF_INQUIRIES' 'loan_default']\n"
     ]
    }
   ],
   "source": [
    "print (train_df.columns.values)"
   ]
  },
  {
   "cell_type": "code",
   "execution_count": 66,
   "metadata": {},
   "outputs": [
    {
     "data": {
      "text/html": [
       "<div>\n",
       "<style>\n",
       "    .dataframe thead tr:only-child th {\n",
       "        text-align: right;\n",
       "    }\n",
       "\n",
       "    .dataframe thead th {\n",
       "        text-align: left;\n",
       "    }\n",
       "\n",
       "    .dataframe tbody tr th {\n",
       "        vertical-align: top;\n",
       "    }\n",
       "</style>\n",
       "<table border=\"1\" class=\"dataframe\">\n",
       "  <thead>\n",
       "    <tr style=\"text-align: right;\">\n",
       "      <th></th>\n",
       "      <th>Date_of_Birth</th>\n",
       "      <th>Employment_Type</th>\n",
       "      <th>DisbursalDate</th>\n",
       "      <th>PERFORM_CNS_SCORE_DESCRIPTION</th>\n",
       "      <th>AVERAGE_ACCT_AGE</th>\n",
       "      <th>CREDIT_HISTORY_LENGTH</th>\n",
       "    </tr>\n",
       "  </thead>\n",
       "  <tbody>\n",
       "    <tr>\n",
       "      <th>count</th>\n",
       "      <td>233154</td>\n",
       "      <td>225493</td>\n",
       "      <td>233154</td>\n",
       "      <td>233154</td>\n",
       "      <td>233154</td>\n",
       "      <td>233154</td>\n",
       "    </tr>\n",
       "    <tr>\n",
       "      <th>unique</th>\n",
       "      <td>15433</td>\n",
       "      <td>2</td>\n",
       "      <td>84</td>\n",
       "      <td>20</td>\n",
       "      <td>192</td>\n",
       "      <td>294</td>\n",
       "    </tr>\n",
       "    <tr>\n",
       "      <th>top</th>\n",
       "      <td>01-01-88</td>\n",
       "      <td>Self employed</td>\n",
       "      <td>31-10-18</td>\n",
       "      <td>No Bureau History Available</td>\n",
       "      <td>0yrs 0mon</td>\n",
       "      <td>0yrs 0mon</td>\n",
       "    </tr>\n",
       "    <tr>\n",
       "      <th>freq</th>\n",
       "      <td>2173</td>\n",
       "      <td>127635</td>\n",
       "      <td>8826</td>\n",
       "      <td>116950</td>\n",
       "      <td>119373</td>\n",
       "      <td>119127</td>\n",
       "    </tr>\n",
       "  </tbody>\n",
       "</table>\n",
       "</div>"
      ],
      "text/plain": [
       "       Date_of_Birth Employment_Type DisbursalDate  \\\n",
       "count         233154          225493        233154   \n",
       "unique         15433               2            84   \n",
       "top         01-01-88   Self employed      31-10-18   \n",
       "freq            2173          127635          8826   \n",
       "\n",
       "       PERFORM_CNS_SCORE_DESCRIPTION AVERAGE_ACCT_AGE CREDIT_HISTORY_LENGTH  \n",
       "count                         233154           233154                233154  \n",
       "unique                            20              192                   294  \n",
       "top      No Bureau History Available        0yrs 0mon             0yrs 0mon  \n",
       "freq                          116950           119373                119127  "
      ]
     },
     "execution_count": 66,
     "metadata": {},
     "output_type": "execute_result"
    }
   ],
   "source": [
    "train_df.describe(include=['O'])\n"
   ]
  },
  {
   "cell_type": "markdown",
   "metadata": {},
   "source": [
    "# Analysing by Pivoting features"
   ]
  },
  {
   "cell_type": "code",
   "execution_count": 67,
   "metadata": {},
   "outputs": [
    {
     "data": {
      "text/html": [
       "<div>\n",
       "<style>\n",
       "    .dataframe thead tr:only-child th {\n",
       "        text-align: right;\n",
       "    }\n",
       "\n",
       "    .dataframe thead th {\n",
       "        text-align: left;\n",
       "    }\n",
       "\n",
       "    .dataframe tbody tr th {\n",
       "        vertical-align: top;\n",
       "    }\n",
       "</style>\n",
       "<table border=\"1\" class=\"dataframe\">\n",
       "  <thead>\n",
       "    <tr style=\"text-align: right;\">\n",
       "      <th></th>\n",
       "      <th>Employment_Type</th>\n",
       "      <th>loan_default</th>\n",
       "    </tr>\n",
       "  </thead>\n",
       "  <tbody>\n",
       "    <tr>\n",
       "      <th>1</th>\n",
       "      <td>Self employed</td>\n",
       "      <td>0.227657</td>\n",
       "    </tr>\n",
       "    <tr>\n",
       "      <th>0</th>\n",
       "      <td>Salaried</td>\n",
       "      <td>0.203458</td>\n",
       "    </tr>\n",
       "  </tbody>\n",
       "</table>\n",
       "</div>"
      ],
      "text/plain": [
       "  Employment_Type  loan_default\n",
       "1   Self employed      0.227657\n",
       "0        Salaried      0.203458"
      ]
     },
     "execution_count": 67,
     "metadata": {},
     "output_type": "execute_result"
    }
   ],
   "source": [
    "# Analysing by Pivoting features\n",
    "\n",
    "train_df[['Employment_Type','loan_default']].groupby(['Employment_Type'], as_index=False).mean().sort_values(by='loan_default',ascending=False)\n"
   ]
  },
  {
   "cell_type": "code",
   "execution_count": 68,
   "metadata": {},
   "outputs": [
    {
     "data": {
      "text/html": [
       "<div>\n",
       "<style>\n",
       "    .dataframe thead tr:only-child th {\n",
       "        text-align: right;\n",
       "    }\n",
       "\n",
       "    .dataframe thead th {\n",
       "        text-align: left;\n",
       "    }\n",
       "\n",
       "    .dataframe tbody tr th {\n",
       "        vertical-align: top;\n",
       "    }\n",
       "</style>\n",
       "<table border=\"1\" class=\"dataframe\">\n",
       "  <thead>\n",
       "    <tr style=\"text-align: right;\">\n",
       "      <th></th>\n",
       "      <th>PERFORM_CNS_SCORE_DESCRIPTION</th>\n",
       "      <th>loan_default</th>\n",
       "    </tr>\n",
       "  </thead>\n",
       "  <tbody>\n",
       "    <tr>\n",
       "      <th>12</th>\n",
       "      <td>M-Very High Risk</td>\n",
       "      <td>0.304581</td>\n",
       "    </tr>\n",
       "    <tr>\n",
       "      <th>11</th>\n",
       "      <td>L-Very High Risk</td>\n",
       "      <td>0.280423</td>\n",
       "    </tr>\n",
       "    <tr>\n",
       "      <th>10</th>\n",
       "      <td>K-High Risk</td>\n",
       "      <td>0.278120</td>\n",
       "    </tr>\n",
       "    <tr>\n",
       "      <th>8</th>\n",
       "      <td>I-Medium Risk</td>\n",
       "      <td>0.272629</td>\n",
       "    </tr>\n",
       "    <tr>\n",
       "      <th>19</th>\n",
       "      <td>Not Scored: Sufficient History Not Available</td>\n",
       "      <td>0.255777</td>\n",
       "    </tr>\n",
       "    <tr>\n",
       "      <th>9</th>\n",
       "      <td>J-High Risk</td>\n",
       "      <td>0.252401</td>\n",
       "    </tr>\n",
       "    <tr>\n",
       "      <th>7</th>\n",
       "      <td>H-Medium Risk</td>\n",
       "      <td>0.241867</td>\n",
       "    </tr>\n",
       "    <tr>\n",
       "      <th>13</th>\n",
       "      <td>No Bureau History Available</td>\n",
       "      <td>0.231313</td>\n",
       "    </tr>\n",
       "    <tr>\n",
       "      <th>18</th>\n",
       "      <td>Not Scored: Only a Guarantor</td>\n",
       "      <td>0.213115</td>\n",
       "    </tr>\n",
       "    <tr>\n",
       "      <th>17</th>\n",
       "      <td>Not Scored: Not Enough Info available on the c...</td>\n",
       "      <td>0.209695</td>\n",
       "    </tr>\n",
       "    <tr>\n",
       "      <th>6</th>\n",
       "      <td>G-Low Risk</td>\n",
       "      <td>0.197091</td>\n",
       "    </tr>\n",
       "    <tr>\n",
       "      <th>16</th>\n",
       "      <td>Not Scored: No Updates available in last 36 mo...</td>\n",
       "      <td>0.190352</td>\n",
       "    </tr>\n",
       "    <tr>\n",
       "      <th>5</th>\n",
       "      <td>F-Low Risk</td>\n",
       "      <td>0.186211</td>\n",
       "    </tr>\n",
       "    <tr>\n",
       "      <th>15</th>\n",
       "      <td>Not Scored: No Activity seen on the customer (...</td>\n",
       "      <td>0.183709</td>\n",
       "    </tr>\n",
       "    <tr>\n",
       "      <th>2</th>\n",
       "      <td>C-Very Low Risk</td>\n",
       "      <td>0.172639</td>\n",
       "    </tr>\n",
       "    <tr>\n",
       "      <th>4</th>\n",
       "      <td>E-Low Risk</td>\n",
       "      <td>0.171792</td>\n",
       "    </tr>\n",
       "    <tr>\n",
       "      <th>0</th>\n",
       "      <td>A-Very Low Risk</td>\n",
       "      <td>0.165746</td>\n",
       "    </tr>\n",
       "    <tr>\n",
       "      <th>3</th>\n",
       "      <td>D-Very Low Risk</td>\n",
       "      <td>0.149586</td>\n",
       "    </tr>\n",
       "    <tr>\n",
       "      <th>1</th>\n",
       "      <td>B-Very Low Risk</td>\n",
       "      <td>0.131290</td>\n",
       "    </tr>\n",
       "    <tr>\n",
       "      <th>14</th>\n",
       "      <td>Not Scored: More than 50 active Accounts found</td>\n",
       "      <td>0.000000</td>\n",
       "    </tr>\n",
       "  </tbody>\n",
       "</table>\n",
       "</div>"
      ],
      "text/plain": [
       "                        PERFORM_CNS_SCORE_DESCRIPTION  loan_default\n",
       "12                                   M-Very High Risk      0.304581\n",
       "11                                   L-Very High Risk      0.280423\n",
       "10                                        K-High Risk      0.278120\n",
       "8                                       I-Medium Risk      0.272629\n",
       "19       Not Scored: Sufficient History Not Available      0.255777\n",
       "9                                         J-High Risk      0.252401\n",
       "7                                       H-Medium Risk      0.241867\n",
       "13                        No Bureau History Available      0.231313\n",
       "18                       Not Scored: Only a Guarantor      0.213115\n",
       "17  Not Scored: Not Enough Info available on the c...      0.209695\n",
       "6                                          G-Low Risk      0.197091\n",
       "16  Not Scored: No Updates available in last 36 mo...      0.190352\n",
       "5                                          F-Low Risk      0.186211\n",
       "15  Not Scored: No Activity seen on the customer (...      0.183709\n",
       "2                                     C-Very Low Risk      0.172639\n",
       "4                                          E-Low Risk      0.171792\n",
       "0                                     A-Very Low Risk      0.165746\n",
       "3                                     D-Very Low Risk      0.149586\n",
       "1                                     B-Very Low Risk      0.131290\n",
       "14     Not Scored: More than 50 active Accounts found      0.000000"
      ]
     },
     "execution_count": 68,
     "metadata": {},
     "output_type": "execute_result"
    }
   ],
   "source": [
    "train_df[['PERFORM_CNS_SCORE_DESCRIPTION','loan_default']].groupby(['PERFORM_CNS_SCORE_DESCRIPTION'],as_index=False).mean().sort_values(by='loan_default',ascending=False)"
   ]
  },
  {
   "cell_type": "markdown",
   "metadata": {},
   "source": [
    "# Correcting by dropping features"
   ]
  },
  {
   "cell_type": "code",
   "execution_count": 88,
   "metadata": {},
   "outputs": [],
   "source": [
    "#Dropping the features\n",
    "train_df = train_df.drop(['UniqueID','disbursed_amount','asset_cost','supplier_id','Current_pincode_ID','DisbursalDate','Employee_code_ID','MobileNo_Avl_Flag','Aadhar_flag','PAN_flag','VoterID_flag','Driving_flag','Passport_flag','PERFORM_CNS.SCORE','PRI.SANCTIONED.AMOUNT','PRI.DISBURSED.AMOUNT','SEC.CURRENT.BALANCE','SEC.SANCTIONED.AMOUNT','SEC.DISBURSED.AMOUNT','SEC.INSTAL.AMT'], axis=1)"
   ]
  },
  {
   "cell_type": "markdown",
   "metadata": {},
   "source": [
    "# Replace the features based on the Bands"
   ]
  },
  {
   "cell_type": "markdown",
   "metadata": {},
   "source": [
    "* Primary No of Accounts : count of total loans taken by the customer at the time of disbursement"
   ]
  },
  {
   "cell_type": "code",
   "execution_count": 76,
   "metadata": {},
   "outputs": [
    {
     "data": {
      "text/html": [
       "<div>\n",
       "<style>\n",
       "    .dataframe thead tr:only-child th {\n",
       "        text-align: right;\n",
       "    }\n",
       "\n",
       "    .dataframe thead th {\n",
       "        text-align: left;\n",
       "    }\n",
       "\n",
       "    .dataframe tbody tr th {\n",
       "        vertical-align: top;\n",
       "    }\n",
       "</style>\n",
       "<table border=\"1\" class=\"dataframe\">\n",
       "  <thead>\n",
       "    <tr style=\"text-align: right;\">\n",
       "      <th></th>\n",
       "      <th>PRI_NO_OF_ACCOUNTS_Band</th>\n",
       "      <th>loan_default</th>\n",
       "    </tr>\n",
       "  </thead>\n",
       "  <tbody>\n",
       "    <tr>\n",
       "      <th>0</th>\n",
       "      <td>(-0.453, 75.5]</td>\n",
       "      <td>0.217061</td>\n",
       "    </tr>\n",
       "    <tr>\n",
       "      <th>1</th>\n",
       "      <td>(75.5, 151.0]</td>\n",
       "      <td>0.260000</td>\n",
       "    </tr>\n",
       "    <tr>\n",
       "      <th>2</th>\n",
       "      <td>(151.0, 226.5]</td>\n",
       "      <td>0.000000</td>\n",
       "    </tr>\n",
       "    <tr>\n",
       "      <th>3</th>\n",
       "      <td>(226.5, 302.0]</td>\n",
       "      <td>0.000000</td>\n",
       "    </tr>\n",
       "    <tr>\n",
       "      <th>4</th>\n",
       "      <td>(302.0, 377.5]</td>\n",
       "      <td>0.000000</td>\n",
       "    </tr>\n",
       "    <tr>\n",
       "      <th>5</th>\n",
       "      <td>(377.5, 453.0]</td>\n",
       "      <td>1.000000</td>\n",
       "    </tr>\n",
       "  </tbody>\n",
       "</table>\n",
       "</div>"
      ],
      "text/plain": [
       "  PRI_NO_OF_ACCOUNTS_Band  loan_default\n",
       "0          (-0.453, 75.5]      0.217061\n",
       "1           (75.5, 151.0]      0.260000\n",
       "2          (151.0, 226.5]      0.000000\n",
       "3          (226.5, 302.0]      0.000000\n",
       "4          (302.0, 377.5]      0.000000\n",
       "5          (377.5, 453.0]      1.000000"
      ]
     },
     "execution_count": 76,
     "metadata": {},
     "output_type": "execute_result"
    }
   ],
   "source": [
    "train_df['PRI_NO_OF_ACCOUNTS_Band'] = pd.cut(train_df['PRI_NO_OF_ACCTS'],6)\n",
    "train_df[['PRI_NO_OF_ACCOUNTS_Band', 'loan_default']].groupby(['PRI_NO_OF_ACCOUNTS_Band'], as_index=False).mean().sort_values(by='PRI_NO_OF_ACCOUNTS_Band', ascending=True)"
   ]
  },
  {
   "cell_type": "code",
   "execution_count": 94,
   "metadata": {},
   "outputs": [],
   "source": [
    "for dataset in combine:    \n",
    "    dataset.loc[ dataset['PRI_NO_OF_ACCTS'] <= 75.5, 'PRI_NO_OF_ACCTS'] = 0\n",
    "    dataset.loc[(dataset['PRI_NO_OF_ACCTS'] > 75.5) & (dataset['PRI_NO_OF_ACCTS'] <= 151), 'PRI_NO_OF_ACCTS'] = 1\n",
    "    dataset.loc[(dataset['PRI_NO_OF_ACCTS'] > 151) & (dataset['PRI_NO_OF_ACCTS'] <= 226.5), 'PRI_NO_OF_ACCTS'] = 2\n",
    "    dataset.loc[(dataset['PRI_NO_OF_ACCTS'] > 226.5) & (dataset['PRI_NO_OF_ACCTS'] <= 302), 'PRI_NO_OF_ACCTS'] = 3\n",
    "    dataset.loc[(dataset['PRI_NO_OF_ACCTS'] > 302) & (dataset['PRI_NO_OF_ACCTS'] <= 377.5), 'PRI_NO_OF_ACCTS'] = 4\n",
    "    dataset.loc[ dataset['PRI_NO_OF_ACCTS'] > 377.5, 'PRI_NO_OF_ACCTS'] = 5\n"
   ]
  },
  {
   "cell_type": "code",
   "execution_count": 31,
   "metadata": {},
   "outputs": [],
   "source": [
    "train_df.loc[ train_df['PRI.NO.OF.ACCTS'] <= 75.5, 'PRI.NO.OF.ACCTS'] = 0\n",
    "train_df.loc[(train_df['PRI.NO.OF.ACCTS'] > 75.5) & (train_df['PRI.NO.OF.ACCTS'] <= 151), 'PRI.NO.OF.ACCTS'] = 1\n",
    "train_df.loc[(train_df['PRI.NO.OF.ACCTS'] > 151) & (train_df['PRI.NO.OF.ACCTS'] <= 226.5), 'PRI.NO.OF.ACCTS'] = 2\n",
    "train_df.loc[(train_df['PRI.NO.OF.ACCTS'] > 226.5) & (train_df['PRI.NO.OF.ACCTS'] <= 302), 'PRI.NO.OF.ACCTS'] = 3\n",
    "train_df.loc[(train_df['PRI.NO.OF.ACCTS'] > 302) & (train_df['PRI.NO.OF.ACCTS'] <= 377.5), 'PRI.NO.OF.ACCTS'] = 4\n",
    "train_df.loc[ train_df['PRI.NO.OF.ACCTS'] > 377.5, 'PRI.NO.OF.ACCTS'] = 5"
   ]
  },
  {
   "cell_type": "code",
   "execution_count": null,
   "metadata": {
    "collapsed": true
   },
   "outputs": [],
   "source": [
    "train_df.loc[ train_df['PRI.NO.OF.ACCTS'] <= 75.5, 'PRI.NO.OF.ACCTS'] = 0\n",
    "train_df.loc[(train_df['PRI.NO.OF.ACCTS'] > 75.5) & (train_df['PRI.NO.OF.ACCTS'] <= 151), 'PRI.NO.OF.ACCTS'] = 1\n",
    "train_df.loc[(train_df['PRI.NO.OF.ACCTS'] > 151) & (train_df['PRI.NO.OF.ACCTS'] <= 226.5), 'PRI.NO.OF.ACCTS'] = 2\n",
    "train_df.loc[(train_df['PRI.NO.OF.ACCTS'] > 226.5) & (train_df['PRI.NO.OF.ACCTS'] <= 302), 'PRI.NO.OF.ACCTS'] = 3\n",
    "train_df.loc[(train_df['PRI.NO.OF.ACCTS'] > 302) & (train_df['PRI.NO.OF.ACCTS'] <= 377.5), 'PRI.NO.OF.ACCTS'] = 4\n",
    "train_df.loc[ train_df['PRI.NO.OF.ACCTS'] > 377.5, 'PRI.NO.OF.ACCTS'] = 5"
   ]
  },
  {
   "cell_type": "code",
   "execution_count": 95,
   "metadata": {},
   "outputs": [
    {
     "data": {
      "text/plain": [
       "1"
      ]
     },
     "execution_count": 95,
     "metadata": {},
     "output_type": "execute_result"
    }
   ],
   "source": [
    "test_df['PRI_NO_OF_ACCTS'].max()"
   ]
  },
  {
   "cell_type": "code",
   "execution_count": 96,
   "metadata": {
    "scrolled": true
   },
   "outputs": [
    {
     "data": {
      "text/plain": [
       "5"
      ]
     },
     "execution_count": 96,
     "metadata": {},
     "output_type": "execute_result"
    }
   ],
   "source": [
    "train_df['PRI_NO_OF_ACCTS'].max()"
   ]
  },
  {
   "cell_type": "markdown",
   "metadata": {},
   "source": [
    "* Primary no of Active accounts - Count of active loans taken by the customer at the time of disbursement"
   ]
  },
  {
   "cell_type": "code",
   "execution_count": 98,
   "metadata": {},
   "outputs": [
    {
     "data": {
      "text/html": [
       "<div>\n",
       "<style>\n",
       "    .dataframe thead tr:only-child th {\n",
       "        text-align: right;\n",
       "    }\n",
       "\n",
       "    .dataframe thead th {\n",
       "        text-align: left;\n",
       "    }\n",
       "\n",
       "    .dataframe tbody tr th {\n",
       "        vertical-align: top;\n",
       "    }\n",
       "</style>\n",
       "<table border=\"1\" class=\"dataframe\">\n",
       "  <thead>\n",
       "    <tr style=\"text-align: right;\">\n",
       "      <th></th>\n",
       "      <th>PRI_ACTIVE_ACCTS_Band</th>\n",
       "      <th>loan_default</th>\n",
       "    </tr>\n",
       "  </thead>\n",
       "  <tbody>\n",
       "    <tr>\n",
       "      <th>0</th>\n",
       "      <td>(-0.144, 28.8]</td>\n",
       "      <td>0.217077</td>\n",
       "    </tr>\n",
       "    <tr>\n",
       "      <th>1</th>\n",
       "      <td>(28.8, 57.6]</td>\n",
       "      <td>0.142857</td>\n",
       "    </tr>\n",
       "    <tr>\n",
       "      <th>2</th>\n",
       "      <td>(57.6, 86.4]</td>\n",
       "      <td>0.000000</td>\n",
       "    </tr>\n",
       "    <tr>\n",
       "      <th>3</th>\n",
       "      <td>(86.4, 115.2]</td>\n",
       "      <td>NaN</td>\n",
       "    </tr>\n",
       "    <tr>\n",
       "      <th>4</th>\n",
       "      <td>(115.2, 144.0]</td>\n",
       "      <td>0.000000</td>\n",
       "    </tr>\n",
       "  </tbody>\n",
       "</table>\n",
       "</div>"
      ],
      "text/plain": [
       "  PRI_ACTIVE_ACCTS_Band  loan_default\n",
       "0        (-0.144, 28.8]      0.217077\n",
       "1          (28.8, 57.6]      0.142857\n",
       "2          (57.6, 86.4]      0.000000\n",
       "3         (86.4, 115.2]           NaN\n",
       "4        (115.2, 144.0]      0.000000"
      ]
     },
     "execution_count": 98,
     "metadata": {},
     "output_type": "execute_result"
    }
   ],
   "source": [
    "train_df['PRI_ACTIVE_ACCTS_Band'] = pd.cut(train_df['PRI_ACTIVE_ACCTS'],5)\n",
    "train_df[['PRI_ACTIVE_ACCTS_Band', 'loan_default']].groupby(['PRI_ACTIVE_ACCTS_Band'], as_index=False).mean().sort_values(by='PRI_ACTIVE_ACCTS_Band', ascending=True)"
   ]
  },
  {
   "cell_type": "code",
   "execution_count": 100,
   "metadata": {},
   "outputs": [
    {
     "data": {
      "text/plain": [
       "144"
      ]
     },
     "execution_count": 100,
     "metadata": {},
     "output_type": "execute_result"
    }
   ],
   "source": [
    "train_df['PRI_ACTIVE_ACCTS'].max()"
   ]
  },
  {
   "cell_type": "code",
   "execution_count": 101,
   "metadata": {
    "collapsed": true
   },
   "outputs": [],
   "source": [
    "for dataset in combine:    \n",
    "    dataset.loc[ dataset['PRI_ACTIVE_ACCTS'] <= 28.8, 'PRI_ACTIVE_ACCTS'] = 0\n",
    "    dataset.loc[(dataset['PRI_ACTIVE_ACCTS'] > 28.8) & (dataset['PRI_ACTIVE_ACCTS'] <= 57.6), 'PRI_ACTIVE_ACCTS'] = 1\n",
    "    dataset.loc[(dataset['PRI_ACTIVE_ACCTS'] > 57.6) & (dataset['PRI_ACTIVE_ACCTS'] <= 86.4), 'PRI_ACTIVE_ACCTS'] = 2\n",
    "    dataset.loc[(dataset['PRI_ACTIVE_ACCTS'] > 86.4) & (dataset['PRI_ACTIVE_ACCTS'] <= 115.2), 'PRI_ACTIVE_ACCTS'] = 3\n",
    "    dataset.loc[ dataset['PRI_ACTIVE_ACCTS'] > 115.2, 'PRI_ACTIVE_ACCTS'] = 4\n"
   ]
  },
  {
   "cell_type": "code",
   "execution_count": 102,
   "metadata": {},
   "outputs": [
    {
     "data": {
      "text/plain": [
       "4"
      ]
     },
     "execution_count": 102,
     "metadata": {},
     "output_type": "execute_result"
    }
   ],
   "source": [
    "train_df['PRI_ACTIVE_ACCTS'].max()"
   ]
  },
  {
   "cell_type": "code",
   "execution_count": 103,
   "metadata": {},
   "outputs": [
    {
     "data": {
      "text/plain": [
       "1"
      ]
     },
     "execution_count": 103,
     "metadata": {},
     "output_type": "execute_result"
    }
   ],
   "source": [
    "test_df['PRI_ACTIVE_ACCTS'].max()"
   ]
  }
 ],
 "metadata": {
  "kernelspec": {
   "display_name": "Python 3",
   "language": "python",
   "name": "python3"
  },
  "language_info": {
   "codemirror_mode": {
    "name": "ipython",
    "version": 3
   },
   "file_extension": ".py",
   "mimetype": "text/x-python",
   "name": "python",
   "nbconvert_exporter": "python",
   "pygments_lexer": "ipython3",
   "version": "3.6.1"
  }
 },
 "nbformat": 4,
 "nbformat_minor": 2
}

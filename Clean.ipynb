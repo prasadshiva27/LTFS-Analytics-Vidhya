{
 "cells": [
  {
   "cell_type": "code",
   "execution_count": 1,
   "metadata": {},
   "outputs": [
    {
     "name": "stderr",
     "output_type": "stream",
     "text": [
      "C:\\Users\\shiva\\Anaconda3\\lib\\site-packages\\sklearn\\ensemble\\weight_boosting.py:29: DeprecationWarning: numpy.core.umath_tests is an internal NumPy module and should not be imported. It will be removed in a future NumPy release.\n",
      "  from numpy.core.umath_tests import inner1d\n"
     ]
    }
   ],
   "source": [
    "# Data Analysis and Wrangling \n",
    "import numpy as np\n",
    "import pandas as pd\n",
    "import random as rnd\n",
    "from datetime import date\n",
    "import re\n",
    "\n",
    "# Visualization\n",
    "import seaborn as sns\n",
    "import matplotlib.pyplot as plt\n",
    "%matplotlib inline\n",
    "\n",
    "# machine learning\n",
    "from sklearn.linear_model import LogisticRegression\n",
    "from sklearn.svm import SVC, LinearSVC\n",
    "from sklearn.ensemble import RandomForestClassifier\n",
    "from sklearn.neighbors import KNeighborsClassifier\n",
    "from sklearn.naive_bayes import GaussianNB\n",
    "from sklearn.linear_model import Perceptron\n",
    "from sklearn.linear_model import SGDClassifier\n",
    "from sklearn.tree import DecisionTreeClassifier\n",
    "\n"
   ]
  },
  {
   "cell_type": "code",
   "execution_count": 2,
   "metadata": {
    "collapsed": true
   },
   "outputs": [],
   "source": [
    "# Aquire Data\n",
    "\n",
    "train_df = pd.read_csv('train.csv')\n",
    "test_df = pd.read_csv('test.csv')\n",
    "combine = [train_df,test_df]"
   ]
  },
  {
   "cell_type": "code",
   "execution_count": 3,
   "metadata": {},
   "outputs": [
    {
     "data": {
      "text/html": [
       "<div>\n",
       "<style>\n",
       "    .dataframe thead tr:only-child th {\n",
       "        text-align: right;\n",
       "    }\n",
       "\n",
       "    .dataframe thead th {\n",
       "        text-align: left;\n",
       "    }\n",
       "\n",
       "    .dataframe tbody tr th {\n",
       "        vertical-align: top;\n",
       "    }\n",
       "</style>\n",
       "<table border=\"1\" class=\"dataframe\">\n",
       "  <thead>\n",
       "    <tr style=\"text-align: right;\">\n",
       "      <th></th>\n",
       "      <th>UniqueID</th>\n",
       "      <th>disbursed_amount</th>\n",
       "      <th>asset_cost</th>\n",
       "      <th>ltv</th>\n",
       "      <th>branch_id</th>\n",
       "      <th>supplier_id</th>\n",
       "      <th>manufacturer_id</th>\n",
       "      <th>Current_pincode_ID</th>\n",
       "      <th>Date.of.Birth</th>\n",
       "      <th>Employment.Type</th>\n",
       "      <th>...</th>\n",
       "      <th>SEC.SANCTIONED.AMOUNT</th>\n",
       "      <th>SEC.DISBURSED.AMOUNT</th>\n",
       "      <th>PRIMARY.INSTAL.AMT</th>\n",
       "      <th>SEC.INSTAL.AMT</th>\n",
       "      <th>NEW.ACCTS.IN.LAST.SIX.MONTHS</th>\n",
       "      <th>DELINQUENT.ACCTS.IN.LAST.SIX.MONTHS</th>\n",
       "      <th>AVERAGE.ACCT.AGE</th>\n",
       "      <th>CREDIT.HISTORY.LENGTH</th>\n",
       "      <th>NO.OF_INQUIRIES</th>\n",
       "      <th>loan_default</th>\n",
       "    </tr>\n",
       "  </thead>\n",
       "  <tbody>\n",
       "    <tr>\n",
       "      <th>0</th>\n",
       "      <td>420825</td>\n",
       "      <td>50578</td>\n",
       "      <td>58400</td>\n",
       "      <td>89.55</td>\n",
       "      <td>67</td>\n",
       "      <td>22807</td>\n",
       "      <td>45</td>\n",
       "      <td>1441</td>\n",
       "      <td>01-01-84</td>\n",
       "      <td>Salaried</td>\n",
       "      <td>...</td>\n",
       "      <td>0</td>\n",
       "      <td>0</td>\n",
       "      <td>0</td>\n",
       "      <td>0</td>\n",
       "      <td>0</td>\n",
       "      <td>0</td>\n",
       "      <td>0yrs 0mon</td>\n",
       "      <td>0yrs 0mon</td>\n",
       "      <td>0</td>\n",
       "      <td>0</td>\n",
       "    </tr>\n",
       "    <tr>\n",
       "      <th>1</th>\n",
       "      <td>537409</td>\n",
       "      <td>47145</td>\n",
       "      <td>65550</td>\n",
       "      <td>73.23</td>\n",
       "      <td>67</td>\n",
       "      <td>22807</td>\n",
       "      <td>45</td>\n",
       "      <td>1502</td>\n",
       "      <td>31-07-85</td>\n",
       "      <td>Self employed</td>\n",
       "      <td>...</td>\n",
       "      <td>0</td>\n",
       "      <td>0</td>\n",
       "      <td>1991</td>\n",
       "      <td>0</td>\n",
       "      <td>0</td>\n",
       "      <td>1</td>\n",
       "      <td>1yrs 11mon</td>\n",
       "      <td>1yrs 11mon</td>\n",
       "      <td>0</td>\n",
       "      <td>1</td>\n",
       "    </tr>\n",
       "    <tr>\n",
       "      <th>2</th>\n",
       "      <td>417566</td>\n",
       "      <td>53278</td>\n",
       "      <td>61360</td>\n",
       "      <td>89.63</td>\n",
       "      <td>67</td>\n",
       "      <td>22807</td>\n",
       "      <td>45</td>\n",
       "      <td>1497</td>\n",
       "      <td>24-08-85</td>\n",
       "      <td>Self employed</td>\n",
       "      <td>...</td>\n",
       "      <td>0</td>\n",
       "      <td>0</td>\n",
       "      <td>0</td>\n",
       "      <td>0</td>\n",
       "      <td>0</td>\n",
       "      <td>0</td>\n",
       "      <td>0yrs 0mon</td>\n",
       "      <td>0yrs 0mon</td>\n",
       "      <td>0</td>\n",
       "      <td>0</td>\n",
       "    </tr>\n",
       "    <tr>\n",
       "      <th>3</th>\n",
       "      <td>624493</td>\n",
       "      <td>57513</td>\n",
       "      <td>66113</td>\n",
       "      <td>88.48</td>\n",
       "      <td>67</td>\n",
       "      <td>22807</td>\n",
       "      <td>45</td>\n",
       "      <td>1501</td>\n",
       "      <td>30-12-93</td>\n",
       "      <td>Self employed</td>\n",
       "      <td>...</td>\n",
       "      <td>0</td>\n",
       "      <td>0</td>\n",
       "      <td>31</td>\n",
       "      <td>0</td>\n",
       "      <td>0</td>\n",
       "      <td>0</td>\n",
       "      <td>0yrs 8mon</td>\n",
       "      <td>1yrs 3mon</td>\n",
       "      <td>1</td>\n",
       "      <td>1</td>\n",
       "    </tr>\n",
       "    <tr>\n",
       "      <th>4</th>\n",
       "      <td>539055</td>\n",
       "      <td>52378</td>\n",
       "      <td>60300</td>\n",
       "      <td>88.39</td>\n",
       "      <td>67</td>\n",
       "      <td>22807</td>\n",
       "      <td>45</td>\n",
       "      <td>1495</td>\n",
       "      <td>09-12-77</td>\n",
       "      <td>Self employed</td>\n",
       "      <td>...</td>\n",
       "      <td>0</td>\n",
       "      <td>0</td>\n",
       "      <td>0</td>\n",
       "      <td>0</td>\n",
       "      <td>0</td>\n",
       "      <td>0</td>\n",
       "      <td>0yrs 0mon</td>\n",
       "      <td>0yrs 0mon</td>\n",
       "      <td>1</td>\n",
       "      <td>1</td>\n",
       "    </tr>\n",
       "  </tbody>\n",
       "</table>\n",
       "<p>5 rows × 41 columns</p>\n",
       "</div>"
      ],
      "text/plain": [
       "   UniqueID  disbursed_amount  asset_cost    ltv  branch_id  supplier_id  \\\n",
       "0    420825             50578       58400  89.55         67        22807   \n",
       "1    537409             47145       65550  73.23         67        22807   \n",
       "2    417566             53278       61360  89.63         67        22807   \n",
       "3    624493             57513       66113  88.48         67        22807   \n",
       "4    539055             52378       60300  88.39         67        22807   \n",
       "\n",
       "   manufacturer_id  Current_pincode_ID Date.of.Birth Employment.Type  \\\n",
       "0               45                1441      01-01-84        Salaried   \n",
       "1               45                1502      31-07-85   Self employed   \n",
       "2               45                1497      24-08-85   Self employed   \n",
       "3               45                1501      30-12-93   Self employed   \n",
       "4               45                1495      09-12-77   Self employed   \n",
       "\n",
       "       ...      SEC.SANCTIONED.AMOUNT  SEC.DISBURSED.AMOUNT  \\\n",
       "0      ...                          0                     0   \n",
       "1      ...                          0                     0   \n",
       "2      ...                          0                     0   \n",
       "3      ...                          0                     0   \n",
       "4      ...                          0                     0   \n",
       "\n",
       "   PRIMARY.INSTAL.AMT  SEC.INSTAL.AMT  NEW.ACCTS.IN.LAST.SIX.MONTHS  \\\n",
       "0                   0               0                             0   \n",
       "1                1991               0                             0   \n",
       "2                   0               0                             0   \n",
       "3                  31               0                             0   \n",
       "4                   0               0                             0   \n",
       "\n",
       "   DELINQUENT.ACCTS.IN.LAST.SIX.MONTHS  AVERAGE.ACCT.AGE  \\\n",
       "0                                    0         0yrs 0mon   \n",
       "1                                    1        1yrs 11mon   \n",
       "2                                    0         0yrs 0mon   \n",
       "3                                    0         0yrs 8mon   \n",
       "4                                    0         0yrs 0mon   \n",
       "\n",
       "   CREDIT.HISTORY.LENGTH  NO.OF_INQUIRIES  loan_default  \n",
       "0              0yrs 0mon                0             0  \n",
       "1             1yrs 11mon                0             1  \n",
       "2              0yrs 0mon                0             0  \n",
       "3              1yrs 3mon                1             1  \n",
       "4              0yrs 0mon                1             1  \n",
       "\n",
       "[5 rows x 41 columns]"
      ]
     },
     "execution_count": 3,
     "metadata": {},
     "output_type": "execute_result"
    }
   ],
   "source": [
    "train_df.head()\n",
    "# test_df.head()"
   ]
  },
  {
   "cell_type": "code",
   "execution_count": 4,
   "metadata": {
    "scrolled": true
   },
   "outputs": [
    {
     "name": "stdout",
     "output_type": "stream",
     "text": [
      "['UniqueID' 'disbursed_amount' 'asset_cost' 'ltv' 'branch_id'\n",
      " 'supplier_id' 'manufacturer_id' 'Current_pincode_ID' 'Date.of.Birth'\n",
      " 'Employment.Type' 'DisbursalDate' 'State_ID' 'Employee_code_ID'\n",
      " 'MobileNo_Avl_Flag' 'Aadhar_flag' 'PAN_flag' 'VoterID_flag'\n",
      " 'Driving_flag' 'Passport_flag' 'PERFORM_CNS.SCORE'\n",
      " 'PERFORM_CNS.SCORE.DESCRIPTION' 'PRI.NO.OF.ACCTS' 'PRI.ACTIVE.ACCTS'\n",
      " 'PRI.OVERDUE.ACCTS' 'PRI.CURRENT.BALANCE' 'PRI.SANCTIONED.AMOUNT'\n",
      " 'PRI.DISBURSED.AMOUNT' 'SEC.NO.OF.ACCTS' 'SEC.ACTIVE.ACCTS'\n",
      " 'SEC.OVERDUE.ACCTS' 'SEC.CURRENT.BALANCE' 'SEC.SANCTIONED.AMOUNT'\n",
      " 'SEC.DISBURSED.AMOUNT' 'PRIMARY.INSTAL.AMT' 'SEC.INSTAL.AMT'\n",
      " 'NEW.ACCTS.IN.LAST.SIX.MONTHS' 'DELINQUENT.ACCTS.IN.LAST.SIX.MONTHS'\n",
      " 'AVERAGE.ACCT.AGE' 'CREDIT.HISTORY.LENGTH' 'NO.OF_INQUIRIES'\n",
      " 'loan_default']\n"
     ]
    }
   ],
   "source": [
    "print (train_df.columns.values)"
   ]
  },
  {
   "cell_type": "code",
   "execution_count": 5,
   "metadata": {
    "collapsed": true
   },
   "outputs": [],
   "source": [
    "for dataset in combine:\n",
    "    dataset.rename(columns  = {\"Date.of.Birth\": \"Date_of_Birth\", \n",
    "                     \"Employment.Type\":\"Employment_Type\", \n",
    "                     \"PERFORM_CNS.SCORE\": \"PERFORM_CNS_SCORE\", \n",
    "                     \"PERFORM_CNS.SCORE.DESCRIPTION\": \"PERFORM_CNS_SCORE_DESCRIPTION\",\n",
    "                     \"PRI.NO.OF.ACCTS\":\"PRI_NO_OF_ACCTS\", \n",
    "                     \"PRI.ACTIVE.ACCTS\": \"PRI_ACTIVE_ACCTS\", \n",
    "                     \"PRI.OVERDUE.ACCTS\":\"PRI_OVERDUE_ACCTS\", \n",
    "                     \"PRI.CURRENT.BALANCE\": \"PRI_CURRENT_BALANCE\", \n",
    "                     \"PRI.SANCTIONED.AMOUNT\": \"PRI_SANCTIONED_AMOUNT\",         \n",
    "                     \"SEC.NO.OF.ACCTS\":\"SEC_NO_OF_ACCTS\", \n",
    "                     \"SEC.ACTIVE.ACCTS\": \"SEC_ACTIVE_ACCTS\", \n",
    "                     \"SEC.OVERDUE.ACCTS\":\"SEC_OVERDUE_ACCTS\", \n",
    "                     \"PRIMARY.INSTAL.AMT\": \"PRIMARY_INSTAL_AMT\", \n",
    "                     \"NEW.ACCTS.IN.LAST.SIX.MONTHS\":\"NEW_ACCTS_IN_LAST_SIX_MONTHS\", \n",
    "                     \"DELINQUENT.ACCTS.IN.LAST.SIX.MONTHS\": \"DELINQUENT_ACCTS_IN_LAST_SIX_MONTHS\", \n",
    "                     \"AVERAGE.ACCT.AGE\":\"AVERAGE_ACCT_AGE\", \n",
    "                     \"CREDIT.HISTORY.LENGTH\": \"CREDIT_HISTORY_LENGTH\", \n",
    "                     \"NO.OF_INQUIRIES\":\"NO_OF_INQUIRIES\" } ,   \n",
    "                                 inplace = True)"
   ]
  },
  {
   "cell_type": "code",
   "execution_count": 6,
   "metadata": {},
   "outputs": [
    {
     "name": "stdout",
     "output_type": "stream",
     "text": [
      "['UniqueID' 'disbursed_amount' 'asset_cost' 'ltv' 'branch_id'\n",
      " 'supplier_id' 'manufacturer_id' 'Current_pincode_ID' 'Date_of_Birth'\n",
      " 'Employment_Type' 'DisbursalDate' 'State_ID' 'Employee_code_ID'\n",
      " 'MobileNo_Avl_Flag' 'Aadhar_flag' 'PAN_flag' 'VoterID_flag'\n",
      " 'Driving_flag' 'Passport_flag' 'PERFORM_CNS_SCORE'\n",
      " 'PERFORM_CNS_SCORE_DESCRIPTION' 'PRI_NO_OF_ACCTS' 'PRI_ACTIVE_ACCTS'\n",
      " 'PRI_OVERDUE_ACCTS' 'PRI_CURRENT_BALANCE' 'PRI_SANCTIONED_AMOUNT'\n",
      " 'PRI.DISBURSED.AMOUNT' 'SEC_NO_OF_ACCTS' 'SEC_ACTIVE_ACCTS'\n",
      " 'SEC_OVERDUE_ACCTS' 'SEC.CURRENT.BALANCE' 'SEC.SANCTIONED.AMOUNT'\n",
      " 'SEC.DISBURSED.AMOUNT' 'PRIMARY_INSTAL_AMT' 'SEC.INSTAL.AMT'\n",
      " 'NEW_ACCTS_IN_LAST_SIX_MONTHS' 'DELINQUENT_ACCTS_IN_LAST_SIX_MONTHS'\n",
      " 'AVERAGE_ACCT_AGE' 'CREDIT_HISTORY_LENGTH' 'NO_OF_INQUIRIES'\n",
      " 'loan_default']\n"
     ]
    }
   ],
   "source": [
    "print (train_df.columns.values)"
   ]
  },
  {
   "cell_type": "code",
   "execution_count": 7,
   "metadata": {},
   "outputs": [
    {
     "data": {
      "text/html": [
       "<div>\n",
       "<style>\n",
       "    .dataframe thead tr:only-child th {\n",
       "        text-align: right;\n",
       "    }\n",
       "\n",
       "    .dataframe thead th {\n",
       "        text-align: left;\n",
       "    }\n",
       "\n",
       "    .dataframe tbody tr th {\n",
       "        vertical-align: top;\n",
       "    }\n",
       "</style>\n",
       "<table border=\"1\" class=\"dataframe\">\n",
       "  <thead>\n",
       "    <tr style=\"text-align: right;\">\n",
       "      <th></th>\n",
       "      <th>Date_of_Birth</th>\n",
       "      <th>Employment_Type</th>\n",
       "      <th>DisbursalDate</th>\n",
       "      <th>PERFORM_CNS_SCORE_DESCRIPTION</th>\n",
       "      <th>AVERAGE_ACCT_AGE</th>\n",
       "      <th>CREDIT_HISTORY_LENGTH</th>\n",
       "    </tr>\n",
       "  </thead>\n",
       "  <tbody>\n",
       "    <tr>\n",
       "      <th>count</th>\n",
       "      <td>233154</td>\n",
       "      <td>225493</td>\n",
       "      <td>233154</td>\n",
       "      <td>233154</td>\n",
       "      <td>233154</td>\n",
       "      <td>233154</td>\n",
       "    </tr>\n",
       "    <tr>\n",
       "      <th>unique</th>\n",
       "      <td>15433</td>\n",
       "      <td>2</td>\n",
       "      <td>84</td>\n",
       "      <td>20</td>\n",
       "      <td>192</td>\n",
       "      <td>294</td>\n",
       "    </tr>\n",
       "    <tr>\n",
       "      <th>top</th>\n",
       "      <td>01-01-88</td>\n",
       "      <td>Self employed</td>\n",
       "      <td>31-10-18</td>\n",
       "      <td>No Bureau History Available</td>\n",
       "      <td>0yrs 0mon</td>\n",
       "      <td>0yrs 0mon</td>\n",
       "    </tr>\n",
       "    <tr>\n",
       "      <th>freq</th>\n",
       "      <td>2173</td>\n",
       "      <td>127635</td>\n",
       "      <td>8826</td>\n",
       "      <td>116950</td>\n",
       "      <td>119373</td>\n",
       "      <td>119127</td>\n",
       "    </tr>\n",
       "  </tbody>\n",
       "</table>\n",
       "</div>"
      ],
      "text/plain": [
       "       Date_of_Birth Employment_Type DisbursalDate  \\\n",
       "count         233154          225493        233154   \n",
       "unique         15433               2            84   \n",
       "top         01-01-88   Self employed      31-10-18   \n",
       "freq            2173          127635          8826   \n",
       "\n",
       "       PERFORM_CNS_SCORE_DESCRIPTION AVERAGE_ACCT_AGE CREDIT_HISTORY_LENGTH  \n",
       "count                         233154           233154                233154  \n",
       "unique                            20              192                   294  \n",
       "top      No Bureau History Available        0yrs 0mon             0yrs 0mon  \n",
       "freq                          116950           119373                119127  "
      ]
     },
     "execution_count": 7,
     "metadata": {},
     "output_type": "execute_result"
    }
   ],
   "source": [
    "train_df.describe(include=['O'])\n"
   ]
  },
  {
   "cell_type": "markdown",
   "metadata": {},
   "source": [
    "# Analysing by Pivoting features"
   ]
  },
  {
   "cell_type": "code",
   "execution_count": 8,
   "metadata": {},
   "outputs": [
    {
     "data": {
      "text/html": [
       "<div>\n",
       "<style>\n",
       "    .dataframe thead tr:only-child th {\n",
       "        text-align: right;\n",
       "    }\n",
       "\n",
       "    .dataframe thead th {\n",
       "        text-align: left;\n",
       "    }\n",
       "\n",
       "    .dataframe tbody tr th {\n",
       "        vertical-align: top;\n",
       "    }\n",
       "</style>\n",
       "<table border=\"1\" class=\"dataframe\">\n",
       "  <thead>\n",
       "    <tr style=\"text-align: right;\">\n",
       "      <th></th>\n",
       "      <th>Employment_Type</th>\n",
       "      <th>loan_default</th>\n",
       "    </tr>\n",
       "  </thead>\n",
       "  <tbody>\n",
       "    <tr>\n",
       "      <th>1</th>\n",
       "      <td>Self employed</td>\n",
       "      <td>0.227657</td>\n",
       "    </tr>\n",
       "    <tr>\n",
       "      <th>0</th>\n",
       "      <td>Salaried</td>\n",
       "      <td>0.203458</td>\n",
       "    </tr>\n",
       "  </tbody>\n",
       "</table>\n",
       "</div>"
      ],
      "text/plain": [
       "  Employment_Type  loan_default\n",
       "1   Self employed      0.227657\n",
       "0        Salaried      0.203458"
      ]
     },
     "execution_count": 8,
     "metadata": {},
     "output_type": "execute_result"
    }
   ],
   "source": [
    "# Analysing by Pivoting features\n",
    "\n",
    "train_df[['Employment_Type','loan_default']].groupby(['Employment_Type'], as_index=False).mean().sort_values(by='loan_default',ascending=False)\n"
   ]
  },
  {
   "cell_type": "code",
   "execution_count": 9,
   "metadata": {},
   "outputs": [
    {
     "data": {
      "text/html": [
       "<div>\n",
       "<style>\n",
       "    .dataframe thead tr:only-child th {\n",
       "        text-align: right;\n",
       "    }\n",
       "\n",
       "    .dataframe thead th {\n",
       "        text-align: left;\n",
       "    }\n",
       "\n",
       "    .dataframe tbody tr th {\n",
       "        vertical-align: top;\n",
       "    }\n",
       "</style>\n",
       "<table border=\"1\" class=\"dataframe\">\n",
       "  <thead>\n",
       "    <tr style=\"text-align: right;\">\n",
       "      <th></th>\n",
       "      <th>UniqueID</th>\n",
       "      <th>disbursed_amount</th>\n",
       "      <th>asset_cost</th>\n",
       "      <th>ltv</th>\n",
       "      <th>branch_id</th>\n",
       "      <th>supplier_id</th>\n",
       "      <th>manufacturer_id</th>\n",
       "      <th>Current_pincode_ID</th>\n",
       "      <th>Date_of_Birth</th>\n",
       "      <th>Employment_Type</th>\n",
       "      <th>...</th>\n",
       "      <th>SEC.SANCTIONED.AMOUNT</th>\n",
       "      <th>SEC.DISBURSED.AMOUNT</th>\n",
       "      <th>PRIMARY_INSTAL_AMT</th>\n",
       "      <th>SEC.INSTAL.AMT</th>\n",
       "      <th>NEW_ACCTS_IN_LAST_SIX_MONTHS</th>\n",
       "      <th>DELINQUENT_ACCTS_IN_LAST_SIX_MONTHS</th>\n",
       "      <th>AVERAGE_ACCT_AGE</th>\n",
       "      <th>CREDIT_HISTORY_LENGTH</th>\n",
       "      <th>NO_OF_INQUIRIES</th>\n",
       "      <th>loan_default</th>\n",
       "    </tr>\n",
       "  </thead>\n",
       "  <tbody>\n",
       "    <tr>\n",
       "      <th>0</th>\n",
       "      <td>420825</td>\n",
       "      <td>50578</td>\n",
       "      <td>58400</td>\n",
       "      <td>89.55</td>\n",
       "      <td>67</td>\n",
       "      <td>22807</td>\n",
       "      <td>45</td>\n",
       "      <td>1441</td>\n",
       "      <td>01-01-84</td>\n",
       "      <td>2.0</td>\n",
       "      <td>...</td>\n",
       "      <td>0</td>\n",
       "      <td>0</td>\n",
       "      <td>0</td>\n",
       "      <td>0</td>\n",
       "      <td>0</td>\n",
       "      <td>0</td>\n",
       "      <td>0yrs 0mon</td>\n",
       "      <td>0yrs 0mon</td>\n",
       "      <td>0</td>\n",
       "      <td>0</td>\n",
       "    </tr>\n",
       "    <tr>\n",
       "      <th>1</th>\n",
       "      <td>537409</td>\n",
       "      <td>47145</td>\n",
       "      <td>65550</td>\n",
       "      <td>73.23</td>\n",
       "      <td>67</td>\n",
       "      <td>22807</td>\n",
       "      <td>45</td>\n",
       "      <td>1502</td>\n",
       "      <td>31-07-85</td>\n",
       "      <td>1.0</td>\n",
       "      <td>...</td>\n",
       "      <td>0</td>\n",
       "      <td>0</td>\n",
       "      <td>1991</td>\n",
       "      <td>0</td>\n",
       "      <td>0</td>\n",
       "      <td>1</td>\n",
       "      <td>1yrs 11mon</td>\n",
       "      <td>1yrs 11mon</td>\n",
       "      <td>0</td>\n",
       "      <td>1</td>\n",
       "    </tr>\n",
       "    <tr>\n",
       "      <th>2</th>\n",
       "      <td>417566</td>\n",
       "      <td>53278</td>\n",
       "      <td>61360</td>\n",
       "      <td>89.63</td>\n",
       "      <td>67</td>\n",
       "      <td>22807</td>\n",
       "      <td>45</td>\n",
       "      <td>1497</td>\n",
       "      <td>24-08-85</td>\n",
       "      <td>1.0</td>\n",
       "      <td>...</td>\n",
       "      <td>0</td>\n",
       "      <td>0</td>\n",
       "      <td>0</td>\n",
       "      <td>0</td>\n",
       "      <td>0</td>\n",
       "      <td>0</td>\n",
       "      <td>0yrs 0mon</td>\n",
       "      <td>0yrs 0mon</td>\n",
       "      <td>0</td>\n",
       "      <td>0</td>\n",
       "    </tr>\n",
       "    <tr>\n",
       "      <th>3</th>\n",
       "      <td>624493</td>\n",
       "      <td>57513</td>\n",
       "      <td>66113</td>\n",
       "      <td>88.48</td>\n",
       "      <td>67</td>\n",
       "      <td>22807</td>\n",
       "      <td>45</td>\n",
       "      <td>1501</td>\n",
       "      <td>30-12-93</td>\n",
       "      <td>1.0</td>\n",
       "      <td>...</td>\n",
       "      <td>0</td>\n",
       "      <td>0</td>\n",
       "      <td>31</td>\n",
       "      <td>0</td>\n",
       "      <td>0</td>\n",
       "      <td>0</td>\n",
       "      <td>0yrs 8mon</td>\n",
       "      <td>1yrs 3mon</td>\n",
       "      <td>1</td>\n",
       "      <td>1</td>\n",
       "    </tr>\n",
       "    <tr>\n",
       "      <th>4</th>\n",
       "      <td>539055</td>\n",
       "      <td>52378</td>\n",
       "      <td>60300</td>\n",
       "      <td>88.39</td>\n",
       "      <td>67</td>\n",
       "      <td>22807</td>\n",
       "      <td>45</td>\n",
       "      <td>1495</td>\n",
       "      <td>09-12-77</td>\n",
       "      <td>1.0</td>\n",
       "      <td>...</td>\n",
       "      <td>0</td>\n",
       "      <td>0</td>\n",
       "      <td>0</td>\n",
       "      <td>0</td>\n",
       "      <td>0</td>\n",
       "      <td>0</td>\n",
       "      <td>0yrs 0mon</td>\n",
       "      <td>0yrs 0mon</td>\n",
       "      <td>1</td>\n",
       "      <td>1</td>\n",
       "    </tr>\n",
       "  </tbody>\n",
       "</table>\n",
       "<p>5 rows × 41 columns</p>\n",
       "</div>"
      ],
      "text/plain": [
       "   UniqueID  disbursed_amount  asset_cost    ltv  branch_id  supplier_id  \\\n",
       "0    420825             50578       58400  89.55         67        22807   \n",
       "1    537409             47145       65550  73.23         67        22807   \n",
       "2    417566             53278       61360  89.63         67        22807   \n",
       "3    624493             57513       66113  88.48         67        22807   \n",
       "4    539055             52378       60300  88.39         67        22807   \n",
       "\n",
       "   manufacturer_id  Current_pincode_ID Date_of_Birth  Employment_Type  \\\n",
       "0               45                1441      01-01-84              2.0   \n",
       "1               45                1502      31-07-85              1.0   \n",
       "2               45                1497      24-08-85              1.0   \n",
       "3               45                1501      30-12-93              1.0   \n",
       "4               45                1495      09-12-77              1.0   \n",
       "\n",
       "       ...      SEC.SANCTIONED.AMOUNT  SEC.DISBURSED.AMOUNT  \\\n",
       "0      ...                          0                     0   \n",
       "1      ...                          0                     0   \n",
       "2      ...                          0                     0   \n",
       "3      ...                          0                     0   \n",
       "4      ...                          0                     0   \n",
       "\n",
       "   PRIMARY_INSTAL_AMT  SEC.INSTAL.AMT  NEW_ACCTS_IN_LAST_SIX_MONTHS  \\\n",
       "0                   0               0                             0   \n",
       "1                1991               0                             0   \n",
       "2                   0               0                             0   \n",
       "3                  31               0                             0   \n",
       "4                   0               0                             0   \n",
       "\n",
       "   DELINQUENT_ACCTS_IN_LAST_SIX_MONTHS  AVERAGE_ACCT_AGE  \\\n",
       "0                                    0         0yrs 0mon   \n",
       "1                                    1        1yrs 11mon   \n",
       "2                                    0         0yrs 0mon   \n",
       "3                                    0         0yrs 8mon   \n",
       "4                                    0         0yrs 0mon   \n",
       "\n",
       "   CREDIT_HISTORY_LENGTH  NO_OF_INQUIRIES  loan_default  \n",
       "0              0yrs 0mon                0             0  \n",
       "1             1yrs 11mon                0             1  \n",
       "2              0yrs 0mon                0             0  \n",
       "3              1yrs 3mon                1             1  \n",
       "4              0yrs 0mon                1             1  \n",
       "\n",
       "[5 rows x 41 columns]"
      ]
     },
     "execution_count": 9,
     "metadata": {},
     "output_type": "execute_result"
    }
   ],
   "source": [
    "Employment_Type_mapping = {\"Self employed\": 1, \"Salaried\": 2}\n",
    "for dataset in combine:\n",
    "    dataset['Employment_Type'] = dataset['Employment_Type'].map(Employment_Type_mapping)\n",
    "    dataset['Employment_Type'] = dataset['Employment_Type'].fillna(0)\n",
    "\n",
    "train_df.head()"
   ]
  },
  {
   "cell_type": "code",
   "execution_count": 10,
   "metadata": {
    "collapsed": true
   },
   "outputs": [],
   "source": [
    "# train_df[['PERFORM_CNS_SCORE_DESCRIPTION','loan_default']].groupby(['PERFORM_CNS_SCORE_DESCRIPTION'],as_index=False).mean().sort_values(by='loan_default',ascending=False)"
   ]
  },
  {
   "cell_type": "markdown",
   "metadata": {},
   "source": [
    "# Correcting by dropping features"
   ]
  },
  {
   "cell_type": "code",
   "execution_count": 11,
   "metadata": {
    "collapsed": true
   },
   "outputs": [],
   "source": [
    "#Dropping the features\n",
    "# train_df = train_df.drop(['UniqueID','disbursed_amount','asset_cost','supplier_id','Current_pincode_ID','DisbursalDate','Employee_code_ID','MobileNo_Avl_Flag','Aadhar_flag','PAN_flag','VoterID_flag','Driving_flag','Passport_flag','PERFORM_CNS.SCORE','PRI.SANCTIONED.AMOUNT','PRI.DISBURSED.AMOUNT','SEC.CURRENT.BALANCE','SEC.SANCTIONED.AMOUNT','SEC.DISBURSED.AMOUNT','SEC.INSTAL.AMT'], axis=1)"
   ]
  },
  {
   "cell_type": "markdown",
   "metadata": {},
   "source": [
    "# Replace the features based on the Bands"
   ]
  },
  {
   "cell_type": "markdown",
   "metadata": {},
   "source": [
    "* Primary No of Accounts : count of total loans taken by the customer at the time of disbursement"
   ]
  },
  {
   "cell_type": "code",
   "execution_count": 12,
   "metadata": {},
   "outputs": [
    {
     "data": {
      "text/html": [
       "<div>\n",
       "<style>\n",
       "    .dataframe thead tr:only-child th {\n",
       "        text-align: right;\n",
       "    }\n",
       "\n",
       "    .dataframe thead th {\n",
       "        text-align: left;\n",
       "    }\n",
       "\n",
       "    .dataframe tbody tr th {\n",
       "        vertical-align: top;\n",
       "    }\n",
       "</style>\n",
       "<table border=\"1\" class=\"dataframe\">\n",
       "  <thead>\n",
       "    <tr style=\"text-align: right;\">\n",
       "      <th></th>\n",
       "      <th>PRI_NO_OF_ACCOUNTS_Band</th>\n",
       "      <th>loan_default</th>\n",
       "    </tr>\n",
       "  </thead>\n",
       "  <tbody>\n",
       "    <tr>\n",
       "      <th>0</th>\n",
       "      <td>(-0.453, 75.5]</td>\n",
       "      <td>0.217061</td>\n",
       "    </tr>\n",
       "    <tr>\n",
       "      <th>1</th>\n",
       "      <td>(75.5, 151.0]</td>\n",
       "      <td>0.260000</td>\n",
       "    </tr>\n",
       "    <tr>\n",
       "      <th>2</th>\n",
       "      <td>(151.0, 226.5]</td>\n",
       "      <td>0.000000</td>\n",
       "    </tr>\n",
       "    <tr>\n",
       "      <th>3</th>\n",
       "      <td>(226.5, 302.0]</td>\n",
       "      <td>0.000000</td>\n",
       "    </tr>\n",
       "    <tr>\n",
       "      <th>4</th>\n",
       "      <td>(302.0, 377.5]</td>\n",
       "      <td>0.000000</td>\n",
       "    </tr>\n",
       "    <tr>\n",
       "      <th>5</th>\n",
       "      <td>(377.5, 453.0]</td>\n",
       "      <td>1.000000</td>\n",
       "    </tr>\n",
       "  </tbody>\n",
       "</table>\n",
       "</div>"
      ],
      "text/plain": [
       "  PRI_NO_OF_ACCOUNTS_Band  loan_default\n",
       "0          (-0.453, 75.5]      0.217061\n",
       "1           (75.5, 151.0]      0.260000\n",
       "2          (151.0, 226.5]      0.000000\n",
       "3          (226.5, 302.0]      0.000000\n",
       "4          (302.0, 377.5]      0.000000\n",
       "5          (377.5, 453.0]      1.000000"
      ]
     },
     "execution_count": 12,
     "metadata": {},
     "output_type": "execute_result"
    }
   ],
   "source": [
    "train_df['PRI_NO_OF_ACCOUNTS_Band'] = pd.cut(train_df['PRI_NO_OF_ACCTS'],6)\n",
    "train_df[['PRI_NO_OF_ACCOUNTS_Band', 'loan_default']].groupby(['PRI_NO_OF_ACCOUNTS_Band'], as_index=False).mean().sort_values(by='PRI_NO_OF_ACCOUNTS_Band', ascending=True)"
   ]
  },
  {
   "cell_type": "code",
   "execution_count": 13,
   "metadata": {
    "collapsed": true
   },
   "outputs": [],
   "source": [
    "for dataset in combine:    \n",
    "    dataset.loc[ dataset['PRI_NO_OF_ACCTS'] <= 75.5, 'PRI_NO_OF_ACCTS'] = 0\n",
    "    dataset.loc[(dataset['PRI_NO_OF_ACCTS'] > 75.5) & (dataset['PRI_NO_OF_ACCTS'] <= 151), 'PRI_NO_OF_ACCTS'] = 1\n",
    "    dataset.loc[(dataset['PRI_NO_OF_ACCTS'] > 151) & (dataset['PRI_NO_OF_ACCTS'] <= 226.5), 'PRI_NO_OF_ACCTS'] = 2\n",
    "    dataset.loc[(dataset['PRI_NO_OF_ACCTS'] > 226.5) & (dataset['PRI_NO_OF_ACCTS'] <= 302), 'PRI_NO_OF_ACCTS'] = 3\n",
    "    dataset.loc[(dataset['PRI_NO_OF_ACCTS'] > 302) & (dataset['PRI_NO_OF_ACCTS'] <= 377.5), 'PRI_NO_OF_ACCTS'] = 4\n",
    "    dataset.loc[ dataset['PRI_NO_OF_ACCTS'] > 377.5, 'PRI_NO_OF_ACCTS'] = 5\n"
   ]
  },
  {
   "cell_type": "code",
   "execution_count": 14,
   "metadata": {},
   "outputs": [
    {
     "data": {
      "text/plain": [
       "1"
      ]
     },
     "execution_count": 14,
     "metadata": {},
     "output_type": "execute_result"
    }
   ],
   "source": [
    "test_df['PRI_NO_OF_ACCTS'].max()"
   ]
  },
  {
   "cell_type": "code",
   "execution_count": 15,
   "metadata": {
    "scrolled": true
   },
   "outputs": [
    {
     "data": {
      "text/plain": [
       "5"
      ]
     },
     "execution_count": 15,
     "metadata": {},
     "output_type": "execute_result"
    }
   ],
   "source": [
    "train_df['PRI_NO_OF_ACCTS'].max()"
   ]
  },
  {
   "cell_type": "markdown",
   "metadata": {},
   "source": [
    "* Credit Score Band"
   ]
  },
  {
   "cell_type": "code",
   "execution_count": 16,
   "metadata": {},
   "outputs": [
    {
     "data": {
      "text/html": [
       "<div>\n",
       "<style>\n",
       "    .dataframe thead tr:only-child th {\n",
       "        text-align: right;\n",
       "    }\n",
       "\n",
       "    .dataframe thead th {\n",
       "        text-align: left;\n",
       "    }\n",
       "\n",
       "    .dataframe tbody tr th {\n",
       "        vertical-align: top;\n",
       "    }\n",
       "</style>\n",
       "<table border=\"1\" class=\"dataframe\">\n",
       "  <thead>\n",
       "    <tr style=\"text-align: right;\">\n",
       "      <th></th>\n",
       "      <th>PERFORM_CNS_SCORE_Band</th>\n",
       "      <th>loan_default</th>\n",
       "    </tr>\n",
       "  </thead>\n",
       "  <tbody>\n",
       "    <tr>\n",
       "      <th>0</th>\n",
       "      <td>(-0.89, 89.0]</td>\n",
       "      <td>0.229726</td>\n",
       "    </tr>\n",
       "    <tr>\n",
       "      <th>1</th>\n",
       "      <td>(89.0, 178.0]</td>\n",
       "      <td>NaN</td>\n",
       "    </tr>\n",
       "    <tr>\n",
       "      <th>2</th>\n",
       "      <td>(178.0, 267.0]</td>\n",
       "      <td>NaN</td>\n",
       "    </tr>\n",
       "    <tr>\n",
       "      <th>3</th>\n",
       "      <td>(267.0, 356.0]</td>\n",
       "      <td>0.301116</td>\n",
       "    </tr>\n",
       "    <tr>\n",
       "      <th>4</th>\n",
       "      <td>(356.0, 445.0]</td>\n",
       "      <td>0.299908</td>\n",
       "    </tr>\n",
       "    <tr>\n",
       "      <th>5</th>\n",
       "      <td>(445.0, 534.0]</td>\n",
       "      <td>0.249280</td>\n",
       "    </tr>\n",
       "    <tr>\n",
       "      <th>6</th>\n",
       "      <td>(534.0, 623.0]</td>\n",
       "      <td>0.262104</td>\n",
       "    </tr>\n",
       "    <tr>\n",
       "      <th>7</th>\n",
       "      <td>(623.0, 712.0]</td>\n",
       "      <td>0.184259</td>\n",
       "    </tr>\n",
       "    <tr>\n",
       "      <th>8</th>\n",
       "      <td>(712.0, 801.0]</td>\n",
       "      <td>0.152289</td>\n",
       "    </tr>\n",
       "    <tr>\n",
       "      <th>9</th>\n",
       "      <td>(801.0, 890.0]</td>\n",
       "      <td>0.164595</td>\n",
       "    </tr>\n",
       "  </tbody>\n",
       "</table>\n",
       "</div>"
      ],
      "text/plain": [
       "  PERFORM_CNS_SCORE_Band  loan_default\n",
       "0          (-0.89, 89.0]      0.229726\n",
       "1          (89.0, 178.0]           NaN\n",
       "2         (178.0, 267.0]           NaN\n",
       "3         (267.0, 356.0]      0.301116\n",
       "4         (356.0, 445.0]      0.299908\n",
       "5         (445.0, 534.0]      0.249280\n",
       "6         (534.0, 623.0]      0.262104\n",
       "7         (623.0, 712.0]      0.184259\n",
       "8         (712.0, 801.0]      0.152289\n",
       "9         (801.0, 890.0]      0.164595"
      ]
     },
     "execution_count": 16,
     "metadata": {},
     "output_type": "execute_result"
    }
   ],
   "source": [
    "train_df['PERFORM_CNS_SCORE_Band'] = pd.cut(train_df['PERFORM_CNS_SCORE'],10)\n",
    "train_df[['PERFORM_CNS_SCORE_Band', 'loan_default']].groupby(['PERFORM_CNS_SCORE_Band'], as_index=False).mean().sort_values(by='PERFORM_CNS_SCORE_Band', ascending=True)"
   ]
  },
  {
   "cell_type": "code",
   "execution_count": 17,
   "metadata": {
    "collapsed": true
   },
   "outputs": [],
   "source": [
    "for dataset in combine:    \n",
    "    dataset.loc[ dataset['PERFORM_CNS_SCORE'] <= 89, 'PERFORM_CNS_SCORE'] = 0\n",
    "    dataset.loc[(dataset['PERFORM_CNS_SCORE'] > 89) & (dataset['PERFORM_CNS_SCORE'] <= 178), 'PERFORM_CNS_SCORE'] = 1\n",
    "    dataset.loc[(dataset['PERFORM_CNS_SCORE'] > 178) & (dataset['PERFORM_CNS_SCORE'] <= 267), 'PERFORM_CNS_SCORE'] = 2\n",
    "    dataset.loc[(dataset['PERFORM_CNS_SCORE'] > 267) & (dataset['PERFORM_CNS_SCORE'] <= 356), 'PERFORM_CNS_SCORE'] = 3\n",
    "    dataset.loc[(dataset['PERFORM_CNS_SCORE'] > 356) & (dataset['PERFORM_CNS_SCORE'] <= 445), 'PERFORM_CNS_SCORE'] = 4\n",
    "    dataset.loc[(dataset['PERFORM_CNS_SCORE'] > 445) & (dataset['PERFORM_CNS_SCORE'] <= 534), 'PERFORM_CNS_SCORE'] = 5\n",
    "    dataset.loc[(dataset['PERFORM_CNS_SCORE'] > 534) & (dataset['PERFORM_CNS_SCORE'] <= 623), 'PERFORM_CNS_SCORE'] = 6\n",
    "    dataset.loc[(dataset['PERFORM_CNS_SCORE'] > 623) & (dataset['PERFORM_CNS_SCORE'] <= 712), 'PERFORM_CNS_SCORE'] = 7\n",
    "    dataset.loc[(dataset['PERFORM_CNS_SCORE'] > 712) & (dataset['PERFORM_CNS_SCORE'] <= 801), 'PERFORM_CNS_SCORE'] = 8\n",
    "    dataset.loc[ dataset['PERFORM_CNS_SCORE'] > 801, 'PERFORM_CNS_SCORE'] = 9\n"
   ]
  },
  {
   "cell_type": "code",
   "execution_count": 18,
   "metadata": {},
   "outputs": [
    {
     "data": {
      "text/plain": [
       "9"
      ]
     },
     "execution_count": 18,
     "metadata": {},
     "output_type": "execute_result"
    }
   ],
   "source": [
    "train_df['PERFORM_CNS_SCORE'].max()"
   ]
  },
  {
   "cell_type": "code",
   "execution_count": 19,
   "metadata": {},
   "outputs": [
    {
     "data": {
      "text/plain": [
       "9"
      ]
     },
     "execution_count": 19,
     "metadata": {},
     "output_type": "execute_result"
    }
   ],
   "source": [
    "test_df['PERFORM_CNS_SCORE'].max()"
   ]
  },
  {
   "cell_type": "markdown",
   "metadata": {},
   "source": [
    "* Primary no of Active accounts - Count of active loans taken by the customer at the time of disbursement"
   ]
  },
  {
   "cell_type": "code",
   "execution_count": 20,
   "metadata": {},
   "outputs": [
    {
     "data": {
      "text/html": [
       "<div>\n",
       "<style>\n",
       "    .dataframe thead tr:only-child th {\n",
       "        text-align: right;\n",
       "    }\n",
       "\n",
       "    .dataframe thead th {\n",
       "        text-align: left;\n",
       "    }\n",
       "\n",
       "    .dataframe tbody tr th {\n",
       "        vertical-align: top;\n",
       "    }\n",
       "</style>\n",
       "<table border=\"1\" class=\"dataframe\">\n",
       "  <thead>\n",
       "    <tr style=\"text-align: right;\">\n",
       "      <th></th>\n",
       "      <th>PRI_ACTIVE_ACCTS_Band</th>\n",
       "      <th>loan_default</th>\n",
       "    </tr>\n",
       "  </thead>\n",
       "  <tbody>\n",
       "    <tr>\n",
       "      <th>0</th>\n",
       "      <td>(-0.144, 28.8]</td>\n",
       "      <td>0.217077</td>\n",
       "    </tr>\n",
       "    <tr>\n",
       "      <th>1</th>\n",
       "      <td>(28.8, 57.6]</td>\n",
       "      <td>0.142857</td>\n",
       "    </tr>\n",
       "    <tr>\n",
       "      <th>2</th>\n",
       "      <td>(57.6, 86.4]</td>\n",
       "      <td>0.000000</td>\n",
       "    </tr>\n",
       "    <tr>\n",
       "      <th>3</th>\n",
       "      <td>(86.4, 115.2]</td>\n",
       "      <td>NaN</td>\n",
       "    </tr>\n",
       "    <tr>\n",
       "      <th>4</th>\n",
       "      <td>(115.2, 144.0]</td>\n",
       "      <td>0.000000</td>\n",
       "    </tr>\n",
       "  </tbody>\n",
       "</table>\n",
       "</div>"
      ],
      "text/plain": [
       "  PRI_ACTIVE_ACCTS_Band  loan_default\n",
       "0        (-0.144, 28.8]      0.217077\n",
       "1          (28.8, 57.6]      0.142857\n",
       "2          (57.6, 86.4]      0.000000\n",
       "3         (86.4, 115.2]           NaN\n",
       "4        (115.2, 144.0]      0.000000"
      ]
     },
     "execution_count": 20,
     "metadata": {},
     "output_type": "execute_result"
    }
   ],
   "source": [
    "train_df['PRI_ACTIVE_ACCTS_Band'] = pd.cut(train_df['PRI_ACTIVE_ACCTS'],5)\n",
    "train_df[['PRI_ACTIVE_ACCTS_Band', 'loan_default']].groupby(['PRI_ACTIVE_ACCTS_Band'], as_index=False).mean().sort_values(by='PRI_ACTIVE_ACCTS_Band', ascending=True)"
   ]
  },
  {
   "cell_type": "code",
   "execution_count": 21,
   "metadata": {},
   "outputs": [
    {
     "data": {
      "text/plain": [
       "144"
      ]
     },
     "execution_count": 21,
     "metadata": {},
     "output_type": "execute_result"
    }
   ],
   "source": [
    "train_df['PRI_ACTIVE_ACCTS'].max()"
   ]
  },
  {
   "cell_type": "code",
   "execution_count": 22,
   "metadata": {
    "collapsed": true
   },
   "outputs": [],
   "source": [
    "for dataset in combine:    \n",
    "    dataset.loc[ dataset['PRI_ACTIVE_ACCTS'] <= 28.8, 'PRI_ACTIVE_ACCTS'] = 0\n",
    "    dataset.loc[(dataset['PRI_ACTIVE_ACCTS'] > 28.8) & (dataset['PRI_ACTIVE_ACCTS'] <= 57.6), 'PRI_ACTIVE_ACCTS'] = 1\n",
    "    dataset.loc[(dataset['PRI_ACTIVE_ACCTS'] > 57.6) & (dataset['PRI_ACTIVE_ACCTS'] <= 86.4), 'PRI_ACTIVE_ACCTS'] = 2\n",
    "    dataset.loc[(dataset['PRI_ACTIVE_ACCTS'] > 86.4) & (dataset['PRI_ACTIVE_ACCTS'] <= 115.2), 'PRI_ACTIVE_ACCTS'] = 3\n",
    "    dataset.loc[ dataset['PRI_ACTIVE_ACCTS'] > 115.2, 'PRI_ACTIVE_ACCTS'] = 4\n"
   ]
  },
  {
   "cell_type": "code",
   "execution_count": 23,
   "metadata": {},
   "outputs": [
    {
     "data": {
      "text/plain": [
       "4"
      ]
     },
     "execution_count": 23,
     "metadata": {},
     "output_type": "execute_result"
    }
   ],
   "source": [
    "train_df['PRI_ACTIVE_ACCTS'].max()"
   ]
  },
  {
   "cell_type": "code",
   "execution_count": 24,
   "metadata": {
    "scrolled": true
   },
   "outputs": [
    {
     "data": {
      "text/plain": [
       "1"
      ]
     },
     "execution_count": 24,
     "metadata": {},
     "output_type": "execute_result"
    }
   ],
   "source": [
    "test_df['PRI_ACTIVE_ACCTS'].max()"
   ]
  },
  {
   "cell_type": "markdown",
   "metadata": {},
   "source": [
    "* Primary OverDue Accounts - count of default accounts at the time of disbursement"
   ]
  },
  {
   "cell_type": "code",
   "execution_count": 25,
   "metadata": {},
   "outputs": [
    {
     "data": {
      "text/html": [
       "<div>\n",
       "<style>\n",
       "    .dataframe thead tr:only-child th {\n",
       "        text-align: right;\n",
       "    }\n",
       "\n",
       "    .dataframe thead th {\n",
       "        text-align: left;\n",
       "    }\n",
       "\n",
       "    .dataframe tbody tr th {\n",
       "        vertical-align: top;\n",
       "    }\n",
       "</style>\n",
       "<table border=\"1\" class=\"dataframe\">\n",
       "  <thead>\n",
       "    <tr style=\"text-align: right;\">\n",
       "      <th></th>\n",
       "      <th>PRI_OVERDUE_ACCTS_Band</th>\n",
       "      <th>loan_default</th>\n",
       "    </tr>\n",
       "  </thead>\n",
       "  <tbody>\n",
       "    <tr>\n",
       "      <th>0</th>\n",
       "      <td>(-0.025, 5.0]</td>\n",
       "      <td>0.217067</td>\n",
       "    </tr>\n",
       "    <tr>\n",
       "      <th>1</th>\n",
       "      <td>(5.0, 10.0]</td>\n",
       "      <td>0.213542</td>\n",
       "    </tr>\n",
       "    <tr>\n",
       "      <th>2</th>\n",
       "      <td>(10.0, 15.0]</td>\n",
       "      <td>0.258065</td>\n",
       "    </tr>\n",
       "    <tr>\n",
       "      <th>3</th>\n",
       "      <td>(15.0, 20.0]</td>\n",
       "      <td>0.333333</td>\n",
       "    </tr>\n",
       "    <tr>\n",
       "      <th>4</th>\n",
       "      <td>(20.0, 25.0]</td>\n",
       "      <td>0.000000</td>\n",
       "    </tr>\n",
       "  </tbody>\n",
       "</table>\n",
       "</div>"
      ],
      "text/plain": [
       "  PRI_OVERDUE_ACCTS_Band  loan_default\n",
       "0          (-0.025, 5.0]      0.217067\n",
       "1            (5.0, 10.0]      0.213542\n",
       "2           (10.0, 15.0]      0.258065\n",
       "3           (15.0, 20.0]      0.333333\n",
       "4           (20.0, 25.0]      0.000000"
      ]
     },
     "execution_count": 25,
     "metadata": {},
     "output_type": "execute_result"
    }
   ],
   "source": [
    "train_df['PRI_OVERDUE_ACCTS_Band'] = pd.cut(train_df['PRI_OVERDUE_ACCTS'],5)\n",
    "train_df[['PRI_OVERDUE_ACCTS_Band', 'loan_default']].groupby(['PRI_OVERDUE_ACCTS_Band'], as_index=False).mean().sort_values(by='PRI_OVERDUE_ACCTS_Band', ascending=True)"
   ]
  },
  {
   "cell_type": "code",
   "execution_count": 26,
   "metadata": {},
   "outputs": [
    {
     "data": {
      "text/plain": [
       "25"
      ]
     },
     "execution_count": 26,
     "metadata": {},
     "output_type": "execute_result"
    }
   ],
   "source": [
    "train_df['PRI_OVERDUE_ACCTS'].max()"
   ]
  },
  {
   "cell_type": "code",
   "execution_count": 27,
   "metadata": {
    "collapsed": true
   },
   "outputs": [],
   "source": [
    "for dataset in combine:    \n",
    "    dataset.loc[ dataset['PRI_OVERDUE_ACCTS'] <= 5, 'PRI_OVERDUE_ACCTS'] = 0\n",
    "    dataset.loc[(dataset['PRI_OVERDUE_ACCTS'] > 5) & (dataset['PRI_OVERDUE_ACCTS'] <= 10), 'PRI_OVERDUE_ACCTS'] = 1\n",
    "    dataset.loc[(dataset['PRI_OVERDUE_ACCTS'] > 10) & (dataset['PRI_OVERDUE_ACCTS'] <= 15), 'PRI_OVERDUE_ACCTS'] = 2\n",
    "    dataset.loc[(dataset['PRI_OVERDUE_ACCTS'] > 15) & (dataset['PRI_OVERDUE_ACCTS'] <= 20), 'PRI_OVERDUE_ACCTS'] = 3\n",
    "    dataset.loc[ dataset['PRI_OVERDUE_ACCTS'] > 20, 'PRI_OVERDUE_ACCTS'] = 4\n"
   ]
  },
  {
   "cell_type": "code",
   "execution_count": 28,
   "metadata": {},
   "outputs": [
    {
     "data": {
      "text/plain": [
       "4"
      ]
     },
     "execution_count": 28,
     "metadata": {},
     "output_type": "execute_result"
    }
   ],
   "source": [
    "train_df['PRI_OVERDUE_ACCTS'].max()"
   ]
  },
  {
   "cell_type": "code",
   "execution_count": 29,
   "metadata": {},
   "outputs": [
    {
     "data": {
      "text/html": [
       "<div>\n",
       "<style>\n",
       "    .dataframe thead tr:only-child th {\n",
       "        text-align: right;\n",
       "    }\n",
       "\n",
       "    .dataframe thead th {\n",
       "        text-align: left;\n",
       "    }\n",
       "\n",
       "    .dataframe tbody tr th {\n",
       "        vertical-align: top;\n",
       "    }\n",
       "</style>\n",
       "<table border=\"1\" class=\"dataframe\">\n",
       "  <thead>\n",
       "    <tr style=\"text-align: right;\">\n",
       "      <th></th>\n",
       "      <th>PRI_CURRENT_BALANCE_Band</th>\n",
       "      <th>loan_default</th>\n",
       "    </tr>\n",
       "  </thead>\n",
       "  <tbody>\n",
       "    <tr>\n",
       "      <th>0</th>\n",
       "      <td>(-6781499.216, 13962347.2]</td>\n",
       "      <td>0.217120</td>\n",
       "    </tr>\n",
       "    <tr>\n",
       "      <th>1</th>\n",
       "      <td>(13962347.2, 34602990.4]</td>\n",
       "      <td>0.134454</td>\n",
       "    </tr>\n",
       "    <tr>\n",
       "      <th>2</th>\n",
       "      <td>(34602990.4, 55243633.6]</td>\n",
       "      <td>0.222222</td>\n",
       "    </tr>\n",
       "    <tr>\n",
       "      <th>3</th>\n",
       "      <td>(55243633.6, 75884276.8]</td>\n",
       "      <td>0.000000</td>\n",
       "    </tr>\n",
       "    <tr>\n",
       "      <th>4</th>\n",
       "      <td>(75884276.8, 96524920.0]</td>\n",
       "      <td>0.000000</td>\n",
       "    </tr>\n",
       "  </tbody>\n",
       "</table>\n",
       "</div>"
      ],
      "text/plain": [
       "     PRI_CURRENT_BALANCE_Band  loan_default\n",
       "0  (-6781499.216, 13962347.2]      0.217120\n",
       "1    (13962347.2, 34602990.4]      0.134454\n",
       "2    (34602990.4, 55243633.6]      0.222222\n",
       "3    (55243633.6, 75884276.8]      0.000000\n",
       "4    (75884276.8, 96524920.0]      0.000000"
      ]
     },
     "execution_count": 29,
     "metadata": {},
     "output_type": "execute_result"
    }
   ],
   "source": [
    "train_df['PRI_CURRENT_BALANCE_Band'] = pd.cut(train_df['PRI_CURRENT_BALANCE'],5)\n",
    "train_df[['PRI_CURRENT_BALANCE_Band', 'loan_default']].groupby(['PRI_CURRENT_BALANCE_Band'], as_index=False).mean().sort_values(by='PRI_CURRENT_BALANCE_Band', ascending=True)"
   ]
  },
  {
   "cell_type": "code",
   "execution_count": 30,
   "metadata": {},
   "outputs": [
    {
     "data": {
      "text/plain": [
       "96524920"
      ]
     },
     "execution_count": 30,
     "metadata": {},
     "output_type": "execute_result"
    }
   ],
   "source": [
    "train_df['PRI_CURRENT_BALANCE'].max()"
   ]
  },
  {
   "cell_type": "code",
   "execution_count": 31,
   "metadata": {
    "collapsed": true
   },
   "outputs": [],
   "source": [
    "for dataset in combine:    \n",
    "    dataset.loc[ dataset['PRI_CURRENT_BALANCE'] <= 13962347.2, 'PRI_CURRENT_BALANCE'] = 0\n",
    "    dataset.loc[(dataset['PRI_CURRENT_BALANCE'] > 13962347.2) & (dataset['PRI_CURRENT_BALANCE'] <= 34602990.4), 'PRI_CURRENT_BALANCE'] = 1\n",
    "    dataset.loc[(dataset['PRI_CURRENT_BALANCE'] > 34602990.4) & (dataset['PRI_CURRENT_BALANCE'] <= 55243633.6), 'PRI_CURRENT_BALANCE'] = 2\n",
    "    dataset.loc[(dataset['PRI_CURRENT_BALANCE'] > 55243633.6) & (dataset['PRI_CURRENT_BALANCE'] <= 75884276.8), 'PRI_CURRENT_BALANCE'] = 3\n",
    "    dataset.loc[ dataset['PRI_CURRENT_BALANCE'] > 75884276.8, 'PRI_CURRENT_BALANCE'] = 4\n"
   ]
  },
  {
   "cell_type": "code",
   "execution_count": 32,
   "metadata": {},
   "outputs": [
    {
     "data": {
      "text/plain": [
       "4"
      ]
     },
     "execution_count": 32,
     "metadata": {},
     "output_type": "execute_result"
    }
   ],
   "source": [
    "train_df['PRI_CURRENT_BALANCE'].max()"
   ]
  },
  {
   "cell_type": "markdown",
   "metadata": {},
   "source": [
    "* Secondary No of Accounts - count of total loans taken by the customer at the time of disbursement"
   ]
  },
  {
   "cell_type": "code",
   "execution_count": 33,
   "metadata": {},
   "outputs": [
    {
     "data": {
      "text/html": [
       "<div>\n",
       "<style>\n",
       "    .dataframe thead tr:only-child th {\n",
       "        text-align: right;\n",
       "    }\n",
       "\n",
       "    .dataframe thead th {\n",
       "        text-align: left;\n",
       "    }\n",
       "\n",
       "    .dataframe tbody tr th {\n",
       "        vertical-align: top;\n",
       "    }\n",
       "</style>\n",
       "<table border=\"1\" class=\"dataframe\">\n",
       "  <thead>\n",
       "    <tr style=\"text-align: right;\">\n",
       "      <th></th>\n",
       "      <th>SEC_NO_OF_ACCTS_Band</th>\n",
       "      <th>loan_default</th>\n",
       "    </tr>\n",
       "  </thead>\n",
       "  <tbody>\n",
       "    <tr>\n",
       "      <th>0</th>\n",
       "      <td>(-0.052, 13.0]</td>\n",
       "      <td>0.217099</td>\n",
       "    </tr>\n",
       "    <tr>\n",
       "      <th>1</th>\n",
       "      <td>(13.0, 26.0]</td>\n",
       "      <td>0.149254</td>\n",
       "    </tr>\n",
       "    <tr>\n",
       "      <th>2</th>\n",
       "      <td>(26.0, 39.0]</td>\n",
       "      <td>0.142857</td>\n",
       "    </tr>\n",
       "    <tr>\n",
       "      <th>3</th>\n",
       "      <td>(39.0, 52.0]</td>\n",
       "      <td>0.000000</td>\n",
       "    </tr>\n",
       "  </tbody>\n",
       "</table>\n",
       "</div>"
      ],
      "text/plain": [
       "  SEC_NO_OF_ACCTS_Band  loan_default\n",
       "0       (-0.052, 13.0]      0.217099\n",
       "1         (13.0, 26.0]      0.149254\n",
       "2         (26.0, 39.0]      0.142857\n",
       "3         (39.0, 52.0]      0.000000"
      ]
     },
     "execution_count": 33,
     "metadata": {},
     "output_type": "execute_result"
    }
   ],
   "source": [
    "train_df['SEC_NO_OF_ACCTS_Band'] = pd.cut(train_df['SEC_NO_OF_ACCTS'],4)\n",
    "train_df[['SEC_NO_OF_ACCTS_Band', 'loan_default']].groupby(['SEC_NO_OF_ACCTS_Band'], as_index=False).mean().sort_values(by='SEC_NO_OF_ACCTS_Band', ascending=True)"
   ]
  },
  {
   "cell_type": "code",
   "execution_count": 34,
   "metadata": {
    "collapsed": true
   },
   "outputs": [],
   "source": [
    "for dataset in combine:    \n",
    "    dataset.loc[ dataset['SEC_NO_OF_ACCTS'] <= 13, 'SEC_NO_OF_ACCTS'] = 0\n",
    "    dataset.loc[(dataset['SEC_NO_OF_ACCTS'] > 13) & (dataset['SEC_NO_OF_ACCTS'] <= 26), 'SEC_NO_OF_ACCTS'] = 1\n",
    "    dataset.loc[(dataset['SEC_NO_OF_ACCTS'] > 26) & (dataset['SEC_NO_OF_ACCTS'] <= 39), 'SEC_NO_OF_ACCTS'] = 2\n",
    "    dataset.loc[ dataset['SEC_NO_OF_ACCTS'] > 39, 'SEC_NO_OF_ACCTS'] = 3\n"
   ]
  },
  {
   "cell_type": "code",
   "execution_count": 35,
   "metadata": {},
   "outputs": [
    {
     "data": {
      "text/plain": [
       "3"
      ]
     },
     "execution_count": 35,
     "metadata": {},
     "output_type": "execute_result"
    }
   ],
   "source": [
    "train_df['SEC_NO_OF_ACCTS'].max()"
   ]
  },
  {
   "cell_type": "markdown",
   "metadata": {},
   "source": [
    "* Secondary Active Accounts - Count of active loans taken by the customer at the time of disbursement"
   ]
  },
  {
   "cell_type": "code",
   "execution_count": 36,
   "metadata": {},
   "outputs": [
    {
     "data": {
      "text/html": [
       "<div>\n",
       "<style>\n",
       "    .dataframe thead tr:only-child th {\n",
       "        text-align: right;\n",
       "    }\n",
       "\n",
       "    .dataframe thead th {\n",
       "        text-align: left;\n",
       "    }\n",
       "\n",
       "    .dataframe tbody tr th {\n",
       "        vertical-align: top;\n",
       "    }\n",
       "</style>\n",
       "<table border=\"1\" class=\"dataframe\">\n",
       "  <thead>\n",
       "    <tr style=\"text-align: right;\">\n",
       "      <th></th>\n",
       "      <th>SEC_ACTIVE_ACCTS_Band</th>\n",
       "      <th>loan_default</th>\n",
       "    </tr>\n",
       "  </thead>\n",
       "  <tbody>\n",
       "    <tr>\n",
       "      <th>0</th>\n",
       "      <td>(-0.036, 9.0]</td>\n",
       "      <td>0.217069</td>\n",
       "    </tr>\n",
       "    <tr>\n",
       "      <th>1</th>\n",
       "      <td>(9.0, 18.0]</td>\n",
       "      <td>0.242424</td>\n",
       "    </tr>\n",
       "    <tr>\n",
       "      <th>2</th>\n",
       "      <td>(18.0, 27.0]</td>\n",
       "      <td>0.200000</td>\n",
       "    </tr>\n",
       "    <tr>\n",
       "      <th>3</th>\n",
       "      <td>(27.0, 36.0]</td>\n",
       "      <td>0.000000</td>\n",
       "    </tr>\n",
       "  </tbody>\n",
       "</table>\n",
       "</div>"
      ],
      "text/plain": [
       "  SEC_ACTIVE_ACCTS_Band  loan_default\n",
       "0         (-0.036, 9.0]      0.217069\n",
       "1           (9.0, 18.0]      0.242424\n",
       "2          (18.0, 27.0]      0.200000\n",
       "3          (27.0, 36.0]      0.000000"
      ]
     },
     "execution_count": 36,
     "metadata": {},
     "output_type": "execute_result"
    }
   ],
   "source": [
    "train_df['SEC_ACTIVE_ACCTS_Band'] = pd.cut(train_df['SEC_ACTIVE_ACCTS'],4)\n",
    "train_df[['SEC_ACTIVE_ACCTS_Band', 'loan_default']].groupby(['SEC_ACTIVE_ACCTS_Band'], as_index=False).mean().sort_values(by='SEC_ACTIVE_ACCTS_Band', ascending=True)"
   ]
  },
  {
   "cell_type": "code",
   "execution_count": 37,
   "metadata": {
    "collapsed": true
   },
   "outputs": [],
   "source": [
    "for dataset in combine:    \n",
    "    dataset.loc[ dataset['SEC_ACTIVE_ACCTS'] <= 9, 'SEC_ACTIVE_ACCTS'] = 0\n",
    "    dataset.loc[(dataset['SEC_ACTIVE_ACCTS'] > 9) & (dataset['SEC_ACTIVE_ACCTS'] <= 18), 'SEC_ACTIVE_ACCTS'] = 1\n",
    "    dataset.loc[(dataset['SEC_ACTIVE_ACCTS'] > 18) & (dataset['SEC_ACTIVE_ACCTS'] <= 27), 'SEC_ACTIVE_ACCTS'] = 2\n",
    "    dataset.loc[ dataset['SEC_ACTIVE_ACCTS'] > 27, 'SEC_ACTIVE_ACCTS'] = 3\n"
   ]
  },
  {
   "cell_type": "code",
   "execution_count": 38,
   "metadata": {},
   "outputs": [
    {
     "data": {
      "text/plain": [
       "3"
      ]
     },
     "execution_count": 38,
     "metadata": {},
     "output_type": "execute_result"
    }
   ],
   "source": [
    "train_df['SEC_ACTIVE_ACCTS'].max()"
   ]
  },
  {
   "cell_type": "markdown",
   "metadata": {},
   "source": [
    "* Secondary OverDue Accounts - count of default accounts at the time of disbursement"
   ]
  },
  {
   "cell_type": "code",
   "execution_count": 39,
   "metadata": {},
   "outputs": [
    {
     "data": {
      "text/html": [
       "<div>\n",
       "<style>\n",
       "    .dataframe thead tr:only-child th {\n",
       "        text-align: right;\n",
       "    }\n",
       "\n",
       "    .dataframe thead th {\n",
       "        text-align: left;\n",
       "    }\n",
       "\n",
       "    .dataframe tbody tr th {\n",
       "        vertical-align: top;\n",
       "    }\n",
       "</style>\n",
       "<table border=\"1\" class=\"dataframe\">\n",
       "  <thead>\n",
       "    <tr style=\"text-align: right;\">\n",
       "      <th></th>\n",
       "      <th>SEC_OVERDUE_ACCTS_Band</th>\n",
       "      <th>loan_default</th>\n",
       "    </tr>\n",
       "  </thead>\n",
       "  <tbody>\n",
       "    <tr>\n",
       "      <th>0</th>\n",
       "      <td>(-0.008, 2.0]</td>\n",
       "      <td>0.217070</td>\n",
       "    </tr>\n",
       "    <tr>\n",
       "      <th>1</th>\n",
       "      <td>(2.0, 4.0]</td>\n",
       "      <td>0.212121</td>\n",
       "    </tr>\n",
       "    <tr>\n",
       "      <th>2</th>\n",
       "      <td>(4.0, 6.0]</td>\n",
       "      <td>0.285714</td>\n",
       "    </tr>\n",
       "    <tr>\n",
       "      <th>3</th>\n",
       "      <td>(6.0, 8.0]</td>\n",
       "      <td>0.000000</td>\n",
       "    </tr>\n",
       "  </tbody>\n",
       "</table>\n",
       "</div>"
      ],
      "text/plain": [
       "  SEC_OVERDUE_ACCTS_Band  loan_default\n",
       "0          (-0.008, 2.0]      0.217070\n",
       "1             (2.0, 4.0]      0.212121\n",
       "2             (4.0, 6.0]      0.285714\n",
       "3             (6.0, 8.0]      0.000000"
      ]
     },
     "execution_count": 39,
     "metadata": {},
     "output_type": "execute_result"
    }
   ],
   "source": [
    "train_df['SEC_OVERDUE_ACCTS_Band'] = pd.cut(train_df['SEC_OVERDUE_ACCTS'],4)\n",
    "train_df[['SEC_OVERDUE_ACCTS_Band', 'loan_default']].groupby(['SEC_OVERDUE_ACCTS_Band'], as_index=False).mean().sort_values(by='SEC_OVERDUE_ACCTS_Band', ascending=True)"
   ]
  },
  {
   "cell_type": "code",
   "execution_count": 40,
   "metadata": {
    "collapsed": true
   },
   "outputs": [],
   "source": [
    "for dataset in combine:    \n",
    "    dataset.loc[ dataset['SEC_OVERDUE_ACCTS'] <= 9, 'SEC_OVERDUE_ACCTS'] = 0\n",
    "    dataset.loc[(dataset['SEC_OVERDUE_ACCTS'] > 9) & (dataset['SEC_OVERDUE_ACCTS'] <= 18), 'SEC_OVERDUE_ACCTS'] = 1\n",
    "    dataset.loc[(dataset['SEC_OVERDUE_ACCTS'] > 18) & (dataset['SEC_OVERDUE_ACCTS'] <= 27), 'SEC_OVERDUE_ACCTS'] = 2\n",
    "    dataset.loc[ dataset['SEC_OVERDUE_ACCTS'] > 27, 'SEC_OVERDUE_ACCTS'] = 3\n"
   ]
  },
  {
   "cell_type": "code",
   "execution_count": 41,
   "metadata": {},
   "outputs": [
    {
     "data": {
      "text/plain": [
       "3"
      ]
     },
     "execution_count": 41,
     "metadata": {},
     "output_type": "execute_result"
    }
   ],
   "source": [
    "train_df['SEC_ACTIVE_ACCTS'].max()"
   ]
  },
  {
   "cell_type": "markdown",
   "metadata": {},
   "source": [
    "* Primary Instalment - EMI Amount of the primary loan"
   ]
  },
  {
   "cell_type": "code",
   "execution_count": 42,
   "metadata": {
    "scrolled": true
   },
   "outputs": [
    {
     "data": {
      "text/html": [
       "<div>\n",
       "<style>\n",
       "    .dataframe thead tr:only-child th {\n",
       "        text-align: right;\n",
       "    }\n",
       "\n",
       "    .dataframe thead th {\n",
       "        text-align: left;\n",
       "    }\n",
       "\n",
       "    .dataframe tbody tr th {\n",
       "        vertical-align: top;\n",
       "    }\n",
       "</style>\n",
       "<table border=\"1\" class=\"dataframe\">\n",
       "  <thead>\n",
       "    <tr style=\"text-align: right;\">\n",
       "      <th></th>\n",
       "      <th>PRIMARY_INSTAL_AMT_Band</th>\n",
       "      <th>loan_default</th>\n",
       "    </tr>\n",
       "  </thead>\n",
       "  <tbody>\n",
       "    <tr>\n",
       "      <th>0</th>\n",
       "      <td>(-25642.806, 5128561.2]</td>\n",
       "      <td>0.217074</td>\n",
       "    </tr>\n",
       "    <tr>\n",
       "      <th>1</th>\n",
       "      <td>(5128561.2, 10257122.4]</td>\n",
       "      <td>0.166667</td>\n",
       "    </tr>\n",
       "    <tr>\n",
       "      <th>2</th>\n",
       "      <td>(10257122.4, 15385683.6]</td>\n",
       "      <td>0.250000</td>\n",
       "    </tr>\n",
       "    <tr>\n",
       "      <th>3</th>\n",
       "      <td>(15385683.6, 20514244.8]</td>\n",
       "      <td>0.333333</td>\n",
       "    </tr>\n",
       "    <tr>\n",
       "      <th>4</th>\n",
       "      <td>(20514244.8, 25642806.0]</td>\n",
       "      <td>0.000000</td>\n",
       "    </tr>\n",
       "  </tbody>\n",
       "</table>\n",
       "</div>"
      ],
      "text/plain": [
       "    PRIMARY_INSTAL_AMT_Band  loan_default\n",
       "0   (-25642.806, 5128561.2]      0.217074\n",
       "1   (5128561.2, 10257122.4]      0.166667\n",
       "2  (10257122.4, 15385683.6]      0.250000\n",
       "3  (15385683.6, 20514244.8]      0.333333\n",
       "4  (20514244.8, 25642806.0]      0.000000"
      ]
     },
     "execution_count": 42,
     "metadata": {},
     "output_type": "execute_result"
    }
   ],
   "source": [
    "train_df['PRIMARY_INSTAL_AMT_Band'] = pd.cut(train_df['PRIMARY_INSTAL_AMT'],5)\n",
    "train_df[['PRIMARY_INSTAL_AMT_Band', 'loan_default']].groupby(['PRIMARY_INSTAL_AMT_Band'], as_index=False).mean().sort_values(by='PRIMARY_INSTAL_AMT_Band', ascending=True)"
   ]
  },
  {
   "cell_type": "code",
   "execution_count": 43,
   "metadata": {
    "collapsed": true
   },
   "outputs": [],
   "source": [
    "for dataset in combine:    \n",
    "    dataset.loc[ dataset['PRIMARY_INSTAL_AMT'] <= 5128561.2, 'PRIMARY_INSTAL_AMT'] = 0\n",
    "    dataset.loc[(dataset['PRIMARY_INSTAL_AMT'] > 5128561.25) & (dataset['PRIMARY_INSTAL_AMT'] <= 10257122.4), 'PRIMARY_INSTAL_AMT'] = 1\n",
    "    dataset.loc[(dataset['PRIMARY_INSTAL_AMT'] > 10257122.4) & (dataset['PRIMARY_INSTAL_AMT'] <= 15385683.6), 'PRIMARY_INSTAL_AMT'] = 2\n",
    "    dataset.loc[(dataset['PRIMARY_INSTAL_AMT'] > 15385683.6) & (dataset['PRIMARY_INSTAL_AMT'] <= 20514244.8), 'PRIMARY_INSTAL_AMT'] = 3\n",
    "    dataset.loc[ dataset['PRIMARY_INSTAL_AMT'] > 20514244.8, 'PRIMARY_INSTAL_AMT'] = 4\n"
   ]
  },
  {
   "cell_type": "code",
   "execution_count": 44,
   "metadata": {},
   "outputs": [
    {
     "data": {
      "text/plain": [
       "4"
      ]
     },
     "execution_count": 44,
     "metadata": {},
     "output_type": "execute_result"
    }
   ],
   "source": [
    "train_df['PRIMARY_INSTAL_AMT'].max()"
   ]
  },
  {
   "cell_type": "markdown",
   "metadata": {},
   "source": [
    "* New Accounts taken in last 6 months - New loans taken by the customer in last 6 months before the disbursment"
   ]
  },
  {
   "cell_type": "code",
   "execution_count": 45,
   "metadata": {
    "scrolled": true
   },
   "outputs": [
    {
     "data": {
      "text/html": [
       "<div>\n",
       "<style>\n",
       "    .dataframe thead tr:only-child th {\n",
       "        text-align: right;\n",
       "    }\n",
       "\n",
       "    .dataframe thead th {\n",
       "        text-align: left;\n",
       "    }\n",
       "\n",
       "    .dataframe tbody tr th {\n",
       "        vertical-align: top;\n",
       "    }\n",
       "</style>\n",
       "<table border=\"1\" class=\"dataframe\">\n",
       "  <thead>\n",
       "    <tr style=\"text-align: right;\">\n",
       "      <th></th>\n",
       "      <th>NEW_ACCTS_IN_LAST_SIX_MONTHS_Band</th>\n",
       "      <th>loan_default</th>\n",
       "    </tr>\n",
       "  </thead>\n",
       "  <tbody>\n",
       "    <tr>\n",
       "      <th>0</th>\n",
       "      <td>(-0.035, 7.0]</td>\n",
       "      <td>0.217121</td>\n",
       "    </tr>\n",
       "    <tr>\n",
       "      <th>1</th>\n",
       "      <td>(7.0, 14.0]</td>\n",
       "      <td>0.178771</td>\n",
       "    </tr>\n",
       "    <tr>\n",
       "      <th>2</th>\n",
       "      <td>(14.0, 21.0]</td>\n",
       "      <td>0.363636</td>\n",
       "    </tr>\n",
       "    <tr>\n",
       "      <th>3</th>\n",
       "      <td>(21.0, 28.0]</td>\n",
       "      <td>0.000000</td>\n",
       "    </tr>\n",
       "    <tr>\n",
       "      <th>4</th>\n",
       "      <td>(28.0, 35.0]</td>\n",
       "      <td>0.000000</td>\n",
       "    </tr>\n",
       "  </tbody>\n",
       "</table>\n",
       "</div>"
      ],
      "text/plain": [
       "  NEW_ACCTS_IN_LAST_SIX_MONTHS_Band  loan_default\n",
       "0                     (-0.035, 7.0]      0.217121\n",
       "1                       (7.0, 14.0]      0.178771\n",
       "2                      (14.0, 21.0]      0.363636\n",
       "3                      (21.0, 28.0]      0.000000\n",
       "4                      (28.0, 35.0]      0.000000"
      ]
     },
     "execution_count": 45,
     "metadata": {},
     "output_type": "execute_result"
    }
   ],
   "source": [
    "train_df['NEW_ACCTS_IN_LAST_SIX_MONTHS_Band'] = pd.cut(train_df['NEW_ACCTS_IN_LAST_SIX_MONTHS'],5)\n",
    "train_df[['NEW_ACCTS_IN_LAST_SIX_MONTHS_Band', 'loan_default']].groupby(['NEW_ACCTS_IN_LAST_SIX_MONTHS_Band'], as_index=False).mean().sort_values(by='NEW_ACCTS_IN_LAST_SIX_MONTHS_Band', ascending=True)"
   ]
  },
  {
   "cell_type": "code",
   "execution_count": 46,
   "metadata": {
    "collapsed": true
   },
   "outputs": [],
   "source": [
    "for dataset in combine:    \n",
    "    dataset.loc[ dataset['NEW_ACCTS_IN_LAST_SIX_MONTHS'] <= 7, 'NEW_ACCTS_IN_LAST_SIX_MONTHS'] = 0\n",
    "    dataset.loc[(dataset['NEW_ACCTS_IN_LAST_SIX_MONTHS'] > 7) & (dataset['NEW_ACCTS_IN_LAST_SIX_MONTHS'] <= 14), 'NEW_ACCTS_IN_LAST_SIX_MONTHS'] = 1\n",
    "    dataset.loc[(dataset['NEW_ACCTS_IN_LAST_SIX_MONTHS'] > 14) & (dataset['NEW_ACCTS_IN_LAST_SIX_MONTHS'] <= 21), 'NEW_ACCTS_IN_LAST_SIX_MONTHS'] = 2\n",
    "    dataset.loc[(dataset['NEW_ACCTS_IN_LAST_SIX_MONTHS'] > 21) & (dataset['NEW_ACCTS_IN_LAST_SIX_MONTHS'] <= 28), 'NEW_ACCTS_IN_LAST_SIX_MONTHS'] = 3\n",
    "    dataset.loc[ dataset['NEW_ACCTS_IN_LAST_SIX_MONTHS'] > 28, 'NEW_ACCTS_IN_LAST_SIX_MONTHS'] = 4\n"
   ]
  },
  {
   "cell_type": "code",
   "execution_count": 47,
   "metadata": {},
   "outputs": [
    {
     "data": {
      "text/plain": [
       "4"
      ]
     },
     "execution_count": 47,
     "metadata": {},
     "output_type": "execute_result"
    }
   ],
   "source": [
    "train_df['NEW_ACCTS_IN_LAST_SIX_MONTHS'].max()"
   ]
  },
  {
   "cell_type": "markdown",
   "metadata": {},
   "source": [
    "* DELINQUENT.ACCTS.IN.LAST.SIX.MONTHS - Loans defaulted in the last 6 months"
   ]
  },
  {
   "cell_type": "code",
   "execution_count": 48,
   "metadata": {
    "scrolled": true
   },
   "outputs": [
    {
     "data": {
      "text/html": [
       "<div>\n",
       "<style>\n",
       "    .dataframe thead tr:only-child th {\n",
       "        text-align: right;\n",
       "    }\n",
       "\n",
       "    .dataframe thead th {\n",
       "        text-align: left;\n",
       "    }\n",
       "\n",
       "    .dataframe tbody tr th {\n",
       "        vertical-align: top;\n",
       "    }\n",
       "</style>\n",
       "<table border=\"1\" class=\"dataframe\">\n",
       "  <thead>\n",
       "    <tr style=\"text-align: right;\">\n",
       "      <th></th>\n",
       "      <th>DELINQUENT_ACCTS_IN_LAST_SIX_MONTHS_Band</th>\n",
       "      <th>loan_default</th>\n",
       "    </tr>\n",
       "  </thead>\n",
       "  <tbody>\n",
       "    <tr>\n",
       "      <th>0</th>\n",
       "      <td>(-0.02, 4.0]</td>\n",
       "      <td>0.217044</td>\n",
       "    </tr>\n",
       "    <tr>\n",
       "      <th>1</th>\n",
       "      <td>(4.0, 8.0]</td>\n",
       "      <td>0.275510</td>\n",
       "    </tr>\n",
       "    <tr>\n",
       "      <th>2</th>\n",
       "      <td>(8.0, 12.0]</td>\n",
       "      <td>0.300000</td>\n",
       "    </tr>\n",
       "    <tr>\n",
       "      <th>3</th>\n",
       "      <td>(12.0, 16.0]</td>\n",
       "      <td>NaN</td>\n",
       "    </tr>\n",
       "    <tr>\n",
       "      <th>4</th>\n",
       "      <td>(16.0, 20.0]</td>\n",
       "      <td>0.000000</td>\n",
       "    </tr>\n",
       "  </tbody>\n",
       "</table>\n",
       "</div>"
      ],
      "text/plain": [
       "  DELINQUENT_ACCTS_IN_LAST_SIX_MONTHS_Band  loan_default\n",
       "0                             (-0.02, 4.0]      0.217044\n",
       "1                               (4.0, 8.0]      0.275510\n",
       "2                              (8.0, 12.0]      0.300000\n",
       "3                             (12.0, 16.0]           NaN\n",
       "4                             (16.0, 20.0]      0.000000"
      ]
     },
     "execution_count": 48,
     "metadata": {},
     "output_type": "execute_result"
    }
   ],
   "source": [
    "train_df['DELINQUENT_ACCTS_IN_LAST_SIX_MONTHS_Band'] = pd.cut(train_df['DELINQUENT_ACCTS_IN_LAST_SIX_MONTHS'],5)\n",
    "train_df[['DELINQUENT_ACCTS_IN_LAST_SIX_MONTHS_Band', 'loan_default']].groupby(['DELINQUENT_ACCTS_IN_LAST_SIX_MONTHS_Band'], as_index=False).mean().sort_values(by='DELINQUENT_ACCTS_IN_LAST_SIX_MONTHS_Band', ascending=True)"
   ]
  },
  {
   "cell_type": "code",
   "execution_count": 49,
   "metadata": {
    "collapsed": true
   },
   "outputs": [],
   "source": [
    "for dataset in combine:    \n",
    "    dataset.loc[ dataset['DELINQUENT_ACCTS_IN_LAST_SIX_MONTHS'] <= 4, 'DELINQUENT_ACCTS_IN_LAST_SIX_MONTHS'] = 0\n",
    "    dataset.loc[(dataset['DELINQUENT_ACCTS_IN_LAST_SIX_MONTHS'] > 4) & (dataset['DELINQUENT_ACCTS_IN_LAST_SIX_MONTHS'] <= 8), 'DELINQUENT_ACCTS_IN_LAST_SIX_MONTHS'] = 1\n",
    "    dataset.loc[(dataset['DELINQUENT_ACCTS_IN_LAST_SIX_MONTHS'] > 8) & (dataset['DELINQUENT_ACCTS_IN_LAST_SIX_MONTHS'] <= 12), 'DELINQUENT_ACCTS_IN_LAST_SIX_MONTHS'] = 2\n",
    "    dataset.loc[(dataset['DELINQUENT_ACCTS_IN_LAST_SIX_MONTHS'] > 12) & (dataset['DELINQUENT_ACCTS_IN_LAST_SIX_MONTHS'] <= 16), 'DELINQUENT_ACCTS_IN_LAST_SIX_MONTHS'] = 3\n",
    "    dataset.loc[ dataset['DELINQUENT_ACCTS_IN_LAST_SIX_MONTHS'] > 16, 'DELINQUENT_ACCTS_IN_LAST_SIX_MONTHS'] = 4\n"
   ]
  },
  {
   "cell_type": "code",
   "execution_count": 50,
   "metadata": {
    "scrolled": true
   },
   "outputs": [
    {
     "data": {
      "text/plain": [
       "4"
      ]
     },
     "execution_count": 50,
     "metadata": {},
     "output_type": "execute_result"
    }
   ],
   "source": [
    "train_df['DELINQUENT_ACCTS_IN_LAST_SIX_MONTHS'].max()"
   ]
  },
  {
   "cell_type": "markdown",
   "metadata": {},
   "source": [
    "* NO.OF_INQUIRIES - Enquries done by the customer for loans"
   ]
  },
  {
   "cell_type": "code",
   "execution_count": 51,
   "metadata": {},
   "outputs": [
    {
     "data": {
      "text/html": [
       "<div>\n",
       "<style>\n",
       "    .dataframe thead tr:only-child th {\n",
       "        text-align: right;\n",
       "    }\n",
       "\n",
       "    .dataframe thead th {\n",
       "        text-align: left;\n",
       "    }\n",
       "\n",
       "    .dataframe tbody tr th {\n",
       "        vertical-align: top;\n",
       "    }\n",
       "</style>\n",
       "<table border=\"1\" class=\"dataframe\">\n",
       "  <thead>\n",
       "    <tr style=\"text-align: right;\">\n",
       "      <th></th>\n",
       "      <th>NO_OF_INQUIRIES_Band</th>\n",
       "      <th>loan_default</th>\n",
       "    </tr>\n",
       "  </thead>\n",
       "  <tbody>\n",
       "    <tr>\n",
       "      <th>0</th>\n",
       "      <td>(-0.036, 6.0]</td>\n",
       "      <td>0.216795</td>\n",
       "    </tr>\n",
       "    <tr>\n",
       "      <th>1</th>\n",
       "      <td>(6.0, 12.0]</td>\n",
       "      <td>0.389049</td>\n",
       "    </tr>\n",
       "    <tr>\n",
       "      <th>2</th>\n",
       "      <td>(12.0, 18.0]</td>\n",
       "      <td>0.375000</td>\n",
       "    </tr>\n",
       "    <tr>\n",
       "      <th>3</th>\n",
       "      <td>(18.0, 24.0]</td>\n",
       "      <td>0.222222</td>\n",
       "    </tr>\n",
       "    <tr>\n",
       "      <th>4</th>\n",
       "      <td>(24.0, 30.0]</td>\n",
       "      <td>0.000000</td>\n",
       "    </tr>\n",
       "    <tr>\n",
       "      <th>5</th>\n",
       "      <td>(30.0, 36.0]</td>\n",
       "      <td>0.000000</td>\n",
       "    </tr>\n",
       "  </tbody>\n",
       "</table>\n",
       "</div>"
      ],
      "text/plain": [
       "  NO_OF_INQUIRIES_Band  loan_default\n",
       "0        (-0.036, 6.0]      0.216795\n",
       "1          (6.0, 12.0]      0.389049\n",
       "2         (12.0, 18.0]      0.375000\n",
       "3         (18.0, 24.0]      0.222222\n",
       "4         (24.0, 30.0]      0.000000\n",
       "5         (30.0, 36.0]      0.000000"
      ]
     },
     "execution_count": 51,
     "metadata": {},
     "output_type": "execute_result"
    }
   ],
   "source": [
    "train_df['NO_OF_INQUIRIES_Band'] = pd.cut(train_df['NO_OF_INQUIRIES'],6)\n",
    "train_df[['NO_OF_INQUIRIES_Band', 'loan_default']].groupby(['NO_OF_INQUIRIES_Band'], as_index=False).mean().sort_values(by='NO_OF_INQUIRIES_Band', ascending=True)"
   ]
  },
  {
   "cell_type": "code",
   "execution_count": 52,
   "metadata": {
    "collapsed": true
   },
   "outputs": [],
   "source": [
    "for dataset in combine:    \n",
    "    dataset.loc[ dataset['NO_OF_INQUIRIES'] <= 6, 'NO_OF_INQUIRIES'] = 0\n",
    "    dataset.loc[(dataset['NO_OF_INQUIRIES'] > 6) & (dataset['NO_OF_INQUIRIES'] <= 12), 'NO_OF_INQUIRIES'] = 1\n",
    "    dataset.loc[(dataset['NO_OF_INQUIRIES'] > 12) & (dataset['NO_OF_INQUIRIES'] <= 18), 'NO_OF_INQUIRIES'] = 2\n",
    "    dataset.loc[(dataset['NO_OF_INQUIRIES'] > 18) & (dataset['NO_OF_INQUIRIES'] <= 24), 'NO_OF_INQUIRIES'] = 3\n",
    "    dataset.loc[(dataset['NO_OF_INQUIRIES'] > 24) & (dataset['NO_OF_INQUIRIES'] <= 30), 'NO_OF_INQUIRIES'] = 4\n",
    "    dataset.loc[ dataset['NO_OF_INQUIRIES'] > 30, 'NO_OF_INQUIRIES'] = 5\n",
    "    "
   ]
  },
  {
   "cell_type": "code",
   "execution_count": 53,
   "metadata": {},
   "outputs": [
    {
     "data": {
      "text/plain": [
       "3"
      ]
     },
     "execution_count": 53,
     "metadata": {},
     "output_type": "execute_result"
    }
   ],
   "source": [
    "train_df['NO_OF_INQUIRIES'].max()\n",
    "test_df['NO_OF_INQUIRIES'].max()"
   ]
  },
  {
   "cell_type": "markdown",
   "metadata": {},
   "source": [
    "# Calculating age from DOB"
   ]
  },
  {
   "cell_type": "code",
   "execution_count": 54,
   "metadata": {
    "collapsed": true
   },
   "outputs": [],
   "source": [
    "for dataset in combine:\n",
    "    dataset['Age'] = int(date.today().strftime('%y')) - (dataset['Date_of_Birth'].str[-2:].astype(int)) + 100\n",
    "    "
   ]
  },
  {
   "cell_type": "code",
   "execution_count": 55,
   "metadata": {
    "collapsed": true
   },
   "outputs": [],
   "source": [
    "for index, row in train_df.iterrows():\n",
    "    age = int(row.Age)\n",
    "    if age >= 100:\n",
    "        train_df.loc[index, 'Age'] = age - 100"
   ]
  },
  {
   "cell_type": "code",
   "execution_count": 56,
   "metadata": {},
   "outputs": [
    {
     "data": {
      "text/html": [
       "<div>\n",
       "<style>\n",
       "    .dataframe thead tr:only-child th {\n",
       "        text-align: right;\n",
       "    }\n",
       "\n",
       "    .dataframe thead th {\n",
       "        text-align: left;\n",
       "    }\n",
       "\n",
       "    .dataframe tbody tr th {\n",
       "        vertical-align: top;\n",
       "    }\n",
       "</style>\n",
       "<table border=\"1\" class=\"dataframe\">\n",
       "  <thead>\n",
       "    <tr style=\"text-align: right;\">\n",
       "      <th></th>\n",
       "      <th>AgeBand</th>\n",
       "      <th>loan_default</th>\n",
       "    </tr>\n",
       "  </thead>\n",
       "  <tbody>\n",
       "    <tr>\n",
       "      <th>0</th>\n",
       "      <td>(18.949, 29.2]</td>\n",
       "      <td>0.235205</td>\n",
       "    </tr>\n",
       "    <tr>\n",
       "      <th>1</th>\n",
       "      <td>(29.2, 39.4]</td>\n",
       "      <td>0.214122</td>\n",
       "    </tr>\n",
       "    <tr>\n",
       "      <th>2</th>\n",
       "      <td>(39.4, 49.6]</td>\n",
       "      <td>0.202379</td>\n",
       "    </tr>\n",
       "    <tr>\n",
       "      <th>3</th>\n",
       "      <td>(49.6, 59.8]</td>\n",
       "      <td>0.196550</td>\n",
       "    </tr>\n",
       "    <tr>\n",
       "      <th>4</th>\n",
       "      <td>(59.8, 70.0]</td>\n",
       "      <td>0.161969</td>\n",
       "    </tr>\n",
       "  </tbody>\n",
       "</table>\n",
       "</div>"
      ],
      "text/plain": [
       "          AgeBand  loan_default\n",
       "0  (18.949, 29.2]      0.235205\n",
       "1    (29.2, 39.4]      0.214122\n",
       "2    (39.4, 49.6]      0.202379\n",
       "3    (49.6, 59.8]      0.196550\n",
       "4    (59.8, 70.0]      0.161969"
      ]
     },
     "execution_count": 56,
     "metadata": {},
     "output_type": "execute_result"
    }
   ],
   "source": [
    "train_df['AgeBand'] = pd.cut(train_df['Age'], 5)\n",
    "train_df[['AgeBand', 'loan_default']].groupby(['AgeBand'], as_index=False).mean().sort_values(by='AgeBand', ascending=True)"
   ]
  },
  {
   "cell_type": "code",
   "execution_count": 57,
   "metadata": {
    "collapsed": true
   },
   "outputs": [],
   "source": [
    "for dataset in combine:    \n",
    "    dataset.loc[ dataset['Age'] <= 29.2, 'Age'] = 0\n",
    "    dataset.loc[(dataset['Age'] > 29.2) & (dataset['Age'] <= 39.4), 'Age'] = 1\n",
    "    dataset.loc[(dataset['Age'] > 39.4) & (dataset['Age'] <= 49.6), 'Age'] = 2\n",
    "    dataset.loc[(dataset['Age'] > 49.6) & (dataset['Age'] <= 59.8), 'Age'] = 3\n",
    "    dataset.loc[ dataset['Age'] > 59.8, 'Age'] = 4\n",
    "    "
   ]
  },
  {
   "cell_type": "code",
   "execution_count": 58,
   "metadata": {
    "collapsed": true
   },
   "outputs": [],
   "source": [
    "# train_df['NO_OF_INQUIRIES'].max()\n",
    "# test_df['NO_OF_INQUIRIES'].max()"
   ]
  },
  {
   "cell_type": "markdown",
   "metadata": {},
   "source": [
    "# Converting Average Account age and credit History Length columns to months numerical "
   ]
  },
  {
   "cell_type": "code",
   "execution_count": 59,
   "metadata": {
    "collapsed": true
   },
   "outputs": [],
   "source": [
    "def split_it(strn):\n",
    "#     return re.findall('\\d+',strn)\n",
    "    return (int(re.findall('\\d+',strn)[0])*12 + int(re.findall('\\d+',strn)[1]))"
   ]
  },
  {
   "cell_type": "code",
   "execution_count": 60,
   "metadata": {
    "collapsed": true
   },
   "outputs": [],
   "source": [
    "for dataset in combine:\n",
    "    dataset['Avg_Acnt_Age_Mnths'] = dataset['AVERAGE_ACCT_AGE'].apply(split_it)"
   ]
  },
  {
   "cell_type": "code",
   "execution_count": 61,
   "metadata": {
    "collapsed": true
   },
   "outputs": [],
   "source": [
    "for dataset in combine:\n",
    "    dataset['Credit_His_Length_Mnths'] = dataset['CREDIT_HISTORY_LENGTH'].apply(split_it)"
   ]
  },
  {
   "cell_type": "code",
   "execution_count": 62,
   "metadata": {},
   "outputs": [
    {
     "data": {
      "text/html": [
       "<div>\n",
       "<style>\n",
       "    .dataframe thead tr:only-child th {\n",
       "        text-align: right;\n",
       "    }\n",
       "\n",
       "    .dataframe thead th {\n",
       "        text-align: left;\n",
       "    }\n",
       "\n",
       "    .dataframe tbody tr th {\n",
       "        vertical-align: top;\n",
       "    }\n",
       "</style>\n",
       "<table border=\"1\" class=\"dataframe\">\n",
       "  <thead>\n",
       "    <tr style=\"text-align: right;\">\n",
       "      <th></th>\n",
       "      <th>UniqueID</th>\n",
       "      <th>disbursed_amount</th>\n",
       "      <th>asset_cost</th>\n",
       "      <th>ltv</th>\n",
       "      <th>branch_id</th>\n",
       "      <th>supplier_id</th>\n",
       "      <th>manufacturer_id</th>\n",
       "      <th>Current_pincode_ID</th>\n",
       "      <th>Date_of_Birth</th>\n",
       "      <th>Employment_Type</th>\n",
       "      <th>...</th>\n",
       "      <th>SEC_ACTIVE_ACCTS_Band</th>\n",
       "      <th>SEC_OVERDUE_ACCTS_Band</th>\n",
       "      <th>PRIMARY_INSTAL_AMT_Band</th>\n",
       "      <th>NEW_ACCTS_IN_LAST_SIX_MONTHS_Band</th>\n",
       "      <th>DELINQUENT_ACCTS_IN_LAST_SIX_MONTHS_Band</th>\n",
       "      <th>NO_OF_INQUIRIES_Band</th>\n",
       "      <th>Age</th>\n",
       "      <th>AgeBand</th>\n",
       "      <th>Avg_Acnt_Age_Mnths</th>\n",
       "      <th>Credit_His_Length_Mnths</th>\n",
       "    </tr>\n",
       "  </thead>\n",
       "  <tbody>\n",
       "    <tr>\n",
       "      <th>233149</th>\n",
       "      <td>626432</td>\n",
       "      <td>63213</td>\n",
       "      <td>105405</td>\n",
       "      <td>60.72</td>\n",
       "      <td>34</td>\n",
       "      <td>20700</td>\n",
       "      <td>48</td>\n",
       "      <td>1050</td>\n",
       "      <td>01-08-88</td>\n",
       "      <td>2.0</td>\n",
       "      <td>...</td>\n",
       "      <td>(-0.036, 9.0]</td>\n",
       "      <td>(-0.008, 2.0]</td>\n",
       "      <td>(-25642.806, 5128561.2]</td>\n",
       "      <td>(-0.035, 7.0]</td>\n",
       "      <td>(-0.02, 4.0]</td>\n",
       "      <td>(-0.036, 6.0]</td>\n",
       "      <td>1</td>\n",
       "      <td>(29.2, 39.4]</td>\n",
       "      <td>21</td>\n",
       "      <td>39</td>\n",
       "    </tr>\n",
       "    <tr>\n",
       "      <th>233150</th>\n",
       "      <td>606141</td>\n",
       "      <td>73651</td>\n",
       "      <td>100600</td>\n",
       "      <td>74.95</td>\n",
       "      <td>34</td>\n",
       "      <td>23775</td>\n",
       "      <td>51</td>\n",
       "      <td>990</td>\n",
       "      <td>05-12-88</td>\n",
       "      <td>1.0</td>\n",
       "      <td>...</td>\n",
       "      <td>(-0.036, 9.0]</td>\n",
       "      <td>(-0.008, 2.0]</td>\n",
       "      <td>(-25642.806, 5128561.2]</td>\n",
       "      <td>(-0.035, 7.0]</td>\n",
       "      <td>(-0.02, 4.0]</td>\n",
       "      <td>(-0.036, 6.0]</td>\n",
       "      <td>1</td>\n",
       "      <td>(29.2, 39.4]</td>\n",
       "      <td>6</td>\n",
       "      <td>6</td>\n",
       "    </tr>\n",
       "    <tr>\n",
       "      <th>233151</th>\n",
       "      <td>613658</td>\n",
       "      <td>33484</td>\n",
       "      <td>71212</td>\n",
       "      <td>48.45</td>\n",
       "      <td>77</td>\n",
       "      <td>22186</td>\n",
       "      <td>86</td>\n",
       "      <td>2299</td>\n",
       "      <td>01-06-76</td>\n",
       "      <td>2.0</td>\n",
       "      <td>...</td>\n",
       "      <td>(-0.036, 9.0]</td>\n",
       "      <td>(-0.008, 2.0]</td>\n",
       "      <td>(-25642.806, 5128561.2]</td>\n",
       "      <td>(-0.035, 7.0]</td>\n",
       "      <td>(-0.02, 4.0]</td>\n",
       "      <td>(-0.036, 6.0]</td>\n",
       "      <td>2</td>\n",
       "      <td>(39.4, 49.6]</td>\n",
       "      <td>0</td>\n",
       "      <td>0</td>\n",
       "    </tr>\n",
       "    <tr>\n",
       "      <th>233152</th>\n",
       "      <td>548084</td>\n",
       "      <td>34259</td>\n",
       "      <td>73286</td>\n",
       "      <td>49.10</td>\n",
       "      <td>77</td>\n",
       "      <td>22186</td>\n",
       "      <td>86</td>\n",
       "      <td>2299</td>\n",
       "      <td>26-03-94</td>\n",
       "      <td>2.0</td>\n",
       "      <td>...</td>\n",
       "      <td>(-0.036, 9.0]</td>\n",
       "      <td>(-0.008, 2.0]</td>\n",
       "      <td>(-25642.806, 5128561.2]</td>\n",
       "      <td>(-0.035, 7.0]</td>\n",
       "      <td>(-0.02, 4.0]</td>\n",
       "      <td>(-0.036, 6.0]</td>\n",
       "      <td>0</td>\n",
       "      <td>(18.949, 29.2]</td>\n",
       "      <td>0</td>\n",
       "      <td>0</td>\n",
       "    </tr>\n",
       "    <tr>\n",
       "      <th>233153</th>\n",
       "      <td>630213</td>\n",
       "      <td>75751</td>\n",
       "      <td>116009</td>\n",
       "      <td>66.81</td>\n",
       "      <td>77</td>\n",
       "      <td>22186</td>\n",
       "      <td>86</td>\n",
       "      <td>2299</td>\n",
       "      <td>18-02-84</td>\n",
       "      <td>2.0</td>\n",
       "      <td>...</td>\n",
       "      <td>(-0.036, 9.0]</td>\n",
       "      <td>(-0.008, 2.0]</td>\n",
       "      <td>(-25642.806, 5128561.2]</td>\n",
       "      <td>(-0.035, 7.0]</td>\n",
       "      <td>(-0.02, 4.0]</td>\n",
       "      <td>(-0.036, 6.0]</td>\n",
       "      <td>1</td>\n",
       "      <td>(29.2, 39.4]</td>\n",
       "      <td>0</td>\n",
       "      <td>0</td>\n",
       "    </tr>\n",
       "  </tbody>\n",
       "</table>\n",
       "<p>5 rows × 57 columns</p>\n",
       "</div>"
      ],
      "text/plain": [
       "        UniqueID  disbursed_amount  asset_cost    ltv  branch_id  supplier_id  \\\n",
       "233149    626432             63213      105405  60.72         34        20700   \n",
       "233150    606141             73651      100600  74.95         34        23775   \n",
       "233151    613658             33484       71212  48.45         77        22186   \n",
       "233152    548084             34259       73286  49.10         77        22186   \n",
       "233153    630213             75751      116009  66.81         77        22186   \n",
       "\n",
       "        manufacturer_id  Current_pincode_ID Date_of_Birth  Employment_Type  \\\n",
       "233149               48                1050      01-08-88              2.0   \n",
       "233150               51                 990      05-12-88              1.0   \n",
       "233151               86                2299      01-06-76              2.0   \n",
       "233152               86                2299      26-03-94              2.0   \n",
       "233153               86                2299      18-02-84              2.0   \n",
       "\n",
       "                 ...            SEC_ACTIVE_ACCTS_Band  SEC_OVERDUE_ACCTS_Band  \\\n",
       "233149           ...                    (-0.036, 9.0]           (-0.008, 2.0]   \n",
       "233150           ...                    (-0.036, 9.0]           (-0.008, 2.0]   \n",
       "233151           ...                    (-0.036, 9.0]           (-0.008, 2.0]   \n",
       "233152           ...                    (-0.036, 9.0]           (-0.008, 2.0]   \n",
       "233153           ...                    (-0.036, 9.0]           (-0.008, 2.0]   \n",
       "\n",
       "        PRIMARY_INSTAL_AMT_Band  NEW_ACCTS_IN_LAST_SIX_MONTHS_Band  \\\n",
       "233149  (-25642.806, 5128561.2]                      (-0.035, 7.0]   \n",
       "233150  (-25642.806, 5128561.2]                      (-0.035, 7.0]   \n",
       "233151  (-25642.806, 5128561.2]                      (-0.035, 7.0]   \n",
       "233152  (-25642.806, 5128561.2]                      (-0.035, 7.0]   \n",
       "233153  (-25642.806, 5128561.2]                      (-0.035, 7.0]   \n",
       "\n",
       "        DELINQUENT_ACCTS_IN_LAST_SIX_MONTHS_Band  NO_OF_INQUIRIES_Band  Age  \\\n",
       "233149                              (-0.02, 4.0]         (-0.036, 6.0]    1   \n",
       "233150                              (-0.02, 4.0]         (-0.036, 6.0]    1   \n",
       "233151                              (-0.02, 4.0]         (-0.036, 6.0]    2   \n",
       "233152                              (-0.02, 4.0]         (-0.036, 6.0]    0   \n",
       "233153                              (-0.02, 4.0]         (-0.036, 6.0]    1   \n",
       "\n",
       "               AgeBand  Avg_Acnt_Age_Mnths  Credit_His_Length_Mnths  \n",
       "233149    (29.2, 39.4]                  21                       39  \n",
       "233150    (29.2, 39.4]                   6                        6  \n",
       "233151    (39.4, 49.6]                   0                        0  \n",
       "233152  (18.949, 29.2]                   0                        0  \n",
       "233153    (29.2, 39.4]                   0                        0  \n",
       "\n",
       "[5 rows x 57 columns]"
      ]
     },
     "execution_count": 62,
     "metadata": {},
     "output_type": "execute_result"
    }
   ],
   "source": [
    "train_df.tail()"
   ]
  },
  {
   "cell_type": "markdown",
   "metadata": {},
   "source": [
    "* Average Accounts age band creation\n"
   ]
  },
  {
   "cell_type": "code",
   "execution_count": 63,
   "metadata": {},
   "outputs": [
    {
     "data": {
      "text/html": [
       "<div>\n",
       "<style>\n",
       "    .dataframe thead tr:only-child th {\n",
       "        text-align: right;\n",
       "    }\n",
       "\n",
       "    .dataframe thead th {\n",
       "        text-align: left;\n",
       "    }\n",
       "\n",
       "    .dataframe tbody tr th {\n",
       "        vertical-align: top;\n",
       "    }\n",
       "</style>\n",
       "<table border=\"1\" class=\"dataframe\">\n",
       "  <thead>\n",
       "    <tr style=\"text-align: right;\">\n",
       "      <th></th>\n",
       "      <th>Avg_Acnt_Age_Mnths_Band</th>\n",
       "      <th>loan_default</th>\n",
       "    </tr>\n",
       "  </thead>\n",
       "  <tbody>\n",
       "    <tr>\n",
       "      <th>0</th>\n",
       "      <td>(-0.369, 73.8]</td>\n",
       "      <td>0.217272</td>\n",
       "    </tr>\n",
       "    <tr>\n",
       "      <th>1</th>\n",
       "      <td>(73.8, 147.6]</td>\n",
       "      <td>0.194555</td>\n",
       "    </tr>\n",
       "    <tr>\n",
       "      <th>2</th>\n",
       "      <td>(147.6, 221.4]</td>\n",
       "      <td>0.156250</td>\n",
       "    </tr>\n",
       "    <tr>\n",
       "      <th>3</th>\n",
       "      <td>(221.4, 295.2]</td>\n",
       "      <td>0.000000</td>\n",
       "    </tr>\n",
       "    <tr>\n",
       "      <th>4</th>\n",
       "      <td>(295.2, 369.0]</td>\n",
       "      <td>0.000000</td>\n",
       "    </tr>\n",
       "  </tbody>\n",
       "</table>\n",
       "</div>"
      ],
      "text/plain": [
       "  Avg_Acnt_Age_Mnths_Band  loan_default\n",
       "0          (-0.369, 73.8]      0.217272\n",
       "1           (73.8, 147.6]      0.194555\n",
       "2          (147.6, 221.4]      0.156250\n",
       "3          (221.4, 295.2]      0.000000\n",
       "4          (295.2, 369.0]      0.000000"
      ]
     },
     "execution_count": 63,
     "metadata": {},
     "output_type": "execute_result"
    }
   ],
   "source": [
    "train_df['Avg_Acnt_Age_Mnths_Band'] = pd.cut(train_df['Avg_Acnt_Age_Mnths'], 5)\n",
    "train_df[['Avg_Acnt_Age_Mnths_Band', 'loan_default']].groupby(['Avg_Acnt_Age_Mnths_Band'], as_index=False).mean().sort_values(by='Avg_Acnt_Age_Mnths_Band', ascending=True)"
   ]
  },
  {
   "cell_type": "code",
   "execution_count": 64,
   "metadata": {
    "collapsed": true
   },
   "outputs": [],
   "source": [
    "for dataset in combine:    \n",
    "    dataset.loc[ dataset['Avg_Acnt_Age_Mnths'] <= 73.8, 'Avg_Acnt_Age_Mnths'] = 0\n",
    "    dataset.loc[(dataset['Avg_Acnt_Age_Mnths'] > 73.8) & (dataset['Avg_Acnt_Age_Mnths'] <= 147.6), 'Avg_Acnt_Age_Mnths'] = 1\n",
    "    dataset.loc[(dataset['Avg_Acnt_Age_Mnths'] > 147.6) & (dataset['Avg_Acnt_Age_Mnths'] <= 221.4), 'Avg_Acnt_Age_Mnths'] = 2\n",
    "    dataset.loc[(dataset['Avg_Acnt_Age_Mnths'] > 221.4) & (dataset['Avg_Acnt_Age_Mnths'] <= 295.2), 'Avg_Acnt_Age_Mnths'] = 3\n",
    "    dataset.loc[ dataset['Avg_Acnt_Age_Mnths'] > 295.2, 'Avg_Acnt_Age_Mnths'] = 4\n",
    "    "
   ]
  },
  {
   "cell_type": "code",
   "execution_count": 65,
   "metadata": {},
   "outputs": [
    {
     "data": {
      "text/plain": [
       "4"
      ]
     },
     "execution_count": 65,
     "metadata": {},
     "output_type": "execute_result"
    }
   ],
   "source": [
    "# train_df['Avg_Acnt_Age_Mnths'].max()\n",
    "test_df['Avg_Acnt_Age_Mnths'].max()"
   ]
  },
  {
   "cell_type": "markdown",
   "metadata": {},
   "source": [
    "* Credit History Length Band creation"
   ]
  },
  {
   "cell_type": "code",
   "execution_count": 66,
   "metadata": {},
   "outputs": [
    {
     "data": {
      "text/html": [
       "<div>\n",
       "<style>\n",
       "    .dataframe thead tr:only-child th {\n",
       "        text-align: right;\n",
       "    }\n",
       "\n",
       "    .dataframe thead th {\n",
       "        text-align: left;\n",
       "    }\n",
       "\n",
       "    .dataframe tbody tr th {\n",
       "        vertical-align: top;\n",
       "    }\n",
       "</style>\n",
       "<table border=\"1\" class=\"dataframe\">\n",
       "  <thead>\n",
       "    <tr style=\"text-align: right;\">\n",
       "      <th></th>\n",
       "      <th>Credit_His_Length_Mnths_Band</th>\n",
       "      <th>loan_default</th>\n",
       "    </tr>\n",
       "  </thead>\n",
       "  <tbody>\n",
       "    <tr>\n",
       "      <th>0</th>\n",
       "      <td>(-0.468, 93.6]</td>\n",
       "      <td>0.219192</td>\n",
       "    </tr>\n",
       "    <tr>\n",
       "      <th>1</th>\n",
       "      <td>(93.6, 187.2]</td>\n",
       "      <td>0.148917</td>\n",
       "    </tr>\n",
       "    <tr>\n",
       "      <th>2</th>\n",
       "      <td>(187.2, 280.8]</td>\n",
       "      <td>0.159468</td>\n",
       "    </tr>\n",
       "    <tr>\n",
       "      <th>3</th>\n",
       "      <td>(280.8, 374.4]</td>\n",
       "      <td>0.233333</td>\n",
       "    </tr>\n",
       "    <tr>\n",
       "      <th>4</th>\n",
       "      <td>(374.4, 468.0]</td>\n",
       "      <td>0.250000</td>\n",
       "    </tr>\n",
       "  </tbody>\n",
       "</table>\n",
       "</div>"
      ],
      "text/plain": [
       "  Credit_His_Length_Mnths_Band  loan_default\n",
       "0               (-0.468, 93.6]      0.219192\n",
       "1                (93.6, 187.2]      0.148917\n",
       "2               (187.2, 280.8]      0.159468\n",
       "3               (280.8, 374.4]      0.233333\n",
       "4               (374.4, 468.0]      0.250000"
      ]
     },
     "execution_count": 66,
     "metadata": {},
     "output_type": "execute_result"
    }
   ],
   "source": [
    "train_df['Credit_His_Length_Mnths_Band'] = pd.cut(train_df['Credit_His_Length_Mnths'], 5)\n",
    "train_df[['Credit_His_Length_Mnths_Band', 'loan_default']].groupby(['Credit_His_Length_Mnths_Band'], as_index=False).mean().sort_values(by='Credit_His_Length_Mnths_Band', ascending=True)"
   ]
  },
  {
   "cell_type": "code",
   "execution_count": 67,
   "metadata": {
    "collapsed": true
   },
   "outputs": [],
   "source": [
    "for dataset in combine:    \n",
    "    dataset.loc[ dataset['Credit_His_Length_Mnths'] <= 73.8, 'Credit_His_Length_Mnths'] = 0\n",
    "    dataset.loc[(dataset['Credit_His_Length_Mnths'] > 73.8) & (dataset['Credit_His_Length_Mnths'] <= 147.6), 'Credit_His_Length_Mnths'] = 1\n",
    "    dataset.loc[(dataset['Credit_His_Length_Mnths'] > 147.6) & (dataset['Credit_His_Length_Mnths'] <= 221.4), 'Credit_His_Length_Mnths'] = 2\n",
    "    dataset.loc[(dataset['Credit_His_Length_Mnths'] > 221.4) & (dataset['Credit_His_Length_Mnths'] <= 295.2), 'Credit_His_Length_Mnths'] = 3\n",
    "    dataset.loc[ dataset['Credit_His_Length_Mnths'] > 295.2, 'Credit_His_Length_Mnths'] = 4\n",
    "    "
   ]
  },
  {
   "cell_type": "code",
   "execution_count": 68,
   "metadata": {},
   "outputs": [
    {
     "data": {
      "text/plain": [
       "4"
      ]
     },
     "execution_count": 68,
     "metadata": {},
     "output_type": "execute_result"
    }
   ],
   "source": [
    "train_df['Credit_His_Length_Mnths'].max()\n",
    "# test_df['Credit_His_Length_Mnths'].max()"
   ]
  },
  {
   "cell_type": "code",
   "execution_count": 69,
   "metadata": {
    "scrolled": false
   },
   "outputs": [
    {
     "data": {
      "text/plain": [
       "Index(['UniqueID', 'disbursed_amount', 'asset_cost', 'ltv', 'branch_id',\n",
       "       'supplier_id', 'manufacturer_id', 'Current_pincode_ID', 'Date_of_Birth',\n",
       "       'Employment_Type', 'DisbursalDate', 'State_ID', 'Employee_code_ID',\n",
       "       'MobileNo_Avl_Flag', 'Aadhar_flag', 'PAN_flag', 'VoterID_flag',\n",
       "       'Driving_flag', 'Passport_flag', 'PERFORM_CNS_SCORE',\n",
       "       'PERFORM_CNS_SCORE_DESCRIPTION', 'PRI_NO_OF_ACCTS', 'PRI_ACTIVE_ACCTS',\n",
       "       'PRI_OVERDUE_ACCTS', 'PRI_CURRENT_BALANCE', 'PRI_SANCTIONED_AMOUNT',\n",
       "       'PRI.DISBURSED.AMOUNT', 'SEC_NO_OF_ACCTS', 'SEC_ACTIVE_ACCTS',\n",
       "       'SEC_OVERDUE_ACCTS', 'SEC.CURRENT.BALANCE', 'SEC.SANCTIONED.AMOUNT',\n",
       "       'SEC.DISBURSED.AMOUNT', 'PRIMARY_INSTAL_AMT', 'SEC.INSTAL.AMT',\n",
       "       'NEW_ACCTS_IN_LAST_SIX_MONTHS', 'DELINQUENT_ACCTS_IN_LAST_SIX_MONTHS',\n",
       "       'AVERAGE_ACCT_AGE', 'CREDIT_HISTORY_LENGTH', 'NO_OF_INQUIRIES',\n",
       "       'loan_default', 'PRI_NO_OF_ACCOUNTS_Band', 'PERFORM_CNS_SCORE_Band',\n",
       "       'PRI_ACTIVE_ACCTS_Band', 'PRI_OVERDUE_ACCTS_Band',\n",
       "       'PRI_CURRENT_BALANCE_Band', 'SEC_NO_OF_ACCTS_Band',\n",
       "       'SEC_ACTIVE_ACCTS_Band', 'SEC_OVERDUE_ACCTS_Band',\n",
       "       'PRIMARY_INSTAL_AMT_Band', 'NEW_ACCTS_IN_LAST_SIX_MONTHS_Band',\n",
       "       'DELINQUENT_ACCTS_IN_LAST_SIX_MONTHS_Band', 'NO_OF_INQUIRIES_Band',\n",
       "       'Age', 'AgeBand', 'Avg_Acnt_Age_Mnths', 'Credit_His_Length_Mnths',\n",
       "       'Avg_Acnt_Age_Mnths_Band', 'Credit_His_Length_Mnths_Band'],\n",
       "      dtype='object')"
      ]
     },
     "execution_count": 69,
     "metadata": {},
     "output_type": "execute_result"
    }
   ],
   "source": [
    "train_df.columns"
   ]
  },
  {
   "cell_type": "code",
   "execution_count": 70,
   "metadata": {},
   "outputs": [
    {
     "data": {
      "text/plain": [
       "Index(['UniqueID', 'disbursed_amount', 'asset_cost', 'ltv', 'branch_id',\n",
       "       'supplier_id', 'manufacturer_id', 'Current_pincode_ID', 'Date_of_Birth',\n",
       "       'Employment_Type', 'DisbursalDate', 'State_ID', 'Employee_code_ID',\n",
       "       'MobileNo_Avl_Flag', 'Aadhar_flag', 'PAN_flag', 'VoterID_flag',\n",
       "       'Driving_flag', 'Passport_flag', 'PERFORM_CNS_SCORE',\n",
       "       'PERFORM_CNS_SCORE_DESCRIPTION', 'PRI_NO_OF_ACCTS', 'PRI_ACTIVE_ACCTS',\n",
       "       'PRI_OVERDUE_ACCTS', 'PRI_CURRENT_BALANCE', 'PRI_SANCTIONED_AMOUNT',\n",
       "       'PRI.DISBURSED.AMOUNT', 'SEC_NO_OF_ACCTS', 'SEC_ACTIVE_ACCTS',\n",
       "       'SEC_OVERDUE_ACCTS', 'SEC.CURRENT.BALANCE', 'SEC.SANCTIONED.AMOUNT',\n",
       "       'SEC.DISBURSED.AMOUNT', 'PRIMARY_INSTAL_AMT', 'SEC.INSTAL.AMT',\n",
       "       'NEW_ACCTS_IN_LAST_SIX_MONTHS', 'DELINQUENT_ACCTS_IN_LAST_SIX_MONTHS',\n",
       "       'AVERAGE_ACCT_AGE', 'CREDIT_HISTORY_LENGTH', 'NO_OF_INQUIRIES',\n",
       "       'loan_default', 'PRI_NO_OF_ACCOUNTS_Band', 'PERFORM_CNS_SCORE_Band',\n",
       "       'PRI_ACTIVE_ACCTS_Band', 'PRI_OVERDUE_ACCTS_Band',\n",
       "       'PRI_CURRENT_BALANCE_Band', 'SEC_NO_OF_ACCTS_Band',\n",
       "       'SEC_ACTIVE_ACCTS_Band', 'SEC_OVERDUE_ACCTS_Band',\n",
       "       'PRIMARY_INSTAL_AMT_Band', 'NEW_ACCTS_IN_LAST_SIX_MONTHS_Band',\n",
       "       'DELINQUENT_ACCTS_IN_LAST_SIX_MONTHS_Band', 'NO_OF_INQUIRIES_Band',\n",
       "       'Age', 'AgeBand', 'Avg_Acnt_Age_Mnths', 'Credit_His_Length_Mnths',\n",
       "       'Avg_Acnt_Age_Mnths_Band', 'Credit_His_Length_Mnths_Band'],\n",
       "      dtype='object')"
      ]
     },
     "execution_count": 70,
     "metadata": {},
     "output_type": "execute_result"
    }
   ],
   "source": [
    "train_df.columns"
   ]
  },
  {
   "cell_type": "markdown",
   "metadata": {},
   "source": [
    "* Ltv Band creation"
   ]
  },
  {
   "cell_type": "code",
   "execution_count": 71,
   "metadata": {},
   "outputs": [
    {
     "data": {
      "text/html": [
       "<div>\n",
       "<style>\n",
       "    .dataframe thead tr:only-child th {\n",
       "        text-align: right;\n",
       "    }\n",
       "\n",
       "    .dataframe thead th {\n",
       "        text-align: left;\n",
       "    }\n",
       "\n",
       "    .dataframe tbody tr th {\n",
       "        vertical-align: top;\n",
       "    }\n",
       "</style>\n",
       "<table border=\"1\" class=\"dataframe\">\n",
       "  <thead>\n",
       "    <tr style=\"text-align: right;\">\n",
       "      <th></th>\n",
       "      <th>ltvBand</th>\n",
       "      <th>loan_default</th>\n",
       "    </tr>\n",
       "  </thead>\n",
       "  <tbody>\n",
       "    <tr>\n",
       "      <th>0</th>\n",
       "      <td>(9.945, 18.527]</td>\n",
       "      <td>0.066667</td>\n",
       "    </tr>\n",
       "    <tr>\n",
       "      <th>1</th>\n",
       "      <td>(18.527, 27.024]</td>\n",
       "      <td>0.169065</td>\n",
       "    </tr>\n",
       "    <tr>\n",
       "      <th>2</th>\n",
       "      <td>(27.024, 35.521]</td>\n",
       "      <td>0.127413</td>\n",
       "    </tr>\n",
       "    <tr>\n",
       "      <th>3</th>\n",
       "      <td>(35.521, 44.018]</td>\n",
       "      <td>0.129683</td>\n",
       "    </tr>\n",
       "    <tr>\n",
       "      <th>4</th>\n",
       "      <td>(44.018, 52.515]</td>\n",
       "      <td>0.130960</td>\n",
       "    </tr>\n",
       "    <tr>\n",
       "      <th>5</th>\n",
       "      <td>(52.515, 61.012]</td>\n",
       "      <td>0.148949</td>\n",
       "    </tr>\n",
       "    <tr>\n",
       "      <th>6</th>\n",
       "      <td>(61.012, 69.509]</td>\n",
       "      <td>0.173445</td>\n",
       "    </tr>\n",
       "    <tr>\n",
       "      <th>7</th>\n",
       "      <td>(69.509, 78.006]</td>\n",
       "      <td>0.208740</td>\n",
       "    </tr>\n",
       "    <tr>\n",
       "      <th>8</th>\n",
       "      <td>(78.006, 86.503]</td>\n",
       "      <td>0.252581</td>\n",
       "    </tr>\n",
       "    <tr>\n",
       "      <th>9</th>\n",
       "      <td>(86.503, 95.0]</td>\n",
       "      <td>0.262592</td>\n",
       "    </tr>\n",
       "  </tbody>\n",
       "</table>\n",
       "</div>"
      ],
      "text/plain": [
       "            ltvBand  loan_default\n",
       "0   (9.945, 18.527]      0.066667\n",
       "1  (18.527, 27.024]      0.169065\n",
       "2  (27.024, 35.521]      0.127413\n",
       "3  (35.521, 44.018]      0.129683\n",
       "4  (44.018, 52.515]      0.130960\n",
       "5  (52.515, 61.012]      0.148949\n",
       "6  (61.012, 69.509]      0.173445\n",
       "7  (69.509, 78.006]      0.208740\n",
       "8  (78.006, 86.503]      0.252581\n",
       "9    (86.503, 95.0]      0.262592"
      ]
     },
     "execution_count": 71,
     "metadata": {},
     "output_type": "execute_result"
    }
   ],
   "source": [
    "train_df['ltvBand'] = pd.cut(train_df['ltv'], 10)\n",
    "train_df[['ltvBand', 'loan_default']].groupby(['ltvBand'], as_index=False).mean().sort_values(by='ltvBand', ascending=True)"
   ]
  },
  {
   "cell_type": "code",
   "execution_count": 72,
   "metadata": {
    "collapsed": true
   },
   "outputs": [],
   "source": [
    "for dataset in combine:    \n",
    "    dataset.loc[ dataset['ltv'] <= 18.527, 'ltv'] = 0\n",
    "    dataset.loc[(dataset['ltv'] > 18.527) &  (dataset['ltv'] <= 27.024), 'ltv'] = 1\n",
    "    dataset.loc[(dataset['ltv'] > 27.024) & (dataset['ltv'] <= 35.521), 'ltv'] = 2\n",
    "    dataset.loc[(dataset['ltv'] > 35.521) & (dataset['ltv'] <= 44.018), 'ltv'] = 3\n",
    "    dataset.loc[(dataset['ltv'] > 44.018) & (dataset['ltv'] <= 52.515), 'ltv'] = 4\n",
    "    dataset.loc[(dataset['ltv'] > 52.515) & (dataset['ltv'] <= 61.012), 'ltv'] = 5\n",
    "    dataset.loc[(dataset['ltv'] > 61.012) & (dataset['ltv'] <= 69.509), 'ltv'] = 6\n",
    "    dataset.loc[(dataset['ltv'] > 69.509) & (dataset['ltv'] <= 78.006), 'ltv'] = 7\n",
    "    dataset.loc[(dataset['ltv'] > 78.006) & (dataset['ltv'] <= 86.503), 'ltv'] = 8\n",
    "    dataset.loc[ dataset['ltv'] > 86.503, 'ltv'] = 9\n",
    "    "
   ]
  },
  {
   "cell_type": "code",
   "execution_count": 73,
   "metadata": {
    "scrolled": false
   },
   "outputs": [
    {
     "data": {
      "text/plain": [
       "9.0"
      ]
     },
     "execution_count": 73,
     "metadata": {},
     "output_type": "execute_result"
    }
   ],
   "source": [
    "train_df['ltv'].max()\n",
    "# test_df['ltv'].max()"
   ]
  },
  {
   "cell_type": "markdown",
   "metadata": {},
   "source": [
    "* Dropping unecessary Columns"
   ]
  },
  {
   "cell_type": "code",
   "execution_count": 74,
   "metadata": {
    "collapsed": true
   },
   "outputs": [],
   "source": [
    "train_df = train_df.drop(['UniqueID','disbursed_amount','Date_of_Birth','asset_cost','supplier_id','Current_pincode_ID','DisbursalDate','Employee_code_ID','MobileNo_Avl_Flag','Aadhar_flag','PAN_flag','VoterID_flag','Driving_flag','Passport_flag','PERFORM_CNS_SCORE_DESCRIPTION','PRI_SANCTIONED_AMOUNT','PRI.DISBURSED.AMOUNT','SEC.CURRENT.BALANCE','SEC.SANCTIONED.AMOUNT','SEC.DISBURSED.AMOUNT','SEC.INSTAL.AMT','AVERAGE_ACCT_AGE','CREDIT_HISTORY_LENGTH'], axis=1)"
   ]
  },
  {
   "cell_type": "code",
   "execution_count": 75,
   "metadata": {
    "collapsed": true
   },
   "outputs": [],
   "source": [
    "test_df = test_df.drop(['disbursed_amount','Date_of_Birth','asset_cost','supplier_id','Current_pincode_ID','DisbursalDate','Employee_code_ID','MobileNo_Avl_Flag','Aadhar_flag','PAN_flag','VoterID_flag','Driving_flag','Passport_flag','PERFORM_CNS_SCORE_DESCRIPTION','PRI_SANCTIONED_AMOUNT','PRI.DISBURSED.AMOUNT','SEC.CURRENT.BALANCE','SEC.SANCTIONED.AMOUNT','SEC.DISBURSED.AMOUNT','SEC.INSTAL.AMT','AVERAGE_ACCT_AGE','CREDIT_HISTORY_LENGTH'], axis=1)"
   ]
  },
  {
   "cell_type": "code",
   "execution_count": 76,
   "metadata": {
    "collapsed": true
   },
   "outputs": [],
   "source": [
    "train_df = train_df.drop(['PRI_NO_OF_ACCOUNTS_Band','PRI_ACTIVE_ACCTS_Band','PRI_OVERDUE_ACCTS_Band','PRI_CURRENT_BALANCE_Band','SEC_NO_OF_ACCTS_Band', 'SEC_ACTIVE_ACCTS_Band',\n",
    "       'SEC_OVERDUE_ACCTS_Band', 'PRIMARY_INSTAL_AMT_Band',\n",
    "       'NEW_ACCTS_IN_LAST_SIX_MONTHS_Band',\n",
    "       'DELINQUENT_ACCTS_IN_LAST_SIX_MONTHS_Band', 'NO_OF_INQUIRIES_Band',\n",
    "       'AgeBand','Avg_Acnt_Age_Mnths_Band', 'Credit_His_Length_Mnths_Band','ltvBand','PERFORM_CNS_SCORE_Band'], axis=1)"
   ]
  },
  {
   "cell_type": "code",
   "execution_count": 77,
   "metadata": {},
   "outputs": [
    {
     "data": {
      "text/html": [
       "<div>\n",
       "<style>\n",
       "    .dataframe thead tr:only-child th {\n",
       "        text-align: right;\n",
       "    }\n",
       "\n",
       "    .dataframe thead th {\n",
       "        text-align: left;\n",
       "    }\n",
       "\n",
       "    .dataframe tbody tr th {\n",
       "        vertical-align: top;\n",
       "    }\n",
       "</style>\n",
       "<table border=\"1\" class=\"dataframe\">\n",
       "  <thead>\n",
       "    <tr style=\"text-align: right;\">\n",
       "      <th></th>\n",
       "      <th>ltv</th>\n",
       "      <th>branch_id</th>\n",
       "      <th>manufacturer_id</th>\n",
       "      <th>Employment_Type</th>\n",
       "      <th>State_ID</th>\n",
       "      <th>PERFORM_CNS_SCORE</th>\n",
       "      <th>PRI_NO_OF_ACCTS</th>\n",
       "      <th>PRI_ACTIVE_ACCTS</th>\n",
       "      <th>PRI_OVERDUE_ACCTS</th>\n",
       "      <th>PRI_CURRENT_BALANCE</th>\n",
       "      <th>...</th>\n",
       "      <th>SEC_ACTIVE_ACCTS</th>\n",
       "      <th>SEC_OVERDUE_ACCTS</th>\n",
       "      <th>PRIMARY_INSTAL_AMT</th>\n",
       "      <th>NEW_ACCTS_IN_LAST_SIX_MONTHS</th>\n",
       "      <th>DELINQUENT_ACCTS_IN_LAST_SIX_MONTHS</th>\n",
       "      <th>NO_OF_INQUIRIES</th>\n",
       "      <th>loan_default</th>\n",
       "      <th>Age</th>\n",
       "      <th>Avg_Acnt_Age_Mnths</th>\n",
       "      <th>Credit_His_Length_Mnths</th>\n",
       "    </tr>\n",
       "  </thead>\n",
       "  <tbody>\n",
       "    <tr>\n",
       "      <th>0</th>\n",
       "      <td>9.0</td>\n",
       "      <td>67</td>\n",
       "      <td>45</td>\n",
       "      <td>2.0</td>\n",
       "      <td>6</td>\n",
       "      <td>0</td>\n",
       "      <td>0</td>\n",
       "      <td>0</td>\n",
       "      <td>0</td>\n",
       "      <td>0</td>\n",
       "      <td>...</td>\n",
       "      <td>0</td>\n",
       "      <td>0</td>\n",
       "      <td>0</td>\n",
       "      <td>0</td>\n",
       "      <td>0</td>\n",
       "      <td>0</td>\n",
       "      <td>0</td>\n",
       "      <td>1</td>\n",
       "      <td>0</td>\n",
       "      <td>0</td>\n",
       "    </tr>\n",
       "    <tr>\n",
       "      <th>1</th>\n",
       "      <td>7.0</td>\n",
       "      <td>67</td>\n",
       "      <td>45</td>\n",
       "      <td>1.0</td>\n",
       "      <td>6</td>\n",
       "      <td>6</td>\n",
       "      <td>0</td>\n",
       "      <td>0</td>\n",
       "      <td>0</td>\n",
       "      <td>0</td>\n",
       "      <td>...</td>\n",
       "      <td>0</td>\n",
       "      <td>0</td>\n",
       "      <td>0</td>\n",
       "      <td>0</td>\n",
       "      <td>0</td>\n",
       "      <td>0</td>\n",
       "      <td>1</td>\n",
       "      <td>1</td>\n",
       "      <td>0</td>\n",
       "      <td>0</td>\n",
       "    </tr>\n",
       "    <tr>\n",
       "      <th>2</th>\n",
       "      <td>9.0</td>\n",
       "      <td>67</td>\n",
       "      <td>45</td>\n",
       "      <td>1.0</td>\n",
       "      <td>6</td>\n",
       "      <td>0</td>\n",
       "      <td>0</td>\n",
       "      <td>0</td>\n",
       "      <td>0</td>\n",
       "      <td>0</td>\n",
       "      <td>...</td>\n",
       "      <td>0</td>\n",
       "      <td>0</td>\n",
       "      <td>0</td>\n",
       "      <td>0</td>\n",
       "      <td>0</td>\n",
       "      <td>0</td>\n",
       "      <td>0</td>\n",
       "      <td>1</td>\n",
       "      <td>0</td>\n",
       "      <td>0</td>\n",
       "    </tr>\n",
       "    <tr>\n",
       "      <th>3</th>\n",
       "      <td>9.0</td>\n",
       "      <td>67</td>\n",
       "      <td>45</td>\n",
       "      <td>1.0</td>\n",
       "      <td>6</td>\n",
       "      <td>3</td>\n",
       "      <td>0</td>\n",
       "      <td>0</td>\n",
       "      <td>0</td>\n",
       "      <td>0</td>\n",
       "      <td>...</td>\n",
       "      <td>0</td>\n",
       "      <td>0</td>\n",
       "      <td>0</td>\n",
       "      <td>0</td>\n",
       "      <td>0</td>\n",
       "      <td>0</td>\n",
       "      <td>1</td>\n",
       "      <td>0</td>\n",
       "      <td>0</td>\n",
       "      <td>0</td>\n",
       "    </tr>\n",
       "    <tr>\n",
       "      <th>4</th>\n",
       "      <td>9.0</td>\n",
       "      <td>67</td>\n",
       "      <td>45</td>\n",
       "      <td>1.0</td>\n",
       "      <td>6</td>\n",
       "      <td>0</td>\n",
       "      <td>0</td>\n",
       "      <td>0</td>\n",
       "      <td>0</td>\n",
       "      <td>0</td>\n",
       "      <td>...</td>\n",
       "      <td>0</td>\n",
       "      <td>0</td>\n",
       "      <td>0</td>\n",
       "      <td>0</td>\n",
       "      <td>0</td>\n",
       "      <td>0</td>\n",
       "      <td>1</td>\n",
       "      <td>2</td>\n",
       "      <td>0</td>\n",
       "      <td>0</td>\n",
       "    </tr>\n",
       "  </tbody>\n",
       "</table>\n",
       "<p>5 rows × 21 columns</p>\n",
       "</div>"
      ],
      "text/plain": [
       "   ltv  branch_id  manufacturer_id  Employment_Type  State_ID  \\\n",
       "0  9.0         67               45              2.0         6   \n",
       "1  7.0         67               45              1.0         6   \n",
       "2  9.0         67               45              1.0         6   \n",
       "3  9.0         67               45              1.0         6   \n",
       "4  9.0         67               45              1.0         6   \n",
       "\n",
       "   PERFORM_CNS_SCORE  PRI_NO_OF_ACCTS  PRI_ACTIVE_ACCTS  PRI_OVERDUE_ACCTS  \\\n",
       "0                  0                0                 0                  0   \n",
       "1                  6                0                 0                  0   \n",
       "2                  0                0                 0                  0   \n",
       "3                  3                0                 0                  0   \n",
       "4                  0                0                 0                  0   \n",
       "\n",
       "   PRI_CURRENT_BALANCE           ...             SEC_ACTIVE_ACCTS  \\\n",
       "0                    0           ...                            0   \n",
       "1                    0           ...                            0   \n",
       "2                    0           ...                            0   \n",
       "3                    0           ...                            0   \n",
       "4                    0           ...                            0   \n",
       "\n",
       "   SEC_OVERDUE_ACCTS  PRIMARY_INSTAL_AMT  NEW_ACCTS_IN_LAST_SIX_MONTHS  \\\n",
       "0                  0                   0                             0   \n",
       "1                  0                   0                             0   \n",
       "2                  0                   0                             0   \n",
       "3                  0                   0                             0   \n",
       "4                  0                   0                             0   \n",
       "\n",
       "   DELINQUENT_ACCTS_IN_LAST_SIX_MONTHS  NO_OF_INQUIRIES  loan_default  Age  \\\n",
       "0                                    0                0             0    1   \n",
       "1                                    0                0             1    1   \n",
       "2                                    0                0             0    1   \n",
       "3                                    0                0             1    0   \n",
       "4                                    0                0             1    2   \n",
       "\n",
       "   Avg_Acnt_Age_Mnths  Credit_His_Length_Mnths  \n",
       "0                   0                        0  \n",
       "1                   0                        0  \n",
       "2                   0                        0  \n",
       "3                   0                        0  \n",
       "4                   0                        0  \n",
       "\n",
       "[5 rows x 21 columns]"
      ]
     },
     "execution_count": 77,
     "metadata": {},
     "output_type": "execute_result"
    }
   ],
   "source": [
    "train_df.head()"
   ]
  },
  {
   "cell_type": "code",
   "execution_count": 78,
   "metadata": {},
   "outputs": [
    {
     "data": {
      "text/html": [
       "<div>\n",
       "<style>\n",
       "    .dataframe thead tr:only-child th {\n",
       "        text-align: right;\n",
       "    }\n",
       "\n",
       "    .dataframe thead th {\n",
       "        text-align: left;\n",
       "    }\n",
       "\n",
       "    .dataframe tbody tr th {\n",
       "        vertical-align: top;\n",
       "    }\n",
       "</style>\n",
       "<table border=\"1\" class=\"dataframe\">\n",
       "  <thead>\n",
       "    <tr style=\"text-align: right;\">\n",
       "      <th></th>\n",
       "      <th>UniqueID</th>\n",
       "      <th>ltv</th>\n",
       "      <th>branch_id</th>\n",
       "      <th>manufacturer_id</th>\n",
       "      <th>Employment_Type</th>\n",
       "      <th>State_ID</th>\n",
       "      <th>PERFORM_CNS_SCORE</th>\n",
       "      <th>PRI_NO_OF_ACCTS</th>\n",
       "      <th>PRI_ACTIVE_ACCTS</th>\n",
       "      <th>PRI_OVERDUE_ACCTS</th>\n",
       "      <th>...</th>\n",
       "      <th>SEC_NO_OF_ACCTS</th>\n",
       "      <th>SEC_ACTIVE_ACCTS</th>\n",
       "      <th>SEC_OVERDUE_ACCTS</th>\n",
       "      <th>PRIMARY_INSTAL_AMT</th>\n",
       "      <th>NEW_ACCTS_IN_LAST_SIX_MONTHS</th>\n",
       "      <th>DELINQUENT_ACCTS_IN_LAST_SIX_MONTHS</th>\n",
       "      <th>NO_OF_INQUIRIES</th>\n",
       "      <th>Age</th>\n",
       "      <th>Avg_Acnt_Age_Mnths</th>\n",
       "      <th>Credit_His_Length_Mnths</th>\n",
       "    </tr>\n",
       "  </thead>\n",
       "  <tbody>\n",
       "    <tr>\n",
       "      <th>0</th>\n",
       "      <td>655269</td>\n",
       "      <td>9.0</td>\n",
       "      <td>67</td>\n",
       "      <td>45</td>\n",
       "      <td>2.0</td>\n",
       "      <td>6</td>\n",
       "      <td>0</td>\n",
       "      <td>0</td>\n",
       "      <td>0</td>\n",
       "      <td>0</td>\n",
       "      <td>...</td>\n",
       "      <td>0</td>\n",
       "      <td>0</td>\n",
       "      <td>0</td>\n",
       "      <td>0</td>\n",
       "      <td>0</td>\n",
       "      <td>0</td>\n",
       "      <td>0</td>\n",
       "      <td>2</td>\n",
       "      <td>0</td>\n",
       "      <td>0</td>\n",
       "    </tr>\n",
       "    <tr>\n",
       "      <th>1</th>\n",
       "      <td>723482</td>\n",
       "      <td>9.0</td>\n",
       "      <td>67</td>\n",
       "      <td>45</td>\n",
       "      <td>1.0</td>\n",
       "      <td>6</td>\n",
       "      <td>8</td>\n",
       "      <td>0</td>\n",
       "      <td>0</td>\n",
       "      <td>0</td>\n",
       "      <td>...</td>\n",
       "      <td>0</td>\n",
       "      <td>0</td>\n",
       "      <td>0</td>\n",
       "      <td>0</td>\n",
       "      <td>0</td>\n",
       "      <td>0</td>\n",
       "      <td>0</td>\n",
       "      <td>1</td>\n",
       "      <td>0</td>\n",
       "      <td>0</td>\n",
       "    </tr>\n",
       "    <tr>\n",
       "      <th>2</th>\n",
       "      <td>758529</td>\n",
       "      <td>8.0</td>\n",
       "      <td>78</td>\n",
       "      <td>86</td>\n",
       "      <td>2.0</td>\n",
       "      <td>4</td>\n",
       "      <td>0</td>\n",
       "      <td>0</td>\n",
       "      <td>0</td>\n",
       "      <td>0</td>\n",
       "      <td>...</td>\n",
       "      <td>0</td>\n",
       "      <td>0</td>\n",
       "      <td>0</td>\n",
       "      <td>0</td>\n",
       "      <td>0</td>\n",
       "      <td>0</td>\n",
       "      <td>0</td>\n",
       "      <td>0</td>\n",
       "      <td>0</td>\n",
       "      <td>0</td>\n",
       "    </tr>\n",
       "    <tr>\n",
       "      <th>3</th>\n",
       "      <td>763449</td>\n",
       "      <td>7.0</td>\n",
       "      <td>78</td>\n",
       "      <td>45</td>\n",
       "      <td>1.0</td>\n",
       "      <td>4</td>\n",
       "      <td>0</td>\n",
       "      <td>0</td>\n",
       "      <td>0</td>\n",
       "      <td>0</td>\n",
       "      <td>...</td>\n",
       "      <td>0</td>\n",
       "      <td>0</td>\n",
       "      <td>0</td>\n",
       "      <td>0</td>\n",
       "      <td>0</td>\n",
       "      <td>0</td>\n",
       "      <td>0</td>\n",
       "      <td>2</td>\n",
       "      <td>0</td>\n",
       "      <td>0</td>\n",
       "    </tr>\n",
       "    <tr>\n",
       "      <th>4</th>\n",
       "      <td>708663</td>\n",
       "      <td>8.0</td>\n",
       "      <td>78</td>\n",
       "      <td>45</td>\n",
       "      <td>2.0</td>\n",
       "      <td>4</td>\n",
       "      <td>0</td>\n",
       "      <td>0</td>\n",
       "      <td>0</td>\n",
       "      <td>0</td>\n",
       "      <td>...</td>\n",
       "      <td>0</td>\n",
       "      <td>0</td>\n",
       "      <td>0</td>\n",
       "      <td>0</td>\n",
       "      <td>0</td>\n",
       "      <td>0</td>\n",
       "      <td>0</td>\n",
       "      <td>2</td>\n",
       "      <td>0</td>\n",
       "      <td>0</td>\n",
       "    </tr>\n",
       "  </tbody>\n",
       "</table>\n",
       "<p>5 rows × 21 columns</p>\n",
       "</div>"
      ],
      "text/plain": [
       "   UniqueID  ltv  branch_id  manufacturer_id  Employment_Type  State_ID  \\\n",
       "0    655269  9.0         67               45              2.0         6   \n",
       "1    723482  9.0         67               45              1.0         6   \n",
       "2    758529  8.0         78               86              2.0         4   \n",
       "3    763449  7.0         78               45              1.0         4   \n",
       "4    708663  8.0         78               45              2.0         4   \n",
       "\n",
       "   PERFORM_CNS_SCORE  PRI_NO_OF_ACCTS  PRI_ACTIVE_ACCTS  PRI_OVERDUE_ACCTS  \\\n",
       "0                  0                0                 0                  0   \n",
       "1                  8                0                 0                  0   \n",
       "2                  0                0                 0                  0   \n",
       "3                  0                0                 0                  0   \n",
       "4                  0                0                 0                  0   \n",
       "\n",
       "            ...             SEC_NO_OF_ACCTS  SEC_ACTIVE_ACCTS  \\\n",
       "0           ...                           0                 0   \n",
       "1           ...                           0                 0   \n",
       "2           ...                           0                 0   \n",
       "3           ...                           0                 0   \n",
       "4           ...                           0                 0   \n",
       "\n",
       "   SEC_OVERDUE_ACCTS  PRIMARY_INSTAL_AMT  NEW_ACCTS_IN_LAST_SIX_MONTHS  \\\n",
       "0                  0                   0                             0   \n",
       "1                  0                   0                             0   \n",
       "2                  0                   0                             0   \n",
       "3                  0                   0                             0   \n",
       "4                  0                   0                             0   \n",
       "\n",
       "   DELINQUENT_ACCTS_IN_LAST_SIX_MONTHS  NO_OF_INQUIRIES  Age  \\\n",
       "0                                    0                0    2   \n",
       "1                                    0                0    1   \n",
       "2                                    0                0    0   \n",
       "3                                    0                0    2   \n",
       "4                                    0                0    2   \n",
       "\n",
       "   Avg_Acnt_Age_Mnths  Credit_His_Length_Mnths  \n",
       "0                   0                        0  \n",
       "1                   0                        0  \n",
       "2                   0                        0  \n",
       "3                   0                        0  \n",
       "4                   0                        0  \n",
       "\n",
       "[5 rows x 21 columns]"
      ]
     },
     "execution_count": 78,
     "metadata": {},
     "output_type": "execute_result"
    }
   ],
   "source": [
    "test_df.head()"
   ]
  },
  {
   "cell_type": "code",
   "execution_count": 79,
   "metadata": {},
   "outputs": [
    {
     "data": {
      "text/plain": [
       "((233154, 20), (233154,), (112392, 20))"
      ]
     },
     "execution_count": 79,
     "metadata": {},
     "output_type": "execute_result"
    }
   ],
   "source": [
    "X_train = train_df.drop(\"loan_default\", axis=1)\n",
    "Y_train = train_df[\"loan_default\"]\n",
    "X_test  = test_df.drop(\"UniqueID\", axis=1).copy()\n",
    "X_train.shape, Y_train.shape, X_test.shape"
   ]
  },
  {
   "cell_type": "code",
   "execution_count": 80,
   "metadata": {},
   "outputs": [
    {
     "data": {
      "text/html": [
       "<div>\n",
       "<style>\n",
       "    .dataframe thead tr:only-child th {\n",
       "        text-align: right;\n",
       "    }\n",
       "\n",
       "    .dataframe thead th {\n",
       "        text-align: left;\n",
       "    }\n",
       "\n",
       "    .dataframe tbody tr th {\n",
       "        vertical-align: top;\n",
       "    }\n",
       "</style>\n",
       "<table border=\"1\" class=\"dataframe\">\n",
       "  <thead>\n",
       "    <tr style=\"text-align: right;\">\n",
       "      <th></th>\n",
       "      <th>ltv</th>\n",
       "      <th>branch_id</th>\n",
       "      <th>manufacturer_id</th>\n",
       "      <th>Employment_Type</th>\n",
       "      <th>State_ID</th>\n",
       "      <th>PERFORM_CNS_SCORE</th>\n",
       "      <th>PRI_NO_OF_ACCTS</th>\n",
       "      <th>PRI_ACTIVE_ACCTS</th>\n",
       "      <th>PRI_OVERDUE_ACCTS</th>\n",
       "      <th>PRI_CURRENT_BALANCE</th>\n",
       "      <th>...</th>\n",
       "      <th>SEC_ACTIVE_ACCTS</th>\n",
       "      <th>SEC_OVERDUE_ACCTS</th>\n",
       "      <th>PRIMARY_INSTAL_AMT</th>\n",
       "      <th>NEW_ACCTS_IN_LAST_SIX_MONTHS</th>\n",
       "      <th>DELINQUENT_ACCTS_IN_LAST_SIX_MONTHS</th>\n",
       "      <th>NO_OF_INQUIRIES</th>\n",
       "      <th>loan_default</th>\n",
       "      <th>Age</th>\n",
       "      <th>Avg_Acnt_Age_Mnths</th>\n",
       "      <th>Credit_His_Length_Mnths</th>\n",
       "    </tr>\n",
       "  </thead>\n",
       "  <tbody>\n",
       "    <tr>\n",
       "      <th>0</th>\n",
       "      <td>9.0</td>\n",
       "      <td>67</td>\n",
       "      <td>45</td>\n",
       "      <td>2.0</td>\n",
       "      <td>6</td>\n",
       "      <td>0</td>\n",
       "      <td>0</td>\n",
       "      <td>0</td>\n",
       "      <td>0</td>\n",
       "      <td>0</td>\n",
       "      <td>...</td>\n",
       "      <td>0</td>\n",
       "      <td>0</td>\n",
       "      <td>0</td>\n",
       "      <td>0</td>\n",
       "      <td>0</td>\n",
       "      <td>0</td>\n",
       "      <td>0</td>\n",
       "      <td>1</td>\n",
       "      <td>0</td>\n",
       "      <td>0</td>\n",
       "    </tr>\n",
       "    <tr>\n",
       "      <th>1</th>\n",
       "      <td>7.0</td>\n",
       "      <td>67</td>\n",
       "      <td>45</td>\n",
       "      <td>1.0</td>\n",
       "      <td>6</td>\n",
       "      <td>6</td>\n",
       "      <td>0</td>\n",
       "      <td>0</td>\n",
       "      <td>0</td>\n",
       "      <td>0</td>\n",
       "      <td>...</td>\n",
       "      <td>0</td>\n",
       "      <td>0</td>\n",
       "      <td>0</td>\n",
       "      <td>0</td>\n",
       "      <td>0</td>\n",
       "      <td>0</td>\n",
       "      <td>1</td>\n",
       "      <td>1</td>\n",
       "      <td>0</td>\n",
       "      <td>0</td>\n",
       "    </tr>\n",
       "    <tr>\n",
       "      <th>2</th>\n",
       "      <td>9.0</td>\n",
       "      <td>67</td>\n",
       "      <td>45</td>\n",
       "      <td>1.0</td>\n",
       "      <td>6</td>\n",
       "      <td>0</td>\n",
       "      <td>0</td>\n",
       "      <td>0</td>\n",
       "      <td>0</td>\n",
       "      <td>0</td>\n",
       "      <td>...</td>\n",
       "      <td>0</td>\n",
       "      <td>0</td>\n",
       "      <td>0</td>\n",
       "      <td>0</td>\n",
       "      <td>0</td>\n",
       "      <td>0</td>\n",
       "      <td>0</td>\n",
       "      <td>1</td>\n",
       "      <td>0</td>\n",
       "      <td>0</td>\n",
       "    </tr>\n",
       "    <tr>\n",
       "      <th>3</th>\n",
       "      <td>9.0</td>\n",
       "      <td>67</td>\n",
       "      <td>45</td>\n",
       "      <td>1.0</td>\n",
       "      <td>6</td>\n",
       "      <td>3</td>\n",
       "      <td>0</td>\n",
       "      <td>0</td>\n",
       "      <td>0</td>\n",
       "      <td>0</td>\n",
       "      <td>...</td>\n",
       "      <td>0</td>\n",
       "      <td>0</td>\n",
       "      <td>0</td>\n",
       "      <td>0</td>\n",
       "      <td>0</td>\n",
       "      <td>0</td>\n",
       "      <td>1</td>\n",
       "      <td>0</td>\n",
       "      <td>0</td>\n",
       "      <td>0</td>\n",
       "    </tr>\n",
       "    <tr>\n",
       "      <th>4</th>\n",
       "      <td>9.0</td>\n",
       "      <td>67</td>\n",
       "      <td>45</td>\n",
       "      <td>1.0</td>\n",
       "      <td>6</td>\n",
       "      <td>0</td>\n",
       "      <td>0</td>\n",
       "      <td>0</td>\n",
       "      <td>0</td>\n",
       "      <td>0</td>\n",
       "      <td>...</td>\n",
       "      <td>0</td>\n",
       "      <td>0</td>\n",
       "      <td>0</td>\n",
       "      <td>0</td>\n",
       "      <td>0</td>\n",
       "      <td>0</td>\n",
       "      <td>1</td>\n",
       "      <td>2</td>\n",
       "      <td>0</td>\n",
       "      <td>0</td>\n",
       "    </tr>\n",
       "  </tbody>\n",
       "</table>\n",
       "<p>5 rows × 21 columns</p>\n",
       "</div>"
      ],
      "text/plain": [
       "   ltv  branch_id  manufacturer_id  Employment_Type  State_ID  \\\n",
       "0  9.0         67               45              2.0         6   \n",
       "1  7.0         67               45              1.0         6   \n",
       "2  9.0         67               45              1.0         6   \n",
       "3  9.0         67               45              1.0         6   \n",
       "4  9.0         67               45              1.0         6   \n",
       "\n",
       "   PERFORM_CNS_SCORE  PRI_NO_OF_ACCTS  PRI_ACTIVE_ACCTS  PRI_OVERDUE_ACCTS  \\\n",
       "0                  0                0                 0                  0   \n",
       "1                  6                0                 0                  0   \n",
       "2                  0                0                 0                  0   \n",
       "3                  3                0                 0                  0   \n",
       "4                  0                0                 0                  0   \n",
       "\n",
       "   PRI_CURRENT_BALANCE           ...             SEC_ACTIVE_ACCTS  \\\n",
       "0                    0           ...                            0   \n",
       "1                    0           ...                            0   \n",
       "2                    0           ...                            0   \n",
       "3                    0           ...                            0   \n",
       "4                    0           ...                            0   \n",
       "\n",
       "   SEC_OVERDUE_ACCTS  PRIMARY_INSTAL_AMT  NEW_ACCTS_IN_LAST_SIX_MONTHS  \\\n",
       "0                  0                   0                             0   \n",
       "1                  0                   0                             0   \n",
       "2                  0                   0                             0   \n",
       "3                  0                   0                             0   \n",
       "4                  0                   0                             0   \n",
       "\n",
       "   DELINQUENT_ACCTS_IN_LAST_SIX_MONTHS  NO_OF_INQUIRIES  loan_default  Age  \\\n",
       "0                                    0                0             0    1   \n",
       "1                                    0                0             1    1   \n",
       "2                                    0                0             0    1   \n",
       "3                                    0                0             1    0   \n",
       "4                                    0                0             1    2   \n",
       "\n",
       "   Avg_Acnt_Age_Mnths  Credit_His_Length_Mnths  \n",
       "0                   0                        0  \n",
       "1                   0                        0  \n",
       "2                   0                        0  \n",
       "3                   0                        0  \n",
       "4                   0                        0  \n",
       "\n",
       "[5 rows x 21 columns]"
      ]
     },
     "execution_count": 80,
     "metadata": {},
     "output_type": "execute_result"
    }
   ],
   "source": [
    "train_df.head()"
   ]
  },
  {
   "cell_type": "code",
   "execution_count": 81,
   "metadata": {},
   "outputs": [
    {
     "data": {
      "text/html": [
       "<div>\n",
       "<style>\n",
       "    .dataframe thead tr:only-child th {\n",
       "        text-align: right;\n",
       "    }\n",
       "\n",
       "    .dataframe thead th {\n",
       "        text-align: left;\n",
       "    }\n",
       "\n",
       "    .dataframe tbody tr th {\n",
       "        vertical-align: top;\n",
       "    }\n",
       "</style>\n",
       "<table border=\"1\" class=\"dataframe\">\n",
       "  <thead>\n",
       "    <tr style=\"text-align: right;\">\n",
       "      <th></th>\n",
       "      <th>ltv</th>\n",
       "      <th>branch_id</th>\n",
       "      <th>manufacturer_id</th>\n",
       "      <th>Employment_Type</th>\n",
       "      <th>State_ID</th>\n",
       "      <th>PERFORM_CNS_SCORE</th>\n",
       "      <th>PRI_NO_OF_ACCTS</th>\n",
       "      <th>PRI_ACTIVE_ACCTS</th>\n",
       "      <th>PRI_OVERDUE_ACCTS</th>\n",
       "      <th>PRI_CURRENT_BALANCE</th>\n",
       "      <th>SEC_NO_OF_ACCTS</th>\n",
       "      <th>SEC_ACTIVE_ACCTS</th>\n",
       "      <th>SEC_OVERDUE_ACCTS</th>\n",
       "      <th>PRIMARY_INSTAL_AMT</th>\n",
       "      <th>NEW_ACCTS_IN_LAST_SIX_MONTHS</th>\n",
       "      <th>DELINQUENT_ACCTS_IN_LAST_SIX_MONTHS</th>\n",
       "      <th>NO_OF_INQUIRIES</th>\n",
       "      <th>Age</th>\n",
       "      <th>Avg_Acnt_Age_Mnths</th>\n",
       "      <th>Credit_His_Length_Mnths</th>\n",
       "    </tr>\n",
       "  </thead>\n",
       "  <tbody>\n",
       "    <tr>\n",
       "      <th>0</th>\n",
       "      <td>9.0</td>\n",
       "      <td>67</td>\n",
       "      <td>45</td>\n",
       "      <td>2.0</td>\n",
       "      <td>6</td>\n",
       "      <td>0</td>\n",
       "      <td>0</td>\n",
       "      <td>0</td>\n",
       "      <td>0</td>\n",
       "      <td>0</td>\n",
       "      <td>0</td>\n",
       "      <td>0</td>\n",
       "      <td>0</td>\n",
       "      <td>0</td>\n",
       "      <td>0</td>\n",
       "      <td>0</td>\n",
       "      <td>0</td>\n",
       "      <td>1</td>\n",
       "      <td>0</td>\n",
       "      <td>0</td>\n",
       "    </tr>\n",
       "    <tr>\n",
       "      <th>1</th>\n",
       "      <td>7.0</td>\n",
       "      <td>67</td>\n",
       "      <td>45</td>\n",
       "      <td>1.0</td>\n",
       "      <td>6</td>\n",
       "      <td>6</td>\n",
       "      <td>0</td>\n",
       "      <td>0</td>\n",
       "      <td>0</td>\n",
       "      <td>0</td>\n",
       "      <td>0</td>\n",
       "      <td>0</td>\n",
       "      <td>0</td>\n",
       "      <td>0</td>\n",
       "      <td>0</td>\n",
       "      <td>0</td>\n",
       "      <td>0</td>\n",
       "      <td>1</td>\n",
       "      <td>0</td>\n",
       "      <td>0</td>\n",
       "    </tr>\n",
       "    <tr>\n",
       "      <th>2</th>\n",
       "      <td>9.0</td>\n",
       "      <td>67</td>\n",
       "      <td>45</td>\n",
       "      <td>1.0</td>\n",
       "      <td>6</td>\n",
       "      <td>0</td>\n",
       "      <td>0</td>\n",
       "      <td>0</td>\n",
       "      <td>0</td>\n",
       "      <td>0</td>\n",
       "      <td>0</td>\n",
       "      <td>0</td>\n",
       "      <td>0</td>\n",
       "      <td>0</td>\n",
       "      <td>0</td>\n",
       "      <td>0</td>\n",
       "      <td>0</td>\n",
       "      <td>1</td>\n",
       "      <td>0</td>\n",
       "      <td>0</td>\n",
       "    </tr>\n",
       "    <tr>\n",
       "      <th>3</th>\n",
       "      <td>9.0</td>\n",
       "      <td>67</td>\n",
       "      <td>45</td>\n",
       "      <td>1.0</td>\n",
       "      <td>6</td>\n",
       "      <td>3</td>\n",
       "      <td>0</td>\n",
       "      <td>0</td>\n",
       "      <td>0</td>\n",
       "      <td>0</td>\n",
       "      <td>0</td>\n",
       "      <td>0</td>\n",
       "      <td>0</td>\n",
       "      <td>0</td>\n",
       "      <td>0</td>\n",
       "      <td>0</td>\n",
       "      <td>0</td>\n",
       "      <td>0</td>\n",
       "      <td>0</td>\n",
       "      <td>0</td>\n",
       "    </tr>\n",
       "    <tr>\n",
       "      <th>4</th>\n",
       "      <td>9.0</td>\n",
       "      <td>67</td>\n",
       "      <td>45</td>\n",
       "      <td>1.0</td>\n",
       "      <td>6</td>\n",
       "      <td>0</td>\n",
       "      <td>0</td>\n",
       "      <td>0</td>\n",
       "      <td>0</td>\n",
       "      <td>0</td>\n",
       "      <td>0</td>\n",
       "      <td>0</td>\n",
       "      <td>0</td>\n",
       "      <td>0</td>\n",
       "      <td>0</td>\n",
       "      <td>0</td>\n",
       "      <td>0</td>\n",
       "      <td>2</td>\n",
       "      <td>0</td>\n",
       "      <td>0</td>\n",
       "    </tr>\n",
       "  </tbody>\n",
       "</table>\n",
       "</div>"
      ],
      "text/plain": [
       "   ltv  branch_id  manufacturer_id  Employment_Type  State_ID  \\\n",
       "0  9.0         67               45              2.0         6   \n",
       "1  7.0         67               45              1.0         6   \n",
       "2  9.0         67               45              1.0         6   \n",
       "3  9.0         67               45              1.0         6   \n",
       "4  9.0         67               45              1.0         6   \n",
       "\n",
       "   PERFORM_CNS_SCORE  PRI_NO_OF_ACCTS  PRI_ACTIVE_ACCTS  PRI_OVERDUE_ACCTS  \\\n",
       "0                  0                0                 0                  0   \n",
       "1                  6                0                 0                  0   \n",
       "2                  0                0                 0                  0   \n",
       "3                  3                0                 0                  0   \n",
       "4                  0                0                 0                  0   \n",
       "\n",
       "   PRI_CURRENT_BALANCE  SEC_NO_OF_ACCTS  SEC_ACTIVE_ACCTS  SEC_OVERDUE_ACCTS  \\\n",
       "0                    0                0                 0                  0   \n",
       "1                    0                0                 0                  0   \n",
       "2                    0                0                 0                  0   \n",
       "3                    0                0                 0                  0   \n",
       "4                    0                0                 0                  0   \n",
       "\n",
       "   PRIMARY_INSTAL_AMT  NEW_ACCTS_IN_LAST_SIX_MONTHS  \\\n",
       "0                   0                             0   \n",
       "1                   0                             0   \n",
       "2                   0                             0   \n",
       "3                   0                             0   \n",
       "4                   0                             0   \n",
       "\n",
       "   DELINQUENT_ACCTS_IN_LAST_SIX_MONTHS  NO_OF_INQUIRIES  Age  \\\n",
       "0                                    0                0    1   \n",
       "1                                    0                0    1   \n",
       "2                                    0                0    1   \n",
       "3                                    0                0    0   \n",
       "4                                    0                0    2   \n",
       "\n",
       "   Avg_Acnt_Age_Mnths  Credit_His_Length_Mnths  \n",
       "0                   0                        0  \n",
       "1                   0                        0  \n",
       "2                   0                        0  \n",
       "3                   0                        0  \n",
       "4                   0                        0  "
      ]
     },
     "execution_count": 81,
     "metadata": {},
     "output_type": "execute_result"
    }
   ],
   "source": [
    "X_train.head()\n"
   ]
  },
  {
   "cell_type": "code",
   "execution_count": 82,
   "metadata": {},
   "outputs": [
    {
     "data": {
      "text/html": [
       "<div>\n",
       "<style>\n",
       "    .dataframe thead tr:only-child th {\n",
       "        text-align: right;\n",
       "    }\n",
       "\n",
       "    .dataframe thead th {\n",
       "        text-align: left;\n",
       "    }\n",
       "\n",
       "    .dataframe tbody tr th {\n",
       "        vertical-align: top;\n",
       "    }\n",
       "</style>\n",
       "<table border=\"1\" class=\"dataframe\">\n",
       "  <thead>\n",
       "    <tr style=\"text-align: right;\">\n",
       "      <th></th>\n",
       "      <th>ltv</th>\n",
       "      <th>branch_id</th>\n",
       "      <th>manufacturer_id</th>\n",
       "      <th>Employment_Type</th>\n",
       "      <th>State_ID</th>\n",
       "      <th>PERFORM_CNS_SCORE</th>\n",
       "      <th>PRI_NO_OF_ACCTS</th>\n",
       "      <th>PRI_ACTIVE_ACCTS</th>\n",
       "      <th>PRI_OVERDUE_ACCTS</th>\n",
       "      <th>PRI_CURRENT_BALANCE</th>\n",
       "      <th>SEC_NO_OF_ACCTS</th>\n",
       "      <th>SEC_ACTIVE_ACCTS</th>\n",
       "      <th>SEC_OVERDUE_ACCTS</th>\n",
       "      <th>PRIMARY_INSTAL_AMT</th>\n",
       "      <th>NEW_ACCTS_IN_LAST_SIX_MONTHS</th>\n",
       "      <th>DELINQUENT_ACCTS_IN_LAST_SIX_MONTHS</th>\n",
       "      <th>NO_OF_INQUIRIES</th>\n",
       "      <th>Age</th>\n",
       "      <th>Avg_Acnt_Age_Mnths</th>\n",
       "      <th>Credit_His_Length_Mnths</th>\n",
       "    </tr>\n",
       "  </thead>\n",
       "  <tbody>\n",
       "    <tr>\n",
       "      <th>0</th>\n",
       "      <td>9.0</td>\n",
       "      <td>67</td>\n",
       "      <td>45</td>\n",
       "      <td>2.0</td>\n",
       "      <td>6</td>\n",
       "      <td>0</td>\n",
       "      <td>0</td>\n",
       "      <td>0</td>\n",
       "      <td>0</td>\n",
       "      <td>0</td>\n",
       "      <td>0</td>\n",
       "      <td>0</td>\n",
       "      <td>0</td>\n",
       "      <td>0</td>\n",
       "      <td>0</td>\n",
       "      <td>0</td>\n",
       "      <td>0</td>\n",
       "      <td>2</td>\n",
       "      <td>0</td>\n",
       "      <td>0</td>\n",
       "    </tr>\n",
       "    <tr>\n",
       "      <th>1</th>\n",
       "      <td>9.0</td>\n",
       "      <td>67</td>\n",
       "      <td>45</td>\n",
       "      <td>1.0</td>\n",
       "      <td>6</td>\n",
       "      <td>8</td>\n",
       "      <td>0</td>\n",
       "      <td>0</td>\n",
       "      <td>0</td>\n",
       "      <td>0</td>\n",
       "      <td>0</td>\n",
       "      <td>0</td>\n",
       "      <td>0</td>\n",
       "      <td>0</td>\n",
       "      <td>0</td>\n",
       "      <td>0</td>\n",
       "      <td>0</td>\n",
       "      <td>1</td>\n",
       "      <td>0</td>\n",
       "      <td>0</td>\n",
       "    </tr>\n",
       "    <tr>\n",
       "      <th>2</th>\n",
       "      <td>8.0</td>\n",
       "      <td>78</td>\n",
       "      <td>86</td>\n",
       "      <td>2.0</td>\n",
       "      <td>4</td>\n",
       "      <td>0</td>\n",
       "      <td>0</td>\n",
       "      <td>0</td>\n",
       "      <td>0</td>\n",
       "      <td>0</td>\n",
       "      <td>0</td>\n",
       "      <td>0</td>\n",
       "      <td>0</td>\n",
       "      <td>0</td>\n",
       "      <td>0</td>\n",
       "      <td>0</td>\n",
       "      <td>0</td>\n",
       "      <td>0</td>\n",
       "      <td>0</td>\n",
       "      <td>0</td>\n",
       "    </tr>\n",
       "    <tr>\n",
       "      <th>3</th>\n",
       "      <td>7.0</td>\n",
       "      <td>78</td>\n",
       "      <td>45</td>\n",
       "      <td>1.0</td>\n",
       "      <td>4</td>\n",
       "      <td>0</td>\n",
       "      <td>0</td>\n",
       "      <td>0</td>\n",
       "      <td>0</td>\n",
       "      <td>0</td>\n",
       "      <td>0</td>\n",
       "      <td>0</td>\n",
       "      <td>0</td>\n",
       "      <td>0</td>\n",
       "      <td>0</td>\n",
       "      <td>0</td>\n",
       "      <td>0</td>\n",
       "      <td>2</td>\n",
       "      <td>0</td>\n",
       "      <td>0</td>\n",
       "    </tr>\n",
       "    <tr>\n",
       "      <th>4</th>\n",
       "      <td>8.0</td>\n",
       "      <td>78</td>\n",
       "      <td>45</td>\n",
       "      <td>2.0</td>\n",
       "      <td>4</td>\n",
       "      <td>0</td>\n",
       "      <td>0</td>\n",
       "      <td>0</td>\n",
       "      <td>0</td>\n",
       "      <td>0</td>\n",
       "      <td>0</td>\n",
       "      <td>0</td>\n",
       "      <td>0</td>\n",
       "      <td>0</td>\n",
       "      <td>0</td>\n",
       "      <td>0</td>\n",
       "      <td>0</td>\n",
       "      <td>2</td>\n",
       "      <td>0</td>\n",
       "      <td>0</td>\n",
       "    </tr>\n",
       "  </tbody>\n",
       "</table>\n",
       "</div>"
      ],
      "text/plain": [
       "   ltv  branch_id  manufacturer_id  Employment_Type  State_ID  \\\n",
       "0  9.0         67               45              2.0         6   \n",
       "1  9.0         67               45              1.0         6   \n",
       "2  8.0         78               86              2.0         4   \n",
       "3  7.0         78               45              1.0         4   \n",
       "4  8.0         78               45              2.0         4   \n",
       "\n",
       "   PERFORM_CNS_SCORE  PRI_NO_OF_ACCTS  PRI_ACTIVE_ACCTS  PRI_OVERDUE_ACCTS  \\\n",
       "0                  0                0                 0                  0   \n",
       "1                  8                0                 0                  0   \n",
       "2                  0                0                 0                  0   \n",
       "3                  0                0                 0                  0   \n",
       "4                  0                0                 0                  0   \n",
       "\n",
       "   PRI_CURRENT_BALANCE  SEC_NO_OF_ACCTS  SEC_ACTIVE_ACCTS  SEC_OVERDUE_ACCTS  \\\n",
       "0                    0                0                 0                  0   \n",
       "1                    0                0                 0                  0   \n",
       "2                    0                0                 0                  0   \n",
       "3                    0                0                 0                  0   \n",
       "4                    0                0                 0                  0   \n",
       "\n",
       "   PRIMARY_INSTAL_AMT  NEW_ACCTS_IN_LAST_SIX_MONTHS  \\\n",
       "0                   0                             0   \n",
       "1                   0                             0   \n",
       "2                   0                             0   \n",
       "3                   0                             0   \n",
       "4                   0                             0   \n",
       "\n",
       "   DELINQUENT_ACCTS_IN_LAST_SIX_MONTHS  NO_OF_INQUIRIES  Age  \\\n",
       "0                                    0                0    2   \n",
       "1                                    0                0    1   \n",
       "2                                    0                0    0   \n",
       "3                                    0                0    2   \n",
       "4                                    0                0    2   \n",
       "\n",
       "   Avg_Acnt_Age_Mnths  Credit_His_Length_Mnths  \n",
       "0                   0                        0  \n",
       "1                   0                        0  \n",
       "2                   0                        0  \n",
       "3                   0                        0  \n",
       "4                   0                        0  "
      ]
     },
     "execution_count": 82,
     "metadata": {},
     "output_type": "execute_result"
    }
   ],
   "source": [
    "X_test.head()"
   ]
  },
  {
   "cell_type": "code",
   "execution_count": 83,
   "metadata": {},
   "outputs": [
    {
     "data": {
      "text/plain": [
       "78.29"
      ]
     },
     "execution_count": 83,
     "metadata": {},
     "output_type": "execute_result"
    }
   ],
   "source": [
    "# Logistic Regression\n",
    "\n",
    "logreg = LogisticRegression()\n",
    "logreg.fit(X_train, Y_train)\n",
    "Y_pred = logreg.predict(X_test)\n",
    "acc_log = round(logreg.score(X_train, Y_train) * 100, 2)\n",
    "acc_log"
   ]
  },
  {
   "cell_type": "code",
   "execution_count": 84,
   "metadata": {},
   "outputs": [
    {
     "data": {
      "text/html": [
       "<div>\n",
       "<style>\n",
       "    .dataframe thead tr:only-child th {\n",
       "        text-align: right;\n",
       "    }\n",
       "\n",
       "    .dataframe thead th {\n",
       "        text-align: left;\n",
       "    }\n",
       "\n",
       "    .dataframe tbody tr th {\n",
       "        vertical-align: top;\n",
       "    }\n",
       "</style>\n",
       "<table border=\"1\" class=\"dataframe\">\n",
       "  <thead>\n",
       "    <tr style=\"text-align: right;\">\n",
       "      <th></th>\n",
       "      <th>Feature</th>\n",
       "      <th>Correlation</th>\n",
       "    </tr>\n",
       "  </thead>\n",
       "  <tbody>\n",
       "    <tr>\n",
       "      <th>16</th>\n",
       "      <td>loan_default</td>\n",
       "      <td>0.550977</td>\n",
       "    </tr>\n",
       "    <tr>\n",
       "      <th>18</th>\n",
       "      <td>Avg_Acnt_Age_Mnths</td>\n",
       "      <td>0.298936</td>\n",
       "    </tr>\n",
       "    <tr>\n",
       "      <th>0</th>\n",
       "      <td>branch_id</td>\n",
       "      <td>0.213387</td>\n",
       "    </tr>\n",
       "    <tr>\n",
       "      <th>8</th>\n",
       "      <td>PRI_CURRENT_BALANCE</td>\n",
       "      <td>0.108717</td>\n",
       "    </tr>\n",
       "    <tr>\n",
       "      <th>15</th>\n",
       "      <td>NO_OF_INQUIRIES</td>\n",
       "      <td>0.072414</td>\n",
       "    </tr>\n",
       "    <tr>\n",
       "      <th>6</th>\n",
       "      <td>PRI_ACTIVE_ACCTS</td>\n",
       "      <td>0.051612</td>\n",
       "    </tr>\n",
       "    <tr>\n",
       "      <th>4</th>\n",
       "      <td>PERFORM_CNS_SCORE</td>\n",
       "      <td>0.023598</td>\n",
       "    </tr>\n",
       "    <tr>\n",
       "      <th>11</th>\n",
       "      <td>SEC_OVERDUE_ACCTS</td>\n",
       "      <td>0.003700</td>\n",
       "    </tr>\n",
       "    <tr>\n",
       "      <th>1</th>\n",
       "      <td>manufacturer_id</td>\n",
       "      <td>0.000651</td>\n",
       "    </tr>\n",
       "    <tr>\n",
       "      <th>12</th>\n",
       "      <td>PRIMARY_INSTAL_AMT</td>\n",
       "      <td>0.000000</td>\n",
       "    </tr>\n",
       "    <tr>\n",
       "      <th>2</th>\n",
       "      <td>Employment_Type</td>\n",
       "      <td>-0.003596</td>\n",
       "    </tr>\n",
       "    <tr>\n",
       "      <th>13</th>\n",
       "      <td>NEW_ACCTS_IN_LAST_SIX_MONTHS</td>\n",
       "      <td>-0.006094</td>\n",
       "    </tr>\n",
       "    <tr>\n",
       "      <th>7</th>\n",
       "      <td>PRI_OVERDUE_ACCTS</td>\n",
       "      <td>-0.023558</td>\n",
       "    </tr>\n",
       "    <tr>\n",
       "      <th>5</th>\n",
       "      <td>PRI_NO_OF_ACCTS</td>\n",
       "      <td>-0.038187</td>\n",
       "    </tr>\n",
       "    <tr>\n",
       "      <th>10</th>\n",
       "      <td>SEC_ACTIVE_ACCTS</td>\n",
       "      <td>-0.078818</td>\n",
       "    </tr>\n",
       "    <tr>\n",
       "      <th>17</th>\n",
       "      <td>Age</td>\n",
       "      <td>-0.082434</td>\n",
       "    </tr>\n",
       "    <tr>\n",
       "      <th>14</th>\n",
       "      <td>DELINQUENT_ACCTS_IN_LAST_SIX_MONTHS</td>\n",
       "      <td>-0.082475</td>\n",
       "    </tr>\n",
       "    <tr>\n",
       "      <th>9</th>\n",
       "      <td>SEC_NO_OF_ACCTS</td>\n",
       "      <td>-0.106174</td>\n",
       "    </tr>\n",
       "    <tr>\n",
       "      <th>3</th>\n",
       "      <td>State_ID</td>\n",
       "      <td>-0.150969</td>\n",
       "    </tr>\n",
       "    <tr>\n",
       "      <th>19</th>\n",
       "      <td>Credit_His_Length_Mnths</td>\n",
       "      <td>-0.245687</td>\n",
       "    </tr>\n",
       "  </tbody>\n",
       "</table>\n",
       "</div>"
      ],
      "text/plain": [
       "                                Feature  Correlation\n",
       "16                         loan_default     0.550977\n",
       "18                   Avg_Acnt_Age_Mnths     0.298936\n",
       "0                             branch_id     0.213387\n",
       "8                   PRI_CURRENT_BALANCE     0.108717\n",
       "15                      NO_OF_INQUIRIES     0.072414\n",
       "6                      PRI_ACTIVE_ACCTS     0.051612\n",
       "4                     PERFORM_CNS_SCORE     0.023598\n",
       "11                    SEC_OVERDUE_ACCTS     0.003700\n",
       "1                       manufacturer_id     0.000651\n",
       "12                   PRIMARY_INSTAL_AMT     0.000000\n",
       "2                       Employment_Type    -0.003596\n",
       "13         NEW_ACCTS_IN_LAST_SIX_MONTHS    -0.006094\n",
       "7                     PRI_OVERDUE_ACCTS    -0.023558\n",
       "5                       PRI_NO_OF_ACCTS    -0.038187\n",
       "10                     SEC_ACTIVE_ACCTS    -0.078818\n",
       "17                                  Age    -0.082434\n",
       "14  DELINQUENT_ACCTS_IN_LAST_SIX_MONTHS    -0.082475\n",
       "9                       SEC_NO_OF_ACCTS    -0.106174\n",
       "3                              State_ID    -0.150969\n",
       "19              Credit_His_Length_Mnths    -0.245687"
      ]
     },
     "execution_count": 84,
     "metadata": {},
     "output_type": "execute_result"
    }
   ],
   "source": [
    "coeff_df = pd.DataFrame(train_df.columns.delete(0))\n",
    "coeff_df.columns = ['Feature']\n",
    "coeff_df[\"Correlation\"] = pd.Series(logreg.coef_[0])\n",
    "\n",
    "coeff_df.sort_values(by='Correlation', ascending=False)"
   ]
  },
  {
   "cell_type": "code",
   "execution_count": 85,
   "metadata": {},
   "outputs": [
    {
     "data": {
      "text/plain": [
       "82.37"
      ]
     },
     "execution_count": 85,
     "metadata": {},
     "output_type": "execute_result"
    }
   ],
   "source": []
  },
  {
   "cell_type": "code",
   "execution_count": 86,
   "metadata": {},
   "outputs": [
    {
     "data": {
      "text/plain": [
       "78.29"
      ]
     },
     "execution_count": 86,
     "metadata": {},
     "output_type": "execute_result"
    }
   ],
   "source": [
    "# Perceptron\n",
    "\n",
    "perceptron = Perceptron()\n",
    "perceptron.fit(X_train, Y_train)\n",
    "Y_pred = perceptron.predict(X_test)\n",
    "acc_perceptron = round(perceptron.score(X_train, Y_train) * 100, 2)\n",
    "acc_perceptron"
   ]
  },
  {
   "cell_type": "code",
   "execution_count": 87,
   "metadata": {},
   "outputs": [
    {
     "data": {
      "text/plain": [
       "78.29"
      ]
     },
     "execution_count": 87,
     "metadata": {},
     "output_type": "execute_result"
    }
   ],
   "source": [
    "# Linear SVC\n",
    "\n",
    "linear_svc = LinearSVC()\n",
    "linear_svc.fit(X_train, Y_train)\n",
    "Y_pred = linear_svc.predict(X_test)\n",
    "acc_linear_svc = round(linear_svc.score(X_train, Y_train) * 100, 2)\n",
    "acc_linear_svc"
   ]
  },
  {
   "cell_type": "code",
   "execution_count": 88,
   "metadata": {},
   "outputs": [
    {
     "data": {
      "text/plain": [
       "77.32"
      ]
     },
     "execution_count": 88,
     "metadata": {},
     "output_type": "execute_result"
    }
   ],
   "source": [
    "# KNN\n",
    "\n",
    "knn = KNeighborsClassifier(n_neighbors = 3)\n",
    "knn.fit(X_train, Y_train)\n",
    "Y_pred = knn.predict(X_test)\n",
    "acc_knn = round(knn.score(X_train, Y_train) * 100, 2)\n",
    "acc_knn"
   ]
  },
  {
   "cell_type": "code",
   "execution_count": 99,
   "metadata": {},
   "outputs": [
    {
     "data": {
      "text/plain": [
       "82.37"
      ]
     },
     "execution_count": 99,
     "metadata": {},
     "output_type": "execute_result"
    }
   ],
   "source": [
    "# Random Forest\n",
    "\n",
    "random_forest = RandomForestClassifier(n_estimators=120)\n",
    "random_forest.fit(X_train, Y_train)\n",
    "Y_pred = random_forest.predict(X_test)\n",
    "random_forest.score(X_train, Y_train)\n",
    "acc_random_forest = round(random_forest.score(X_train, Y_train) * 100, 2)\n",
    "acc_random_forest"
   ]
  },
  {
   "cell_type": "code",
   "execution_count": 90,
   "metadata": {},
   "outputs": [
    {
     "data": {
      "text/plain": [
       "55.67"
      ]
     },
     "execution_count": 90,
     "metadata": {},
     "output_type": "execute_result"
    }
   ],
   "source": [
    "# Gaussian Naive Bayes\n",
    "\n",
    "gaussian = GaussianNB()\n",
    "gaussian.fit(X_train, Y_train)\n",
    "Y_pred = gaussian.predict(X_test)\n",
    "acc_gaussian = round(gaussian.score(X_train, Y_train) * 100, 2)\n",
    "acc_gaussian"
   ]
  },
  {
   "cell_type": "code",
   "execution_count": 91,
   "metadata": {},
   "outputs": [
    {
     "data": {
      "text/plain": [
       "32.5"
      ]
     },
     "execution_count": 91,
     "metadata": {},
     "output_type": "execute_result"
    }
   ],
   "source": [
    "# Stochastic Gradient Descent\n",
    "\n",
    "sgd = SGDClassifier()\n",
    "sgd.fit(X_train, Y_train)\n",
    "Y_pred = sgd.predict(X_test)\n",
    "acc_sgd = round(sgd.score(X_train, Y_train) * 100, 2)\n",
    "acc_sgd"
   ]
  },
  {
   "cell_type": "code",
   "execution_count": 102,
   "metadata": {},
   "outputs": [
    {
     "data": {
      "text/plain": [
       "82.37"
      ]
     },
     "execution_count": 102,
     "metadata": {},
     "output_type": "execute_result"
    }
   ],
   "source": [
    "# Decision Tree\n",
    "\n",
    "decision_tree = DecisionTreeClassifier()\n",
    "decision_tree.fit(X_train, Y_train)\n",
    "Y_pred = decision_tree.predict(X_test)\n",
    "acc_decision_tree = round(decision_tree.score(X_train, Y_train) * 100, 2)\n",
    "acc_decision_tree"
   ]
  },
  {
   "cell_type": "code",
   "execution_count": 100,
   "metadata": {},
   "outputs": [
    {
     "data": {
      "text/html": [
       "<div>\n",
       "<style>\n",
       "    .dataframe thead tr:only-child th {\n",
       "        text-align: right;\n",
       "    }\n",
       "\n",
       "    .dataframe thead th {\n",
       "        text-align: left;\n",
       "    }\n",
       "\n",
       "    .dataframe tbody tr th {\n",
       "        vertical-align: top;\n",
       "    }\n",
       "</style>\n",
       "<table border=\"1\" class=\"dataframe\">\n",
       "  <thead>\n",
       "    <tr style=\"text-align: right;\">\n",
       "      <th></th>\n",
       "      <th>Model</th>\n",
       "      <th>Score</th>\n",
       "    </tr>\n",
       "  </thead>\n",
       "  <tbody>\n",
       "    <tr>\n",
       "      <th>2</th>\n",
       "      <td>Random Forest</td>\n",
       "      <td>82.37</td>\n",
       "    </tr>\n",
       "    <tr>\n",
       "      <th>7</th>\n",
       "      <td>Decision Tree</td>\n",
       "      <td>82.37</td>\n",
       "    </tr>\n",
       "    <tr>\n",
       "      <th>1</th>\n",
       "      <td>Logistic Regression</td>\n",
       "      <td>78.29</td>\n",
       "    </tr>\n",
       "    <tr>\n",
       "      <th>4</th>\n",
       "      <td>Perceptron</td>\n",
       "      <td>78.29</td>\n",
       "    </tr>\n",
       "    <tr>\n",
       "      <th>6</th>\n",
       "      <td>Linear SVC</td>\n",
       "      <td>78.29</td>\n",
       "    </tr>\n",
       "    <tr>\n",
       "      <th>0</th>\n",
       "      <td>KNN</td>\n",
       "      <td>77.32</td>\n",
       "    </tr>\n",
       "    <tr>\n",
       "      <th>3</th>\n",
       "      <td>Naive Bayes</td>\n",
       "      <td>55.67</td>\n",
       "    </tr>\n",
       "    <tr>\n",
       "      <th>5</th>\n",
       "      <td>Stochastic Gradient Decent</td>\n",
       "      <td>32.50</td>\n",
       "    </tr>\n",
       "  </tbody>\n",
       "</table>\n",
       "</div>"
      ],
      "text/plain": [
       "                        Model  Score\n",
       "2               Random Forest  82.37\n",
       "7               Decision Tree  82.37\n",
       "1         Logistic Regression  78.29\n",
       "4                  Perceptron  78.29\n",
       "6                  Linear SVC  78.29\n",
       "0                         KNN  77.32\n",
       "3                 Naive Bayes  55.67\n",
       "5  Stochastic Gradient Decent  32.50"
      ]
     },
     "execution_count": 100,
     "metadata": {},
     "output_type": "execute_result"
    }
   ],
   "source": [
    "models = pd.DataFrame({\n",
    "    'Model': ['KNN', 'Logistic Regression', \n",
    "              'Random Forest', 'Naive Bayes', 'Perceptron', \n",
    "              'Stochastic Gradient Decent', 'Linear SVC', \n",
    "              'Decision Tree'],\n",
    "    'Score': [acc_knn, acc_log, \n",
    "              acc_random_forest, acc_gaussian, acc_perceptron, \n",
    "              acc_sgd, acc_linear_svc, acc_decision_tree]})\n",
    "models.sort_values(by='Score', ascending=False)"
   ]
  },
  {
   "cell_type": "code",
   "execution_count": 103,
   "metadata": {},
   "outputs": [],
   "source": [
    "submission = pd.DataFrame({\n",
    "        \"UniqueID\": test_df[\"UniqueID\"],\n",
    "        \"loan_default\": Y_pred\n",
    "    })\n",
    "submission.to_csv('submission.csv', index=False)"
   ]
  }
 ],
 "metadata": {
  "kernelspec": {
   "display_name": "Python 3",
   "language": "python",
   "name": "python3"
  },
  "language_info": {
   "codemirror_mode": {
    "name": "ipython",
    "version": 3
   },
   "file_extension": ".py",
   "mimetype": "text/x-python",
   "name": "python",
   "nbconvert_exporter": "python",
   "pygments_lexer": "ipython3",
   "version": "3.6.1"
  }
 },
 "nbformat": 4,
 "nbformat_minor": 2
}
